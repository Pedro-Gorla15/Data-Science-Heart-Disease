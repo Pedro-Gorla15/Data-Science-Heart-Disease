{
 "cells": [
  {
   "cell_type": "markdown",
   "id": "f63b7c61",
   "metadata": {
    "id": "e2f5c29c"
   },
   "source": [
    "# Abstract Heart Disease\n",
    "\n",
    "- Dataset de variables relevantes para lograr determinar las posibilidades futuras de contraer una enfermedad cardíaca. Según CDC (Centro para el control y prevención de enfermedades), las enfermedades cardíacas son una de las principales causas de muerte para las personas de la mayoría de las razas en los EE. UU. (afroamericanos, indios americanos y nativos de Alaska, y blancos). Varias condiciones de salud, su estilo de vida, su edad y antecedentes familiares pueden aumentar su riesgo de enfermedad cardíaca. Estos se denominan factores de riesgo. Aproximadamente la mitad de todos los estadounidenses (47 %) tienen al menos 1 de 3 factores de riesgo clave de enfermedad cardíaca: presión arterial alta, colesterol alto o tabaquismo. Otros indicadores clave incluyen el estado diabético, la obesidad (IMC alto), no realizar suficiente actividad física o beber demasiado alcohol. Algunos factores de riesgo de enfermedad cardíaca no se pueden controlar, como la edad o los antecedentes familiares, pero se pueden tomar medidas para reducir su riesgo cambiando los factores que puede controlar. Es probable que los factores genéticos desempeñen algún papel en la presión arterial alta, las enfermedades cardíacas y otras afecciones relacionadas. Sin embargo, también es probable que las personas con antecedentes familiares de enfermedades cardíacas compartan entornos comunes y otros factores que pueden aumentar su riesgo. El riesgo de enfermedad cardíaca puede aumentar aún más cuando la herencia se combina con opciones de estilo de vida poco saludables, como fumar cigarrillos y llevar una dieta poco saludable. Detectar y prevenir los factores que más inciden en las enfermedades del corazón es muy importante en el ámbito sanitario. Los desarrollos computacionales, a su vez, permiten la aplicación de métodos de aprendizaje automático para detectar \"patrones\" a partir de los datos, que pueden predecir la condición de un paciente.\n",
    "\n",
    "\n",
    "\n",
    "- El modelo de negocio consistiría en la creación de una app donde el usuario pueda registrar sus variables fisiológicas y físicas relacionadas con la enfermedad cardíaca. Esto ayudaría a informar al usuario si es propenso o no a tener enfermedad cardíaca y anticiparse para prevenirla y luego mandarle al médico los resultados. Los destinatarios de este proyecto serían los usuarios que a través de dicha app, haya un control de los parámetros físicos y fisiológicos y si es probable que pueda sufrir una enfermedad cardíaca, acuda al especialista médico para un diagnóstico oportuno. \n",
    "\n",
    "\n",
    "- La acumulación de placas dentro de las arterias coronarias más grandes, los cambios moleculares asociados con el envejecimiento, la inflamación crónica, la presión arterial alta y la diabetes son causas y factores de riesgo de enfermedades del corazón.\n",
    "\n",
    "\n",
    "- Si bien existen diferentes tipos de enfermedad coronaria, la mayoría de las personas solo se enteran de que tienen la enfermedad después de síntomas como dolor en el pecho, un ataque cardíaco o un paro cardíaco repentino. Este hecho destaca la importancia de las medidas preventivas y las pruebas que pueden predecir con precisión la enfermedad cardíaca en la población antes de que se produzcan resultados negativos como los infartos de miocardio (ataques cardíacos).\n",
    "\n",
    "\n",
    "- Los Centros para el Control y la Prevención de Enfermedades han identificado la presión arterial alta, el colesterol alto en la sangre y el tabaquismo como tres factores de riesgo clave para la enfermedad cardíaca. Aproximadamente la mitad de los estadounidenses tienen al menos uno de estos tres factores de riesgo. El Instituto Nacional del Corazón, los Pulmones y la Sangre destaca una gama más amplia de factores como la edad, el entorno y la ocupación, los antecedentes familiares y la genética, los hábitos de estilo de vida, otras afecciones médicas, la raza o el origen étnico y el sexo para que los médicos los utilicen en el diagnóstico de enfermedades coronarias. El diagnóstico tiende a basarse en una encuesta inicial de estos factores de riesgo comunes, seguida de análisis de sangre y otras pruebas.\n",
    "\n",
    "\n",
    "\n",
    "\n",
    "\n",
    "- Link del Dataset utilizado: https://www.kaggle.com/datasets/kamilpytlak/personal-key-indicators-of-heart-disease?select=heart_2020_cleaned.csv\n"
   ]
  },
  {
   "cell_type": "markdown",
   "id": "0107ef9c",
   "metadata": {
    "id": "988a3cbc"
   },
   "source": [
    "## Hipótesis\n",
    "\n",
    "- ¿La raza aumenta el riesgo de contraer enfermedades cardíacas? ¿La edad y el sexo? ¿Fumar influye en el riesgo de contraer enfermedades cardíacas?\n",
    "\n",
    "\n",
    "- ¿Tener una enfermedad como la diabetes afecta las posibilidades de contraer enfermedad cardíaca?\n",
    "\n",
    "\n",
    "- ¿Un mayor número de masa corporal infiere en las posibilidades de contraer enfermedad cardíaca? ¿Qué relevancia tiene la actividad física y el consumo alcohol?\n",
    "\n",
    "\n",
    "- ¿La dificultad al caminar está relacionada con la salud genética y el tiempo de descanso?\n",
    "\n",
    "\n",
    "- ¿Fumar predispone el hecho de contraer asma?\n",
    "\n",
    "\n",
    "\n",
    "\n",
    "\n",
    "- Estas preguntas y otros cuestionamientos más se desarrollarán a continuación a través de gráficos y valores numéricos.\n",
    "\n",
    "\n",
    "- ¿Se puede identificar algún patrón o característica que indique que una persona tendrá una enfermedad cardíaca?\n",
    "\n"
   ]
  },
  {
   "cell_type": "markdown",
   "id": "ecb7b08f",
   "metadata": {
    "id": "0e827c43"
   },
   "source": [
    "## Objetivo\n",
    "\n",
    "Detectar patrones o variables entre los usuarios / pacientes que permitan identificar personas propensas a tener enfermedades cardíacas."
   ]
  },
  {
   "cell_type": "markdown",
   "id": "83f5f9aa",
   "metadata": {
    "id": "635cfb58"
   },
   "source": [
    "## Contexto Comercial\n",
    "\n",
    "¿Dónde encaja mi modelo dentro de la empresa?\n",
    "La enfermedad cardíaca se encuentra entre las enfermedades crónicas más prevalentes en los Estados Unidos, afecta a millones de estadounidenses cada año y ejerce una carga financiera significativa en la economía. Solo en los Estados Unidos, las enfermedades cardíacas se cobran aproximadamente 647. 000 vidas cada año, lo que las convierte en la principal causa de muerte.\n"
   ]
  },
  {
   "cell_type": "markdown",
   "id": "7e0b88dd",
   "metadata": {
    "id": "590aa843"
   },
   "source": [
    "## Contexto Analítico\n",
    "\n",
    "Los datos provienen de la encuesta anual de los CDC de 2020 y es una parte importante del Sistema de Vigilancia de Factores de Riesgo del Comportamiento (BRFSS), que realiza encuestas telefónicas anuales para recopilar datos sobre el estado de salud de los residentes de EE. UU.\n",
    "\n",
    "Los datos de nuestro dataset provienen de la encuesta anual de los CDC de 2020 de 400.000 adultos, relacionados con su estado de salud. Del dataset que tomamos, el conjunto de datos original de casi 300 variables se redujo a solo unas 20 variables.\n",
    "Hay una variable del dataset llamada enfermedad cardíaca que nos dice si la persona tuvo o no enfermedad cardíaca. Tenemos entonces casos de enfermedad cardíaca anteriores, es decir, nuestro modelo analítico podría ser por aprendizaje supervisado.\n"
   ]
  },
  {
   "cell_type": "markdown",
   "id": "0946fd66",
   "metadata": {},
   "source": [
    "## Significado de Variables"
   ]
  },
  {
   "cell_type": "markdown",
   "id": "1f7a0905",
   "metadata": {},
   "source": [
    "HeartDisease:Encuestados que reportaron tener enfermedad coronaria o infarto de miocardio\n",
    "\n",
    "BMI:Índice de masa corporal\n",
    "\n",
    "Smoking:¿Fumaste al menos 100 cigarrillos en tu vida?\n",
    "\n",
    "Alcohol drinking: Bebedores (hombres adultos que beben más de 14 tragos por semana y mujeres adultas que beben más de 7 tragos por semana)\n",
    "\n",
    "Stroke:¿(Alguna vez le dijeron) (usted tuvo) un derrame cerebral?\n",
    "\n",
    "Physical Health:Pensando en su salud física, que incluye enfermedades y lesiones físicas, ¿durante cuántos días durante los últimos 30 días su salud física no fue buena? (0-30 días)\n",
    "\n",
    "Mental Health:Pensando en su salud mental, ¿durante cuántos días durante los últimos 30 días su salud mental no fue buena? (0-30 días)\n",
    "\n",
    "Diff walking:¿Tiene serias dificultades para caminar o subir escaleras?\n",
    "\n",
    "Sex: Femenino, Masculino\n",
    "\n",
    "Age Category: Categoría de edad de catorce niveles\n",
    "\n",
    "Race:etnia o raza\n",
    "\n",
    "Diabetic: ¿Alguna vez tuvo diabetes?\n",
    "\n",
    "Physical activity:Adultos que informaron haber realizado actividad física o ejercicio durante los últimos 30 días además de su trabajo habitual.\n",
    "\n",
    "Gen Health: Diría usted que en general su salud es...\n",
    "\n",
    "Sleep Time: En promedio, ¿cuántas horas duerme en un período de 24 horas?\n",
    "\n",
    "Asthma: ¿Alguna vez tuvo asma?\n",
    "\n",
    "KidneyDisease: Sin incluir cálculos renales, infección de la vejiga o incontinencia, ¿alguna vez le dijeron que tenía una enfermedad renal?\n",
    "\n",
    "Cancer Skin: ¿ Alguna vez tuvo cancer de piel?\n",
    "\n",
    "\n"
   ]
  },
  {
   "cell_type": "markdown",
   "id": "1dca7f39",
   "metadata": {
    "id": "b3b2643f"
   },
   "source": [
    "# EDA (Exploratory Data Analysis)"
   ]
  },
  {
   "cell_type": "markdown",
   "id": "27e831ea",
   "metadata": {},
   "source": [
    "### Se analizarán los datos mediante gráficas y tablas para lograr explorar la información de nuestro dataset"
   ]
  },
  {
   "cell_type": "code",
   "execution_count": 1,
   "id": "2a270c07",
   "metadata": {
    "id": "31ad6376",
    "outputId": "a90a6090-c94f-4466-9fb6-9e5e21d0122e",
    "scrolled": false
   },
   "outputs": [
    {
     "data": {
      "text/html": [
       "<div>\n",
       "<style scoped>\n",
       "    .dataframe tbody tr th:only-of-type {\n",
       "        vertical-align: middle;\n",
       "    }\n",
       "\n",
       "    .dataframe tbody tr th {\n",
       "        vertical-align: top;\n",
       "    }\n",
       "\n",
       "    .dataframe thead th {\n",
       "        text-align: right;\n",
       "    }\n",
       "</style>\n",
       "<table border=\"1\" class=\"dataframe\">\n",
       "  <thead>\n",
       "    <tr style=\"text-align: right;\">\n",
       "      <th></th>\n",
       "      <th>HeartDisease</th>\n",
       "      <th>BMI</th>\n",
       "      <th>Smoking</th>\n",
       "      <th>AlcoholDrinking</th>\n",
       "      <th>Stroke</th>\n",
       "      <th>PhysicalHealth</th>\n",
       "      <th>MentalHealth</th>\n",
       "      <th>DiffWalking</th>\n",
       "      <th>Sex</th>\n",
       "      <th>AgeCategory</th>\n",
       "      <th>Race</th>\n",
       "      <th>Diabetic</th>\n",
       "      <th>PhysicalActivity</th>\n",
       "      <th>GenHealth</th>\n",
       "      <th>SleepTime</th>\n",
       "      <th>Asthma</th>\n",
       "      <th>KidneyDisease</th>\n",
       "      <th>SkinCancer</th>\n",
       "    </tr>\n",
       "  </thead>\n",
       "  <tbody>\n",
       "    <tr>\n",
       "      <th>0</th>\n",
       "      <td>No</td>\n",
       "      <td>16.60</td>\n",
       "      <td>Yes</td>\n",
       "      <td>No</td>\n",
       "      <td>No</td>\n",
       "      <td>3.0</td>\n",
       "      <td>30.0</td>\n",
       "      <td>No</td>\n",
       "      <td>Female</td>\n",
       "      <td>55-59</td>\n",
       "      <td>White</td>\n",
       "      <td>Yes</td>\n",
       "      <td>Yes</td>\n",
       "      <td>Very good</td>\n",
       "      <td>5.0</td>\n",
       "      <td>Yes</td>\n",
       "      <td>No</td>\n",
       "      <td>Yes</td>\n",
       "    </tr>\n",
       "    <tr>\n",
       "      <th>1</th>\n",
       "      <td>No</td>\n",
       "      <td>20.34</td>\n",
       "      <td>No</td>\n",
       "      <td>No</td>\n",
       "      <td>Yes</td>\n",
       "      <td>0.0</td>\n",
       "      <td>0.0</td>\n",
       "      <td>No</td>\n",
       "      <td>Female</td>\n",
       "      <td>80 or older</td>\n",
       "      <td>White</td>\n",
       "      <td>No</td>\n",
       "      <td>Yes</td>\n",
       "      <td>Very good</td>\n",
       "      <td>7.0</td>\n",
       "      <td>No</td>\n",
       "      <td>No</td>\n",
       "      <td>No</td>\n",
       "    </tr>\n",
       "    <tr>\n",
       "      <th>2</th>\n",
       "      <td>No</td>\n",
       "      <td>26.58</td>\n",
       "      <td>Yes</td>\n",
       "      <td>No</td>\n",
       "      <td>No</td>\n",
       "      <td>20.0</td>\n",
       "      <td>30.0</td>\n",
       "      <td>No</td>\n",
       "      <td>Male</td>\n",
       "      <td>65-69</td>\n",
       "      <td>White</td>\n",
       "      <td>Yes</td>\n",
       "      <td>Yes</td>\n",
       "      <td>Fair</td>\n",
       "      <td>8.0</td>\n",
       "      <td>Yes</td>\n",
       "      <td>No</td>\n",
       "      <td>No</td>\n",
       "    </tr>\n",
       "    <tr>\n",
       "      <th>3</th>\n",
       "      <td>No</td>\n",
       "      <td>24.21</td>\n",
       "      <td>No</td>\n",
       "      <td>No</td>\n",
       "      <td>No</td>\n",
       "      <td>0.0</td>\n",
       "      <td>0.0</td>\n",
       "      <td>No</td>\n",
       "      <td>Female</td>\n",
       "      <td>75-79</td>\n",
       "      <td>White</td>\n",
       "      <td>No</td>\n",
       "      <td>No</td>\n",
       "      <td>Good</td>\n",
       "      <td>6.0</td>\n",
       "      <td>No</td>\n",
       "      <td>No</td>\n",
       "      <td>Yes</td>\n",
       "    </tr>\n",
       "    <tr>\n",
       "      <th>4</th>\n",
       "      <td>No</td>\n",
       "      <td>23.71</td>\n",
       "      <td>No</td>\n",
       "      <td>No</td>\n",
       "      <td>No</td>\n",
       "      <td>28.0</td>\n",
       "      <td>0.0</td>\n",
       "      <td>Yes</td>\n",
       "      <td>Female</td>\n",
       "      <td>40-44</td>\n",
       "      <td>White</td>\n",
       "      <td>No</td>\n",
       "      <td>Yes</td>\n",
       "      <td>Very good</td>\n",
       "      <td>8.0</td>\n",
       "      <td>No</td>\n",
       "      <td>No</td>\n",
       "      <td>No</td>\n",
       "    </tr>\n",
       "    <tr>\n",
       "      <th>...</th>\n",
       "      <td>...</td>\n",
       "      <td>...</td>\n",
       "      <td>...</td>\n",
       "      <td>...</td>\n",
       "      <td>...</td>\n",
       "      <td>...</td>\n",
       "      <td>...</td>\n",
       "      <td>...</td>\n",
       "      <td>...</td>\n",
       "      <td>...</td>\n",
       "      <td>...</td>\n",
       "      <td>...</td>\n",
       "      <td>...</td>\n",
       "      <td>...</td>\n",
       "      <td>...</td>\n",
       "      <td>...</td>\n",
       "      <td>...</td>\n",
       "      <td>...</td>\n",
       "    </tr>\n",
       "    <tr>\n",
       "      <th>319790</th>\n",
       "      <td>Yes</td>\n",
       "      <td>27.41</td>\n",
       "      <td>Yes</td>\n",
       "      <td>No</td>\n",
       "      <td>No</td>\n",
       "      <td>7.0</td>\n",
       "      <td>0.0</td>\n",
       "      <td>Yes</td>\n",
       "      <td>Male</td>\n",
       "      <td>60-64</td>\n",
       "      <td>Hispanic</td>\n",
       "      <td>Yes</td>\n",
       "      <td>No</td>\n",
       "      <td>Fair</td>\n",
       "      <td>6.0</td>\n",
       "      <td>Yes</td>\n",
       "      <td>No</td>\n",
       "      <td>No</td>\n",
       "    </tr>\n",
       "    <tr>\n",
       "      <th>319791</th>\n",
       "      <td>No</td>\n",
       "      <td>29.84</td>\n",
       "      <td>Yes</td>\n",
       "      <td>No</td>\n",
       "      <td>No</td>\n",
       "      <td>0.0</td>\n",
       "      <td>0.0</td>\n",
       "      <td>No</td>\n",
       "      <td>Male</td>\n",
       "      <td>35-39</td>\n",
       "      <td>Hispanic</td>\n",
       "      <td>No</td>\n",
       "      <td>Yes</td>\n",
       "      <td>Very good</td>\n",
       "      <td>5.0</td>\n",
       "      <td>Yes</td>\n",
       "      <td>No</td>\n",
       "      <td>No</td>\n",
       "    </tr>\n",
       "    <tr>\n",
       "      <th>319792</th>\n",
       "      <td>No</td>\n",
       "      <td>24.24</td>\n",
       "      <td>No</td>\n",
       "      <td>No</td>\n",
       "      <td>No</td>\n",
       "      <td>0.0</td>\n",
       "      <td>0.0</td>\n",
       "      <td>No</td>\n",
       "      <td>Female</td>\n",
       "      <td>45-49</td>\n",
       "      <td>Hispanic</td>\n",
       "      <td>No</td>\n",
       "      <td>Yes</td>\n",
       "      <td>Good</td>\n",
       "      <td>6.0</td>\n",
       "      <td>No</td>\n",
       "      <td>No</td>\n",
       "      <td>No</td>\n",
       "    </tr>\n",
       "    <tr>\n",
       "      <th>319793</th>\n",
       "      <td>No</td>\n",
       "      <td>32.81</td>\n",
       "      <td>No</td>\n",
       "      <td>No</td>\n",
       "      <td>No</td>\n",
       "      <td>0.0</td>\n",
       "      <td>0.0</td>\n",
       "      <td>No</td>\n",
       "      <td>Female</td>\n",
       "      <td>25-29</td>\n",
       "      <td>Hispanic</td>\n",
       "      <td>No</td>\n",
       "      <td>No</td>\n",
       "      <td>Good</td>\n",
       "      <td>12.0</td>\n",
       "      <td>No</td>\n",
       "      <td>No</td>\n",
       "      <td>No</td>\n",
       "    </tr>\n",
       "    <tr>\n",
       "      <th>319794</th>\n",
       "      <td>No</td>\n",
       "      <td>46.56</td>\n",
       "      <td>No</td>\n",
       "      <td>No</td>\n",
       "      <td>No</td>\n",
       "      <td>0.0</td>\n",
       "      <td>0.0</td>\n",
       "      <td>No</td>\n",
       "      <td>Female</td>\n",
       "      <td>80 or older</td>\n",
       "      <td>Hispanic</td>\n",
       "      <td>No</td>\n",
       "      <td>Yes</td>\n",
       "      <td>Good</td>\n",
       "      <td>8.0</td>\n",
       "      <td>No</td>\n",
       "      <td>No</td>\n",
       "      <td>No</td>\n",
       "    </tr>\n",
       "  </tbody>\n",
       "</table>\n",
       "<p>319795 rows × 18 columns</p>\n",
       "</div>"
      ],
      "text/plain": [
       "       HeartDisease    BMI Smoking AlcoholDrinking Stroke  PhysicalHealth  \\\n",
       "0                No  16.60     Yes              No     No             3.0   \n",
       "1                No  20.34      No              No    Yes             0.0   \n",
       "2                No  26.58     Yes              No     No            20.0   \n",
       "3                No  24.21      No              No     No             0.0   \n",
       "4                No  23.71      No              No     No            28.0   \n",
       "...             ...    ...     ...             ...    ...             ...   \n",
       "319790          Yes  27.41     Yes              No     No             7.0   \n",
       "319791           No  29.84     Yes              No     No             0.0   \n",
       "319792           No  24.24      No              No     No             0.0   \n",
       "319793           No  32.81      No              No     No             0.0   \n",
       "319794           No  46.56      No              No     No             0.0   \n",
       "\n",
       "        MentalHealth DiffWalking     Sex  AgeCategory      Race Diabetic  \\\n",
       "0               30.0          No  Female        55-59     White      Yes   \n",
       "1                0.0          No  Female  80 or older     White       No   \n",
       "2               30.0          No    Male        65-69     White      Yes   \n",
       "3                0.0          No  Female        75-79     White       No   \n",
       "4                0.0         Yes  Female        40-44     White       No   \n",
       "...              ...         ...     ...          ...       ...      ...   \n",
       "319790           0.0         Yes    Male        60-64  Hispanic      Yes   \n",
       "319791           0.0          No    Male        35-39  Hispanic       No   \n",
       "319792           0.0          No  Female        45-49  Hispanic       No   \n",
       "319793           0.0          No  Female        25-29  Hispanic       No   \n",
       "319794           0.0          No  Female  80 or older  Hispanic       No   \n",
       "\n",
       "       PhysicalActivity  GenHealth  SleepTime Asthma KidneyDisease SkinCancer  \n",
       "0                   Yes  Very good        5.0    Yes            No        Yes  \n",
       "1                   Yes  Very good        7.0     No            No         No  \n",
       "2                   Yes       Fair        8.0    Yes            No         No  \n",
       "3                    No       Good        6.0     No            No        Yes  \n",
       "4                   Yes  Very good        8.0     No            No         No  \n",
       "...                 ...        ...        ...    ...           ...        ...  \n",
       "319790               No       Fair        6.0    Yes            No         No  \n",
       "319791              Yes  Very good        5.0    Yes            No         No  \n",
       "319792              Yes       Good        6.0     No            No         No  \n",
       "319793               No       Good       12.0     No            No         No  \n",
       "319794              Yes       Good        8.0     No            No         No  \n",
       "\n",
       "[319795 rows x 18 columns]"
      ]
     },
     "execution_count": 1,
     "metadata": {},
     "output_type": "execute_result"
    }
   ],
   "source": [
    "import pandas as pd\n",
    "from matplotlib import pyplot as plt\n",
    "import seaborn as sns\n",
    "import numpy as np\n",
    "import warnings\n",
    "warnings.filterwarnings(\"ignore\")\n",
    "\n",
    "\n",
    "df = pd.read_csv('heart_2020_cleaned.csv')\n",
    "df #Leer el dataset inicial"
   ]
  },
  {
   "cell_type": "code",
   "execution_count": 2,
   "id": "05344ed3",
   "metadata": {
    "id": "5c812e52",
    "outputId": "086a9cfa-736f-46ee-d59c-d7449dc4b3ba",
    "scrolled": false
   },
   "outputs": [
    {
     "data": {
      "text/html": [
       "<div>\n",
       "<style scoped>\n",
       "    .dataframe tbody tr th:only-of-type {\n",
       "        vertical-align: middle;\n",
       "    }\n",
       "\n",
       "    .dataframe tbody tr th {\n",
       "        vertical-align: top;\n",
       "    }\n",
       "\n",
       "    .dataframe thead th {\n",
       "        text-align: right;\n",
       "    }\n",
       "</style>\n",
       "<table border=\"1\" class=\"dataframe\">\n",
       "  <thead>\n",
       "    <tr style=\"text-align: right;\">\n",
       "      <th></th>\n",
       "      <th>BMI</th>\n",
       "      <th>PhysicalHealth</th>\n",
       "      <th>MentalHealth</th>\n",
       "      <th>SleepTime</th>\n",
       "    </tr>\n",
       "  </thead>\n",
       "  <tbody>\n",
       "    <tr>\n",
       "      <th>count</th>\n",
       "      <td>319795.000000</td>\n",
       "      <td>319795.00000</td>\n",
       "      <td>319795.000000</td>\n",
       "      <td>319795.000000</td>\n",
       "    </tr>\n",
       "    <tr>\n",
       "      <th>mean</th>\n",
       "      <td>28.325399</td>\n",
       "      <td>3.37171</td>\n",
       "      <td>3.898366</td>\n",
       "      <td>7.097075</td>\n",
       "    </tr>\n",
       "    <tr>\n",
       "      <th>std</th>\n",
       "      <td>6.356100</td>\n",
       "      <td>7.95085</td>\n",
       "      <td>7.955235</td>\n",
       "      <td>1.436007</td>\n",
       "    </tr>\n",
       "    <tr>\n",
       "      <th>min</th>\n",
       "      <td>12.020000</td>\n",
       "      <td>0.00000</td>\n",
       "      <td>0.000000</td>\n",
       "      <td>1.000000</td>\n",
       "    </tr>\n",
       "    <tr>\n",
       "      <th>25%</th>\n",
       "      <td>24.030000</td>\n",
       "      <td>0.00000</td>\n",
       "      <td>0.000000</td>\n",
       "      <td>6.000000</td>\n",
       "    </tr>\n",
       "    <tr>\n",
       "      <th>50%</th>\n",
       "      <td>27.340000</td>\n",
       "      <td>0.00000</td>\n",
       "      <td>0.000000</td>\n",
       "      <td>7.000000</td>\n",
       "    </tr>\n",
       "    <tr>\n",
       "      <th>75%</th>\n",
       "      <td>31.420000</td>\n",
       "      <td>2.00000</td>\n",
       "      <td>3.000000</td>\n",
       "      <td>8.000000</td>\n",
       "    </tr>\n",
       "    <tr>\n",
       "      <th>max</th>\n",
       "      <td>94.850000</td>\n",
       "      <td>30.00000</td>\n",
       "      <td>30.000000</td>\n",
       "      <td>24.000000</td>\n",
       "    </tr>\n",
       "  </tbody>\n",
       "</table>\n",
       "</div>"
      ],
      "text/plain": [
       "                 BMI  PhysicalHealth   MentalHealth      SleepTime\n",
       "count  319795.000000    319795.00000  319795.000000  319795.000000\n",
       "mean       28.325399         3.37171       3.898366       7.097075\n",
       "std         6.356100         7.95085       7.955235       1.436007\n",
       "min        12.020000         0.00000       0.000000       1.000000\n",
       "25%        24.030000         0.00000       0.000000       6.000000\n",
       "50%        27.340000         0.00000       0.000000       7.000000\n",
       "75%        31.420000         2.00000       3.000000       8.000000\n",
       "max        94.850000        30.00000      30.000000      24.000000"
      ]
     },
     "execution_count": 2,
     "metadata": {},
     "output_type": "execute_result"
    }
   ],
   "source": [
    "df.describe()   # Conocer cómo están distribuidos los datos numéricos"
   ]
  },
  {
   "cell_type": "markdown",
   "id": "f366ab64",
   "metadata": {},
   "source": [
    "- No hay valores nulos\n",
    "\n",
    "- Hay indicadores de outliers en todas las columnas "
   ]
  },
  {
   "cell_type": "markdown",
   "id": "efa256f4",
   "metadata": {},
   "source": [
    "### Búsqueda de correlaciones"
   ]
  },
  {
   "cell_type": "code",
   "execution_count": 3,
   "id": "42a587de",
   "metadata": {},
   "outputs": [
    {
     "data": {
      "text/html": [
       "<div>\n",
       "<style scoped>\n",
       "    .dataframe tbody tr th:only-of-type {\n",
       "        vertical-align: middle;\n",
       "    }\n",
       "\n",
       "    .dataframe tbody tr th {\n",
       "        vertical-align: top;\n",
       "    }\n",
       "\n",
       "    .dataframe thead th {\n",
       "        text-align: right;\n",
       "    }\n",
       "</style>\n",
       "<table border=\"1\" class=\"dataframe\">\n",
       "  <thead>\n",
       "    <tr style=\"text-align: right;\">\n",
       "      <th></th>\n",
       "      <th>BMI</th>\n",
       "      <th>PhysicalHealth</th>\n",
       "      <th>MentalHealth</th>\n",
       "      <th>SleepTime</th>\n",
       "    </tr>\n",
       "  </thead>\n",
       "  <tbody>\n",
       "    <tr>\n",
       "      <th>BMI</th>\n",
       "      <td>1.000000</td>\n",
       "      <td>0.109788</td>\n",
       "      <td>0.064131</td>\n",
       "      <td>-0.051822</td>\n",
       "    </tr>\n",
       "    <tr>\n",
       "      <th>PhysicalHealth</th>\n",
       "      <td>0.109788</td>\n",
       "      <td>1.000000</td>\n",
       "      <td>0.287987</td>\n",
       "      <td>-0.061387</td>\n",
       "    </tr>\n",
       "    <tr>\n",
       "      <th>MentalHealth</th>\n",
       "      <td>0.064131</td>\n",
       "      <td>0.287987</td>\n",
       "      <td>1.000000</td>\n",
       "      <td>-0.119717</td>\n",
       "    </tr>\n",
       "    <tr>\n",
       "      <th>SleepTime</th>\n",
       "      <td>-0.051822</td>\n",
       "      <td>-0.061387</td>\n",
       "      <td>-0.119717</td>\n",
       "      <td>1.000000</td>\n",
       "    </tr>\n",
       "  </tbody>\n",
       "</table>\n",
       "</div>"
      ],
      "text/plain": [
       "                     BMI  PhysicalHealth  MentalHealth  SleepTime\n",
       "BMI             1.000000        0.109788      0.064131  -0.051822\n",
       "PhysicalHealth  0.109788        1.000000      0.287987  -0.061387\n",
       "MentalHealth    0.064131        0.287987      1.000000  -0.119717\n",
       "SleepTime      -0.051822       -0.061387     -0.119717   1.000000"
      ]
     },
     "execution_count": 3,
     "metadata": {},
     "output_type": "execute_result"
    }
   ],
   "source": [
    "df.corr()"
   ]
  },
  {
   "cell_type": "code",
   "execution_count": 4,
   "id": "2aa9a648",
   "metadata": {},
   "outputs": [
    {
     "data": {
      "text/plain": [
       "<AxesSubplot:>"
      ]
     },
     "execution_count": 4,
     "metadata": {},
     "output_type": "execute_result"
    },
    {
     "data": {
      "image/png": "[encoded data removed]",
      "text/plain": [
       "<Figure size 432x288 with 2 Axes>"
      ]
     },
     "metadata": {
      "needs_background": "light"
     },
     "output_type": "display_data"
    }
   ],
   "source": [
    "sns.heatmap(df.corr(), cmap='jet')"
   ]
  },
  {
   "cell_type": "markdown",
   "id": "e7938ae1",
   "metadata": {},
   "source": [
    "- No hay una buena correlación entre ninguna de las variables"
   ]
  },
  {
   "cell_type": "markdown",
   "id": "f10fbe3b",
   "metadata": {},
   "source": [
    "### Búsqueda de Posibles Outliers"
   ]
  },
  {
   "cell_type": "code",
   "execution_count": 5,
   "id": "8c751d1d",
   "metadata": {},
   "outputs": [
    {
     "data": {
      "text/plain": [
       "<AxesSubplot:>"
      ]
     },
     "execution_count": 5,
     "metadata": {},
     "output_type": "execute_result"
    },
    {
     "data": {
      "image/png": "[encoded data removed]",
      "text/plain": [
       "<Figure size 864x432 with 1 Axes>"
      ]
     },
     "metadata": {
      "needs_background": "light"
     },
     "output_type": "display_data"
    }
   ],
   "source": [
    "plt.figure (figsize = (12,6))\n",
    "sns.boxplot (data = df)"
   ]
  },
  {
   "cell_type": "markdown",
   "id": "3af9197c",
   "metadata": {},
   "source": [
    "- Se pueden ver muchos outliers en los boxplots, esto es importante tenerlo en cuenta para conocer valores poco comunes."
   ]
  },
  {
   "cell_type": "markdown",
   "id": "f55b506f",
   "metadata": {},
   "source": [
    "#### A continuación se verá cuál es la raza más común en nuestro dataset junto con un gráfico"
   ]
  },
  {
   "cell_type": "code",
   "execution_count": 6,
   "id": "ccc050e4",
   "metadata": {
    "id": "8165dc97",
    "outputId": "1d78cf5b-aa2e-4f94-ce90-25d64cffe13c"
   },
   "outputs": [
    {
     "name": "stdout",
     "output_type": "stream",
     "text": [
      "Race\n",
      "American Indian/Alaskan Native      5202\n",
      "Asian                               8068\n",
      "Black                              22939\n",
      "Hispanic                           27446\n",
      "Other                              10928\n",
      "White                             245212\n",
      "Name: HeartDisease, dtype: int64\n"
     ]
    },
    {
     "data": {
      "image/png": "[encoded data removed]",
      "text/plain": [
       "<Figure size 1080x432 with 1 Axes>"
      ]
     },
     "metadata": {
      "needs_background": "light"
     },
     "output_type": "display_data"
    }
   ],
   "source": [
    "from matplotlib import pyplot as plt\n",
    "\n",
    "People_Per_Race = df.groupby(['Race'])['HeartDisease'].count()\n",
    "print (People_Per_Race)\n",
    "\n",
    "plt.rcParams[\"figure.figsize\"] = (15,6)\n",
    "plt.plot(People_Per_Race, marker = 'o')\n",
    "plt.xlabel('Race Categories')\n",
    "plt.ylabel('Count of People')\n",
    "plt.title('People per Race with Heart Disease')\n",
    "plt.show()\n"
   ]
  },
  {
   "cell_type": "markdown",
   "id": "80932c5b",
   "metadata": {},
   "source": [
    "- La gente de raza blanca es la más común que se repite en este dataset"
   ]
  },
  {
   "cell_type": "markdown",
   "id": "8c792e0c",
   "metadata": {
    "id": "e22b81c0"
   },
   "source": [
    "#### ¿Cuántas personas de este dataset han sufrido enfermedad cardíaca?"
   ]
  },
  {
   "cell_type": "code",
   "execution_count": 7,
   "id": "66a33b9d",
   "metadata": {
    "id": "86f3237a",
    "outputId": "da895d5a-8df7-4a2e-ccf5-da7f9f113ddd"
   },
   "outputs": [
    {
     "data": {
      "text/html": [
       "<div>\n",
       "<style scoped>\n",
       "    .dataframe tbody tr th:only-of-type {\n",
       "        vertical-align: middle;\n",
       "    }\n",
       "\n",
       "    .dataframe tbody tr th {\n",
       "        vertical-align: top;\n",
       "    }\n",
       "\n",
       "    .dataframe thead th {\n",
       "        text-align: right;\n",
       "    }\n",
       "</style>\n",
       "<table border=\"1\" class=\"dataframe\">\n",
       "  <thead>\n",
       "    <tr style=\"text-align: right;\">\n",
       "      <th></th>\n",
       "      <th>HeartDisease</th>\n",
       "      <th>BMI</th>\n",
       "      <th>Smoking</th>\n",
       "      <th>AlcoholDrinking</th>\n",
       "      <th>Stroke</th>\n",
       "      <th>PhysicalHealth</th>\n",
       "      <th>MentalHealth</th>\n",
       "      <th>DiffWalking</th>\n",
       "      <th>Sex</th>\n",
       "      <th>AgeCategory</th>\n",
       "      <th>Race</th>\n",
       "      <th>Diabetic</th>\n",
       "      <th>PhysicalActivity</th>\n",
       "      <th>GenHealth</th>\n",
       "      <th>SleepTime</th>\n",
       "      <th>Asthma</th>\n",
       "      <th>KidneyDisease</th>\n",
       "      <th>SkinCancer</th>\n",
       "    </tr>\n",
       "  </thead>\n",
       "  <tbody>\n",
       "    <tr>\n",
       "      <th>5</th>\n",
       "      <td>Yes</td>\n",
       "      <td>28.87</td>\n",
       "      <td>Yes</td>\n",
       "      <td>No</td>\n",
       "      <td>No</td>\n",
       "      <td>6.0</td>\n",
       "      <td>0.0</td>\n",
       "      <td>Yes</td>\n",
       "      <td>Female</td>\n",
       "      <td>75-79</td>\n",
       "      <td>Black</td>\n",
       "      <td>No</td>\n",
       "      <td>No</td>\n",
       "      <td>Fair</td>\n",
       "      <td>12.0</td>\n",
       "      <td>No</td>\n",
       "      <td>No</td>\n",
       "      <td>No</td>\n",
       "    </tr>\n",
       "    <tr>\n",
       "      <th>10</th>\n",
       "      <td>Yes</td>\n",
       "      <td>34.30</td>\n",
       "      <td>Yes</td>\n",
       "      <td>No</td>\n",
       "      <td>No</td>\n",
       "      <td>30.0</td>\n",
       "      <td>0.0</td>\n",
       "      <td>Yes</td>\n",
       "      <td>Male</td>\n",
       "      <td>60-64</td>\n",
       "      <td>White</td>\n",
       "      <td>Yes</td>\n",
       "      <td>No</td>\n",
       "      <td>Poor</td>\n",
       "      <td>15.0</td>\n",
       "      <td>Yes</td>\n",
       "      <td>No</td>\n",
       "      <td>No</td>\n",
       "    </tr>\n",
       "    <tr>\n",
       "      <th>35</th>\n",
       "      <td>Yes</td>\n",
       "      <td>32.98</td>\n",
       "      <td>Yes</td>\n",
       "      <td>No</td>\n",
       "      <td>Yes</td>\n",
       "      <td>10.0</td>\n",
       "      <td>0.0</td>\n",
       "      <td>Yes</td>\n",
       "      <td>Male</td>\n",
       "      <td>75-79</td>\n",
       "      <td>White</td>\n",
       "      <td>Yes</td>\n",
       "      <td>Yes</td>\n",
       "      <td>Poor</td>\n",
       "      <td>4.0</td>\n",
       "      <td>No</td>\n",
       "      <td>No</td>\n",
       "      <td>Yes</td>\n",
       "    </tr>\n",
       "    <tr>\n",
       "      <th>42</th>\n",
       "      <td>Yes</td>\n",
       "      <td>25.06</td>\n",
       "      <td>No</td>\n",
       "      <td>No</td>\n",
       "      <td>No</td>\n",
       "      <td>0.0</td>\n",
       "      <td>0.0</td>\n",
       "      <td>Yes</td>\n",
       "      <td>Female</td>\n",
       "      <td>80 or older</td>\n",
       "      <td>White</td>\n",
       "      <td>Yes</td>\n",
       "      <td>No</td>\n",
       "      <td>Good</td>\n",
       "      <td>7.0</td>\n",
       "      <td>No</td>\n",
       "      <td>No</td>\n",
       "      <td>Yes</td>\n",
       "    </tr>\n",
       "    <tr>\n",
       "      <th>43</th>\n",
       "      <td>Yes</td>\n",
       "      <td>30.23</td>\n",
       "      <td>Yes</td>\n",
       "      <td>No</td>\n",
       "      <td>No</td>\n",
       "      <td>6.0</td>\n",
       "      <td>2.0</td>\n",
       "      <td>Yes</td>\n",
       "      <td>Female</td>\n",
       "      <td>75-79</td>\n",
       "      <td>White</td>\n",
       "      <td>Yes</td>\n",
       "      <td>Yes</td>\n",
       "      <td>Fair</td>\n",
       "      <td>8.0</td>\n",
       "      <td>No</td>\n",
       "      <td>Yes</td>\n",
       "      <td>No</td>\n",
       "    </tr>\n",
       "    <tr>\n",
       "      <th>...</th>\n",
       "      <td>...</td>\n",
       "      <td>...</td>\n",
       "      <td>...</td>\n",
       "      <td>...</td>\n",
       "      <td>...</td>\n",
       "      <td>...</td>\n",
       "      <td>...</td>\n",
       "      <td>...</td>\n",
       "      <td>...</td>\n",
       "      <td>...</td>\n",
       "      <td>...</td>\n",
       "      <td>...</td>\n",
       "      <td>...</td>\n",
       "      <td>...</td>\n",
       "      <td>...</td>\n",
       "      <td>...</td>\n",
       "      <td>...</td>\n",
       "      <td>...</td>\n",
       "    </tr>\n",
       "    <tr>\n",
       "      <th>319765</th>\n",
       "      <td>Yes</td>\n",
       "      <td>38.45</td>\n",
       "      <td>No</td>\n",
       "      <td>No</td>\n",
       "      <td>Yes</td>\n",
       "      <td>30.0</td>\n",
       "      <td>15.0</td>\n",
       "      <td>Yes</td>\n",
       "      <td>Female</td>\n",
       "      <td>55-59</td>\n",
       "      <td>Hispanic</td>\n",
       "      <td>Yes</td>\n",
       "      <td>Yes</td>\n",
       "      <td>Poor</td>\n",
       "      <td>6.0</td>\n",
       "      <td>Yes</td>\n",
       "      <td>No</td>\n",
       "      <td>No</td>\n",
       "    </tr>\n",
       "    <tr>\n",
       "      <th>319767</th>\n",
       "      <td>Yes</td>\n",
       "      <td>36.21</td>\n",
       "      <td>Yes</td>\n",
       "      <td>No</td>\n",
       "      <td>No</td>\n",
       "      <td>0.0</td>\n",
       "      <td>0.0</td>\n",
       "      <td>Yes</td>\n",
       "      <td>Female</td>\n",
       "      <td>75-79</td>\n",
       "      <td>Hispanic</td>\n",
       "      <td>Yes</td>\n",
       "      <td>Yes</td>\n",
       "      <td>Good</td>\n",
       "      <td>8.0</td>\n",
       "      <td>No</td>\n",
       "      <td>No</td>\n",
       "      <td>No</td>\n",
       "    </tr>\n",
       "    <tr>\n",
       "      <th>319781</th>\n",
       "      <td>Yes</td>\n",
       "      <td>37.12</td>\n",
       "      <td>Yes</td>\n",
       "      <td>No</td>\n",
       "      <td>No</td>\n",
       "      <td>0.0</td>\n",
       "      <td>0.0</td>\n",
       "      <td>No</td>\n",
       "      <td>Male</td>\n",
       "      <td>35-39</td>\n",
       "      <td>Hispanic</td>\n",
       "      <td>No</td>\n",
       "      <td>Yes</td>\n",
       "      <td>Very good</td>\n",
       "      <td>7.0</td>\n",
       "      <td>No</td>\n",
       "      <td>No</td>\n",
       "      <td>No</td>\n",
       "    </tr>\n",
       "    <tr>\n",
       "      <th>319786</th>\n",
       "      <td>Yes</td>\n",
       "      <td>33.20</td>\n",
       "      <td>Yes</td>\n",
       "      <td>No</td>\n",
       "      <td>No</td>\n",
       "      <td>0.0</td>\n",
       "      <td>0.0</td>\n",
       "      <td>No</td>\n",
       "      <td>Female</td>\n",
       "      <td>60-64</td>\n",
       "      <td>Hispanic</td>\n",
       "      <td>Yes</td>\n",
       "      <td>Yes</td>\n",
       "      <td>Very good</td>\n",
       "      <td>8.0</td>\n",
       "      <td>Yes</td>\n",
       "      <td>No</td>\n",
       "      <td>No</td>\n",
       "    </tr>\n",
       "    <tr>\n",
       "      <th>319790</th>\n",
       "      <td>Yes</td>\n",
       "      <td>27.41</td>\n",
       "      <td>Yes</td>\n",
       "      <td>No</td>\n",
       "      <td>No</td>\n",
       "      <td>7.0</td>\n",
       "      <td>0.0</td>\n",
       "      <td>Yes</td>\n",
       "      <td>Male</td>\n",
       "      <td>60-64</td>\n",
       "      <td>Hispanic</td>\n",
       "      <td>Yes</td>\n",
       "      <td>No</td>\n",
       "      <td>Fair</td>\n",
       "      <td>6.0</td>\n",
       "      <td>Yes</td>\n",
       "      <td>No</td>\n",
       "      <td>No</td>\n",
       "    </tr>\n",
       "  </tbody>\n",
       "</table>\n",
       "<p>27373 rows × 18 columns</p>\n",
       "</div>"
      ],
      "text/plain": [
       "       HeartDisease    BMI Smoking AlcoholDrinking Stroke  PhysicalHealth  \\\n",
       "5               Yes  28.87     Yes              No     No             6.0   \n",
       "10              Yes  34.30     Yes              No     No            30.0   \n",
       "35              Yes  32.98     Yes              No    Yes            10.0   \n",
       "42              Yes  25.06      No              No     No             0.0   \n",
       "43              Yes  30.23     Yes              No     No             6.0   \n",
       "...             ...    ...     ...             ...    ...             ...   \n",
       "319765          Yes  38.45      No              No    Yes            30.0   \n",
       "319767          Yes  36.21     Yes              No     No             0.0   \n",
       "319781          Yes  37.12     Yes              No     No             0.0   \n",
       "319786          Yes  33.20     Yes              No     No             0.0   \n",
       "319790          Yes  27.41     Yes              No     No             7.0   \n",
       "\n",
       "        MentalHealth DiffWalking     Sex  AgeCategory      Race Diabetic  \\\n",
       "5                0.0         Yes  Female        75-79     Black       No   \n",
       "10               0.0         Yes    Male        60-64     White      Yes   \n",
       "35               0.0         Yes    Male        75-79     White      Yes   \n",
       "42               0.0         Yes  Female  80 or older     White      Yes   \n",
       "43               2.0         Yes  Female        75-79     White      Yes   \n",
       "...              ...         ...     ...          ...       ...      ...   \n",
       "319765          15.0         Yes  Female        55-59  Hispanic      Yes   \n",
       "319767           0.0         Yes  Female        75-79  Hispanic      Yes   \n",
       "319781           0.0          No    Male        35-39  Hispanic       No   \n",
       "319786           0.0          No  Female        60-64  Hispanic      Yes   \n",
       "319790           0.0         Yes    Male        60-64  Hispanic      Yes   \n",
       "\n",
       "       PhysicalActivity  GenHealth  SleepTime Asthma KidneyDisease SkinCancer  \n",
       "5                    No       Fair       12.0     No            No         No  \n",
       "10                   No       Poor       15.0    Yes            No         No  \n",
       "35                  Yes       Poor        4.0     No            No        Yes  \n",
       "42                   No       Good        7.0     No            No        Yes  \n",
       "43                  Yes       Fair        8.0     No           Yes         No  \n",
       "...                 ...        ...        ...    ...           ...        ...  \n",
       "319765              Yes       Poor        6.0    Yes            No         No  \n",
       "319767              Yes       Good        8.0     No            No         No  \n",
       "319781              Yes  Very good        7.0     No            No         No  \n",
       "319786              Yes  Very good        8.0    Yes            No         No  \n",
       "319790               No       Fair        6.0    Yes            No         No  \n",
       "\n",
       "[27373 rows x 18 columns]"
      ]
     },
     "execution_count": 7,
     "metadata": {},
     "output_type": "execute_result"
    }
   ],
   "source": [
    "Had_Heart_Disease = df[df.HeartDisease == 'Yes'] \n",
    "                       \n",
    "Had_Heart_Disease"
   ]
  },
  {
   "cell_type": "markdown",
   "id": "dd058b62",
   "metadata": {},
   "source": [
    "- 27373 personas han sufrido enfermedad cardíaca"
   ]
  },
  {
   "cell_type": "markdown",
   "id": "ac5ea88c",
   "metadata": {},
   "source": [
    "#### ¿Cuántas mujeres y cuántos hombres sufrieron de enfermedad cardíaca dentro de este dataset?"
   ]
  },
  {
   "cell_type": "code",
   "execution_count": 8,
   "id": "1c85b5cf",
   "metadata": {
    "id": "82b8773f",
    "outputId": "d097c682-2480-4166-8afb-f565306ce108"
   },
   "outputs": [
    {
     "data": {
      "text/plain": [
       "Sex\n",
       "Female    11234\n",
       "Male      16139\n",
       "Name: HeartDisease, dtype: int64"
      ]
     },
     "execution_count": 8,
     "metadata": {},
     "output_type": "execute_result"
    }
   ],
   "source": [
    "Had_Heart_Disease_Sex = Had_Heart_Disease.groupby(['Sex'])['HeartDisease'].count()\n",
    "\n",
    "Had_Heart_Disease_Sex\n"
   ]
  },
  {
   "cell_type": "markdown",
   "id": "44a030eb",
   "metadata": {},
   "source": [
    "- 11234 mujeres tuvieron enfermedad cardíaca y 16139 hombres en este dataset"
   ]
  },
  {
   "cell_type": "markdown",
   "id": "29243d2d",
   "metadata": {},
   "source": [
    "#### De las mujeres que tuvieron enfermedad cardíaca, ¿Cuántas eran fumadoras?"
   ]
  },
  {
   "cell_type": "code",
   "execution_count": 9,
   "id": "e25994a2",
   "metadata": {
    "id": "ad90e63b",
    "outputId": "d0bce4f1-b0c3-4e80-d878-bbacba1ba8db"
   },
   "outputs": [
    {
     "data": {
      "text/plain": [
       "Smoking\n",
       "No     5354\n",
       "Yes    5880\n",
       "Name: HeartDisease, dtype: int64"
      ]
     },
     "execution_count": 9,
     "metadata": {},
     "output_type": "execute_result"
    }
   ],
   "source": [
    "# Women_Heart_Disease = whd\n",
    "\n",
    "whd = Had_Heart_Disease[Had_Heart_Disease.Sex == 'Female']\n",
    "\n",
    "whd\n",
    "\n",
    "whd_and_smoking = whd.groupby(['Smoking'])['HeartDisease'].count()\n",
    "\n",
    "whd_and_smoking "
   ]
  },
  {
   "cell_type": "markdown",
   "id": "c91396d7",
   "metadata": {},
   "source": [
    "- 5880 mujeres tuvieron enfermedad cardíaca y eran fumadoras"
   ]
  },
  {
   "cell_type": "markdown",
   "id": "59a04692",
   "metadata": {},
   "source": [
    "#### De los que tuvieron enfermedad cardíaca, ¿Cuántos eran fumadores?"
   ]
  },
  {
   "cell_type": "code",
   "execution_count": 10,
   "id": "1362441a",
   "metadata": {
    "id": "e6025d21",
    "outputId": "bc3e1847-1313-4576-9459-091828eeec87"
   },
   "outputs": [
    {
     "data": {
      "text/plain": [
       "Smoking\n",
       "No      5982\n",
       "Yes    10157\n",
       "Name: HeartDisease, dtype: int64"
      ]
     },
     "execution_count": 10,
     "metadata": {},
     "output_type": "execute_result"
    }
   ],
   "source": [
    "#Men_Heart_Disease = mhd\n",
    "\n",
    "mhd = Had_Heart_Disease[Had_Heart_Disease.Sex == 'Male']\n",
    "\n",
    "mhd\n",
    "\n",
    "mhd_and_smoking = mhd.groupby(['Smoking'])['HeartDisease'].count()\n",
    "\n",
    "mhd_and_smoking "
   ]
  },
  {
   "cell_type": "markdown",
   "id": "8d74b7fd",
   "metadata": {},
   "source": [
    "- 10157 hombres tuvieron enfermedad cardíaca y eran fumadores"
   ]
  },
  {
   "cell_type": "markdown",
   "id": "4abb6462",
   "metadata": {
    "id": "a1987186"
   },
   "source": [
    "- De las mujeres que han tenido enfermedad cardíaca, 5354 no eran fumadoras y 5880 eran fumadoras. Pareciera que el hecho de ser fumador no hace la diferencia en este caso.\n",
    "\n",
    "\n",
    "- De los hombres que sufrieron de enfermedad cardíaca, 5982 eran no fumadores y 10157 eran fumadores. Pareciera que, según este dataset, fumar implica una diferencia cuando se trata de hombres fumadores y enfermedad cardíaca."
   ]
  },
  {
   "cell_type": "markdown",
   "id": "31b6b9c8",
   "metadata": {},
   "source": [
    "####  Gráfica de género, fumar y la enfermedad cardíaca"
   ]
  },
  {
   "cell_type": "code",
   "execution_count": 11,
   "id": "c403c19f",
   "metadata": {
    "id": "45462e40",
    "outputId": "27c66b6f-9cd5-41cd-c645-31f7d176079b"
   },
   "outputs": [
    {
     "data": {
      "image/png": "[encoded data removed]",
      "text/plain": [
       "<Figure size 864x576 with 1 Axes>"
      ]
     },
     "metadata": {
      "needs_background": "light"
     },
     "output_type": "display_data"
    }
   ],
   "source": [
    "\n",
    "plt.rcParams[\"figure.figsize\"] = (12,8)\n",
    "plt.plot(whd_and_smoking, linestyle='--', color='g', marker='o')\n",
    "plt.plot(mhd_and_smoking, linestyle='--', color='r', marker='o')\n",
    "plt.xlabel('Fumadores')\n",
    "plt.ylabel('Cantidad de personas con Enfermedad Cardíaca')\n",
    "plt.title('¿Cuál es la relación entre fumar, el género y la enfermedad cardíaca?')\n",
    "plt.legend(['Female', 'Male'])\n",
    "plt.show()"
   ]
  },
  {
   "cell_type": "markdown",
   "id": "cc5ebb32",
   "metadata": {
    "id": "6d7deafa"
   },
   "source": [
    "#### Realizaremos un gráfico sobre la comparación del rango de edad tanto para hombres y mujeres que han sufrido enfermedad cardíaca para mostrar la relación entre sexo, edad y enfermedad cardíaca."
   ]
  },
  {
   "cell_type": "code",
   "execution_count": 12,
   "id": "df2c3754",
   "metadata": {
    "id": "48d35088",
    "outputId": "b4b95998-bba5-48ab-831d-e84f1d8d8ff3"
   },
   "outputs": [
    {
     "data": {
      "image/png": "[encoded data removed]",
      "text/plain": [
       "<Figure size 864x576 with 1 Axes>"
      ]
     },
     "metadata": {
      "needs_background": "light"
     },
     "output_type": "display_data"
    }
   ],
   "source": [
    "mhd_and_AgeCategory = mhd.groupby(['AgeCategory'])['HeartDisease'].count()\n",
    "\n",
    "\n",
    "whd_and_AgeCategory = whd.groupby(['AgeCategory'])['HeartDisease'].count()\n",
    "\n",
    "plt.rcParams[\"figure.figsize\"] = (12,8)\n",
    "plt.plot(mhd_and_AgeCategory, linestyle='--', color ='g', marker='o')\n",
    "plt.plot(whd_and_AgeCategory, linestyle='--', color ='r', marker='o')\n",
    "plt.xlabel('Age Category')\n",
    "plt.ylabel('Count of Heart Disease')\n",
    "plt.title('¿Cuál es la relación entre sexo, edad y enfermedad cardíaca?')\n",
    "plt.legend(['Male', 'Female'])\n",
    "plt.show()"
   ]
  },
  {
   "cell_type": "markdown",
   "id": "aacd0e76",
   "metadata": {
    "id": "84c35782"
   },
   "source": [
    "- En esta última visualización vemos que para ambos géneros las posibilidades de contraer enfermedad cardíaca es relativamente igual excepto cuando tanto hombres y mujeres entrar en el rango de edad entre los 70 y 74 años, ahí es cuando los hombres tienen muchas más chances de sufrir una enfermedad cardíaca."
   ]
  },
  {
   "cell_type": "markdown",
   "id": "37fdeb9e",
   "metadata": {},
   "source": [
    "#### Realizaremos un gráfico de categoría de edad en función de la enfermedad cardíaca"
   ]
  },
  {
   "cell_type": "code",
   "execution_count": 13,
   "id": "a8eea8fc",
   "metadata": {
    "id": "92c3eed7",
    "outputId": "7b9411db-f8da-41a3-be74-79e3c9e210ba",
    "scrolled": true
   },
   "outputs": [
    {
     "data": {
      "image/png": "[encoded data removed]",
      "text/plain": [
       "<Figure size 1080x360 with 1 Axes>"
      ]
     },
     "metadata": {},
     "output_type": "display_data"
    }
   ],
   "source": [
    "sns.set(font_scale = 1.5)\n",
    "sns.displot(Had_Heart_Disease.AgeCategory, aspect= 3, color= 'r').set(title= 'Edad y Enfermedad Cardíaca');"
   ]
  },
  {
   "cell_type": "markdown",
   "id": "19ee275e",
   "metadata": {
    "id": "b768b5eb"
   },
   "source": [
    "- Se puede observar claramente que a medida que la categoría de más de 80 años de edad es más vulnerable a sufrir enfermedades cardíacas. La enfermedad cardíaca puede ocurrir a cualquier edad, pero el riesgo aumenta con la edad."
   ]
  },
  {
   "cell_type": "markdown",
   "id": "60d48425",
   "metadata": {
    "id": "1599c52d"
   },
   "source": [
    "- Ahora para todas las personas descriptas en este dataset que han sufrido de enfermedad cardíaca, sería prudente ver la diferencia entre hombres y mujeres y la salud física con los puntos de esa variable yendo de 0 a 30, las columnas representan la media de la Salud Física para cada género. La pregunta que formó la escala de 0 a 30 en la encuesta sobre la enfermedad cardíaca fue: \"Pensando en tu salud física, incluyendo enfermedades corporales o heridas, \"¿durante cuántos días de los 30 días pasados tu salud física no fue buena?\""
   ]
  },
  {
   "cell_type": "markdown",
   "id": "11afb880",
   "metadata": {},
   "source": [
    "#### Realizaremos un gráfico sobre la salud física en función del sexo en base a la pregunta de la encuesta: ¿Cómo estuvo tu salud física en los últimos 30 días?"
   ]
  },
  {
   "cell_type": "code",
   "execution_count": 14,
   "id": "50889e55",
   "metadata": {
    "id": "1f1f740a",
    "outputId": "ab9016ef-48b5-4aff-e06b-c16bcfc689e5"
   },
   "outputs": [
    {
     "data": {
      "image/png": "[encoded data removed]",
      "text/plain": [
       "<Figure size 864x576 with 1 Axes>"
      ]
     },
     "metadata": {},
     "output_type": "display_data"
    }
   ],
   "source": [
    "import seaborn as sns\n",
    "\n",
    "sns.set_style('darkgrid')\n",
    "sns.barplot(x ='Sex', y ='PhysicalHealth', data = Had_Heart_Disease);"
   ]
  },
  {
   "cell_type": "markdown",
   "id": "1f529ef4",
   "metadata": {
    "id": "989b0d0d"
   },
   "source": [
    "#### Para el mismo caso, veamos si fumar está relacionada con tener una mala salud física en los últimos 30 días"
   ]
  },
  {
   "cell_type": "code",
   "execution_count": 15,
   "id": "bbc393ce",
   "metadata": {
    "id": "1f25e435",
    "outputId": "891d8db3-9cbb-466b-d47f-1e997fe24320"
   },
   "outputs": [
    {
     "data": {
      "image/png": "[encoded data removed]",
      "text/plain": [
       "<Figure size 864x576 with 1 Axes>"
      ]
     },
     "metadata": {},
     "output_type": "display_data"
    }
   ],
   "source": [
    "sns.barplot(x ='Sex', y ='PhysicalHealth', data = Had_Heart_Disease, hue = 'Smoking', palette = 'hot', ci=None);"
   ]
  },
  {
   "cell_type": "markdown",
   "id": "bb949a9d",
   "metadata": {
    "id": "50463180"
   },
   "source": [
    "- Se puede ver que tanto para hombres como para mujeres, el hecho de fumar afecta a la salud física."
   ]
  },
  {
   "cell_type": "markdown",
   "id": "59761e2a",
   "metadata": {
    "id": "ab8ff0f6"
   },
   "source": [
    "#### ¿Cuál es la relación entre el índice de masa corporal y la enfermdad cardíaca en hombres? ¿El índice de masa corporal está relcionado con la enfermedad cardíaca?"
   ]
  },
  {
   "cell_type": "code",
   "execution_count": 16,
   "id": "abeddfba",
   "metadata": {
    "id": "ad4dd344",
    "outputId": "8636c3d2-6c12-445d-a33f-ab8f05620887",
    "scrolled": true
   },
   "outputs": [
    {
     "data": {
      "text/html": [
       "<div>\n",
       "<style scoped>\n",
       "    .dataframe tbody tr th:only-of-type {\n",
       "        vertical-align: middle;\n",
       "    }\n",
       "\n",
       "    .dataframe tbody tr th {\n",
       "        vertical-align: top;\n",
       "    }\n",
       "\n",
       "    .dataframe thead th {\n",
       "        text-align: right;\n",
       "    }\n",
       "</style>\n",
       "<table border=\"1\" class=\"dataframe\">\n",
       "  <thead>\n",
       "    <tr style=\"text-align: right;\">\n",
       "      <th></th>\n",
       "      <th>HeartDisease</th>\n",
       "      <th>BMI</th>\n",
       "      <th>Smoking</th>\n",
       "      <th>AlcoholDrinking</th>\n",
       "      <th>Stroke</th>\n",
       "      <th>PhysicalHealth</th>\n",
       "      <th>MentalHealth</th>\n",
       "      <th>DiffWalking</th>\n",
       "      <th>Sex</th>\n",
       "      <th>AgeCategory</th>\n",
       "      <th>Race</th>\n",
       "      <th>Diabetic</th>\n",
       "      <th>PhysicalActivity</th>\n",
       "      <th>GenHealth</th>\n",
       "      <th>SleepTime</th>\n",
       "      <th>Asthma</th>\n",
       "      <th>KidneyDisease</th>\n",
       "      <th>SkinCancer</th>\n",
       "    </tr>\n",
       "  </thead>\n",
       "  <tbody>\n",
       "    <tr>\n",
       "      <th>2</th>\n",
       "      <td>No</td>\n",
       "      <td>26.58</td>\n",
       "      <td>Yes</td>\n",
       "      <td>No</td>\n",
       "      <td>No</td>\n",
       "      <td>20.0</td>\n",
       "      <td>30.0</td>\n",
       "      <td>No</td>\n",
       "      <td>Male</td>\n",
       "      <td>65-69</td>\n",
       "      <td>White</td>\n",
       "      <td>Yes</td>\n",
       "      <td>Yes</td>\n",
       "      <td>Fair</td>\n",
       "      <td>8.0</td>\n",
       "      <td>Yes</td>\n",
       "      <td>No</td>\n",
       "      <td>No</td>\n",
       "    </tr>\n",
       "    <tr>\n",
       "      <th>9</th>\n",
       "      <td>No</td>\n",
       "      <td>40.69</td>\n",
       "      <td>No</td>\n",
       "      <td>No</td>\n",
       "      <td>No</td>\n",
       "      <td>0.0</td>\n",
       "      <td>0.0</td>\n",
       "      <td>Yes</td>\n",
       "      <td>Male</td>\n",
       "      <td>65-69</td>\n",
       "      <td>White</td>\n",
       "      <td>No</td>\n",
       "      <td>Yes</td>\n",
       "      <td>Good</td>\n",
       "      <td>10.0</td>\n",
       "      <td>No</td>\n",
       "      <td>No</td>\n",
       "      <td>No</td>\n",
       "    </tr>\n",
       "    <tr>\n",
       "      <th>10</th>\n",
       "      <td>Yes</td>\n",
       "      <td>34.30</td>\n",
       "      <td>Yes</td>\n",
       "      <td>No</td>\n",
       "      <td>No</td>\n",
       "      <td>30.0</td>\n",
       "      <td>0.0</td>\n",
       "      <td>Yes</td>\n",
       "      <td>Male</td>\n",
       "      <td>60-64</td>\n",
       "      <td>White</td>\n",
       "      <td>Yes</td>\n",
       "      <td>No</td>\n",
       "      <td>Poor</td>\n",
       "      <td>15.0</td>\n",
       "      <td>Yes</td>\n",
       "      <td>No</td>\n",
       "      <td>No</td>\n",
       "    </tr>\n",
       "    <tr>\n",
       "      <th>12</th>\n",
       "      <td>No</td>\n",
       "      <td>28.37</td>\n",
       "      <td>Yes</td>\n",
       "      <td>No</td>\n",
       "      <td>No</td>\n",
       "      <td>0.0</td>\n",
       "      <td>0.0</td>\n",
       "      <td>Yes</td>\n",
       "      <td>Male</td>\n",
       "      <td>75-79</td>\n",
       "      <td>White</td>\n",
       "      <td>Yes</td>\n",
       "      <td>Yes</td>\n",
       "      <td>Very good</td>\n",
       "      <td>8.0</td>\n",
       "      <td>No</td>\n",
       "      <td>No</td>\n",
       "      <td>No</td>\n",
       "    </tr>\n",
       "    <tr>\n",
       "      <th>23</th>\n",
       "      <td>No</td>\n",
       "      <td>25.82</td>\n",
       "      <td>Yes</td>\n",
       "      <td>No</td>\n",
       "      <td>No</td>\n",
       "      <td>0.0</td>\n",
       "      <td>30.0</td>\n",
       "      <td>No</td>\n",
       "      <td>Male</td>\n",
       "      <td>80 or older</td>\n",
       "      <td>White</td>\n",
       "      <td>Yes</td>\n",
       "      <td>Yes</td>\n",
       "      <td>Fair</td>\n",
       "      <td>8.0</td>\n",
       "      <td>No</td>\n",
       "      <td>No</td>\n",
       "      <td>No</td>\n",
       "    </tr>\n",
       "    <tr>\n",
       "      <th>...</th>\n",
       "      <td>...</td>\n",
       "      <td>...</td>\n",
       "      <td>...</td>\n",
       "      <td>...</td>\n",
       "      <td>...</td>\n",
       "      <td>...</td>\n",
       "      <td>...</td>\n",
       "      <td>...</td>\n",
       "      <td>...</td>\n",
       "      <td>...</td>\n",
       "      <td>...</td>\n",
       "      <td>...</td>\n",
       "      <td>...</td>\n",
       "      <td>...</td>\n",
       "      <td>...</td>\n",
       "      <td>...</td>\n",
       "      <td>...</td>\n",
       "      <td>...</td>\n",
       "    </tr>\n",
       "    <tr>\n",
       "      <th>319784</th>\n",
       "      <td>No</td>\n",
       "      <td>26.58</td>\n",
       "      <td>Yes</td>\n",
       "      <td>No</td>\n",
       "      <td>No</td>\n",
       "      <td>0.0</td>\n",
       "      <td>0.0</td>\n",
       "      <td>Yes</td>\n",
       "      <td>Male</td>\n",
       "      <td>75-79</td>\n",
       "      <td>Hispanic</td>\n",
       "      <td>No</td>\n",
       "      <td>Yes</td>\n",
       "      <td>Good</td>\n",
       "      <td>6.0</td>\n",
       "      <td>No</td>\n",
       "      <td>No</td>\n",
       "      <td>No</td>\n",
       "    </tr>\n",
       "    <tr>\n",
       "      <th>319785</th>\n",
       "      <td>No</td>\n",
       "      <td>31.93</td>\n",
       "      <td>No</td>\n",
       "      <td>Yes</td>\n",
       "      <td>No</td>\n",
       "      <td>0.0</td>\n",
       "      <td>0.0</td>\n",
       "      <td>No</td>\n",
       "      <td>Male</td>\n",
       "      <td>65-69</td>\n",
       "      <td>Hispanic</td>\n",
       "      <td>No</td>\n",
       "      <td>Yes</td>\n",
       "      <td>Good</td>\n",
       "      <td>7.0</td>\n",
       "      <td>No</td>\n",
       "      <td>No</td>\n",
       "      <td>No</td>\n",
       "    </tr>\n",
       "    <tr>\n",
       "      <th>319787</th>\n",
       "      <td>No</td>\n",
       "      <td>36.54</td>\n",
       "      <td>No</td>\n",
       "      <td>No</td>\n",
       "      <td>No</td>\n",
       "      <td>7.0</td>\n",
       "      <td>0.0</td>\n",
       "      <td>No</td>\n",
       "      <td>Male</td>\n",
       "      <td>30-34</td>\n",
       "      <td>Hispanic</td>\n",
       "      <td>No</td>\n",
       "      <td>No</td>\n",
       "      <td>Good</td>\n",
       "      <td>9.0</td>\n",
       "      <td>No</td>\n",
       "      <td>No</td>\n",
       "      <td>No</td>\n",
       "    </tr>\n",
       "    <tr>\n",
       "      <th>319790</th>\n",
       "      <td>Yes</td>\n",
       "      <td>27.41</td>\n",
       "      <td>Yes</td>\n",
       "      <td>No</td>\n",
       "      <td>No</td>\n",
       "      <td>7.0</td>\n",
       "      <td>0.0</td>\n",
       "      <td>Yes</td>\n",
       "      <td>Male</td>\n",
       "      <td>60-64</td>\n",
       "      <td>Hispanic</td>\n",
       "      <td>Yes</td>\n",
       "      <td>No</td>\n",
       "      <td>Fair</td>\n",
       "      <td>6.0</td>\n",
       "      <td>Yes</td>\n",
       "      <td>No</td>\n",
       "      <td>No</td>\n",
       "    </tr>\n",
       "    <tr>\n",
       "      <th>319791</th>\n",
       "      <td>No</td>\n",
       "      <td>29.84</td>\n",
       "      <td>Yes</td>\n",
       "      <td>No</td>\n",
       "      <td>No</td>\n",
       "      <td>0.0</td>\n",
       "      <td>0.0</td>\n",
       "      <td>No</td>\n",
       "      <td>Male</td>\n",
       "      <td>35-39</td>\n",
       "      <td>Hispanic</td>\n",
       "      <td>No</td>\n",
       "      <td>Yes</td>\n",
       "      <td>Very good</td>\n",
       "      <td>5.0</td>\n",
       "      <td>Yes</td>\n",
       "      <td>No</td>\n",
       "      <td>No</td>\n",
       "    </tr>\n",
       "  </tbody>\n",
       "</table>\n",
       "<p>111574 rows × 18 columns</p>\n",
       "</div>"
      ],
      "text/plain": [
       "       HeartDisease    BMI Smoking AlcoholDrinking Stroke  PhysicalHealth  \\\n",
       "2                No  26.58     Yes              No     No            20.0   \n",
       "9                No  40.69      No              No     No             0.0   \n",
       "10              Yes  34.30     Yes              No     No            30.0   \n",
       "12               No  28.37     Yes              No     No             0.0   \n",
       "23               No  25.82     Yes              No     No             0.0   \n",
       "...             ...    ...     ...             ...    ...             ...   \n",
       "319784           No  26.58     Yes              No     No             0.0   \n",
       "319785           No  31.93      No             Yes     No             0.0   \n",
       "319787           No  36.54      No              No     No             7.0   \n",
       "319790          Yes  27.41     Yes              No     No             7.0   \n",
       "319791           No  29.84     Yes              No     No             0.0   \n",
       "\n",
       "        MentalHealth DiffWalking   Sex  AgeCategory      Race Diabetic  \\\n",
       "2               30.0          No  Male        65-69     White      Yes   \n",
       "9                0.0         Yes  Male        65-69     White       No   \n",
       "10               0.0         Yes  Male        60-64     White      Yes   \n",
       "12               0.0         Yes  Male        75-79     White      Yes   \n",
       "23              30.0          No  Male  80 or older     White      Yes   \n",
       "...              ...         ...   ...          ...       ...      ...   \n",
       "319784           0.0         Yes  Male        75-79  Hispanic       No   \n",
       "319785           0.0          No  Male        65-69  Hispanic       No   \n",
       "319787           0.0          No  Male        30-34  Hispanic       No   \n",
       "319790           0.0         Yes  Male        60-64  Hispanic      Yes   \n",
       "319791           0.0          No  Male        35-39  Hispanic       No   \n",
       "\n",
       "       PhysicalActivity  GenHealth  SleepTime Asthma KidneyDisease SkinCancer  \n",
       "2                   Yes       Fair        8.0    Yes            No         No  \n",
       "9                   Yes       Good       10.0     No            No         No  \n",
       "10                   No       Poor       15.0    Yes            No         No  \n",
       "12                  Yes  Very good        8.0     No            No         No  \n",
       "23                  Yes       Fair        8.0     No            No         No  \n",
       "...                 ...        ...        ...    ...           ...        ...  \n",
       "319784              Yes       Good        6.0     No            No         No  \n",
       "319785              Yes       Good        7.0     No            No         No  \n",
       "319787               No       Good        9.0     No            No         No  \n",
       "319790               No       Fair        6.0    Yes            No         No  \n",
       "319791              Yes  Very good        5.0    Yes            No         No  \n",
       "\n",
       "[111574 rows x 18 columns]"
      ]
     },
     "execution_count": 16,
     "metadata": {},
     "output_type": "execute_result"
    }
   ],
   "source": [
    "Men_In_Dataset = df[df.Sex == 'Male']\n",
    "\n",
    "Men_High_BMI = Men_In_Dataset[Men_In_Dataset.BMI > 25]\n",
    "\n",
    "Men_High_BMI"
   ]
  },
  {
   "cell_type": "markdown",
   "id": "3675ef39",
   "metadata": {
    "id": "10d7803a"
   },
   "source": [
    "- 111574 Hombres tienen una alta masa corporal. De esos hombres, ¿Cuántos sufrieron enfermedad cardíaca?"
   ]
  },
  {
   "cell_type": "code",
   "execution_count": 17,
   "id": "5185d6d8",
   "metadata": {
    "id": "7cbb7dad",
    "outputId": "305f64e8-27bd-47e1-dc10-bb08b9af8e8c"
   },
   "outputs": [
    {
     "data": {
      "text/html": [
       "<div>\n",
       "<style scoped>\n",
       "    .dataframe tbody tr th:only-of-type {\n",
       "        vertical-align: middle;\n",
       "    }\n",
       "\n",
       "    .dataframe tbody tr th {\n",
       "        vertical-align: top;\n",
       "    }\n",
       "\n",
       "    .dataframe thead th {\n",
       "        text-align: right;\n",
       "    }\n",
       "</style>\n",
       "<table border=\"1\" class=\"dataframe\">\n",
       "  <thead>\n",
       "    <tr style=\"text-align: right;\">\n",
       "      <th></th>\n",
       "      <th>HeartDisease</th>\n",
       "      <th>BMI</th>\n",
       "      <th>Smoking</th>\n",
       "      <th>AlcoholDrinking</th>\n",
       "      <th>Stroke</th>\n",
       "      <th>PhysicalHealth</th>\n",
       "      <th>MentalHealth</th>\n",
       "      <th>DiffWalking</th>\n",
       "      <th>Sex</th>\n",
       "      <th>AgeCategory</th>\n",
       "      <th>Race</th>\n",
       "      <th>Diabetic</th>\n",
       "      <th>PhysicalActivity</th>\n",
       "      <th>GenHealth</th>\n",
       "      <th>SleepTime</th>\n",
       "      <th>Asthma</th>\n",
       "      <th>KidneyDisease</th>\n",
       "      <th>SkinCancer</th>\n",
       "    </tr>\n",
       "  </thead>\n",
       "  <tbody>\n",
       "    <tr>\n",
       "      <th>10</th>\n",
       "      <td>Yes</td>\n",
       "      <td>34.30</td>\n",
       "      <td>Yes</td>\n",
       "      <td>No</td>\n",
       "      <td>No</td>\n",
       "      <td>30.0</td>\n",
       "      <td>0.0</td>\n",
       "      <td>Yes</td>\n",
       "      <td>Male</td>\n",
       "      <td>60-64</td>\n",
       "      <td>White</td>\n",
       "      <td>Yes</td>\n",
       "      <td>No</td>\n",
       "      <td>Poor</td>\n",
       "      <td>15.0</td>\n",
       "      <td>Yes</td>\n",
       "      <td>No</td>\n",
       "      <td>No</td>\n",
       "    </tr>\n",
       "    <tr>\n",
       "      <th>35</th>\n",
       "      <td>Yes</td>\n",
       "      <td>32.98</td>\n",
       "      <td>Yes</td>\n",
       "      <td>No</td>\n",
       "      <td>Yes</td>\n",
       "      <td>10.0</td>\n",
       "      <td>0.0</td>\n",
       "      <td>Yes</td>\n",
       "      <td>Male</td>\n",
       "      <td>75-79</td>\n",
       "      <td>White</td>\n",
       "      <td>Yes</td>\n",
       "      <td>Yes</td>\n",
       "      <td>Poor</td>\n",
       "      <td>4.0</td>\n",
       "      <td>No</td>\n",
       "      <td>No</td>\n",
       "      <td>Yes</td>\n",
       "    </tr>\n",
       "    <tr>\n",
       "      <th>142</th>\n",
       "      <td>Yes</td>\n",
       "      <td>31.48</td>\n",
       "      <td>No</td>\n",
       "      <td>Yes</td>\n",
       "      <td>Yes</td>\n",
       "      <td>20.0</td>\n",
       "      <td>20.0</td>\n",
       "      <td>Yes</td>\n",
       "      <td>Male</td>\n",
       "      <td>65-69</td>\n",
       "      <td>Black</td>\n",
       "      <td>No</td>\n",
       "      <td>No</td>\n",
       "      <td>Fair</td>\n",
       "      <td>7.0</td>\n",
       "      <td>Yes</td>\n",
       "      <td>No</td>\n",
       "      <td>No</td>\n",
       "    </tr>\n",
       "    <tr>\n",
       "      <th>148</th>\n",
       "      <td>Yes</td>\n",
       "      <td>32.14</td>\n",
       "      <td>Yes</td>\n",
       "      <td>No</td>\n",
       "      <td>No</td>\n",
       "      <td>0.0</td>\n",
       "      <td>0.0</td>\n",
       "      <td>No</td>\n",
       "      <td>Male</td>\n",
       "      <td>75-79</td>\n",
       "      <td>White</td>\n",
       "      <td>No</td>\n",
       "      <td>Yes</td>\n",
       "      <td>Good</td>\n",
       "      <td>8.0</td>\n",
       "      <td>Yes</td>\n",
       "      <td>No</td>\n",
       "      <td>Yes</td>\n",
       "    </tr>\n",
       "    <tr>\n",
       "      <th>183</th>\n",
       "      <td>Yes</td>\n",
       "      <td>35.15</td>\n",
       "      <td>Yes</td>\n",
       "      <td>No</td>\n",
       "      <td>No</td>\n",
       "      <td>0.0</td>\n",
       "      <td>0.0</td>\n",
       "      <td>No</td>\n",
       "      <td>Male</td>\n",
       "      <td>70-74</td>\n",
       "      <td>White</td>\n",
       "      <td>No</td>\n",
       "      <td>Yes</td>\n",
       "      <td>Good</td>\n",
       "      <td>8.0</td>\n",
       "      <td>No</td>\n",
       "      <td>No</td>\n",
       "      <td>No</td>\n",
       "    </tr>\n",
       "    <tr>\n",
       "      <th>...</th>\n",
       "      <td>...</td>\n",
       "      <td>...</td>\n",
       "      <td>...</td>\n",
       "      <td>...</td>\n",
       "      <td>...</td>\n",
       "      <td>...</td>\n",
       "      <td>...</td>\n",
       "      <td>...</td>\n",
       "      <td>...</td>\n",
       "      <td>...</td>\n",
       "      <td>...</td>\n",
       "      <td>...</td>\n",
       "      <td>...</td>\n",
       "      <td>...</td>\n",
       "      <td>...</td>\n",
       "      <td>...</td>\n",
       "      <td>...</td>\n",
       "      <td>...</td>\n",
       "    </tr>\n",
       "    <tr>\n",
       "      <th>319703</th>\n",
       "      <td>Yes</td>\n",
       "      <td>29.84</td>\n",
       "      <td>Yes</td>\n",
       "      <td>No</td>\n",
       "      <td>No</td>\n",
       "      <td>0.0</td>\n",
       "      <td>0.0</td>\n",
       "      <td>Yes</td>\n",
       "      <td>Male</td>\n",
       "      <td>75-79</td>\n",
       "      <td>Hispanic</td>\n",
       "      <td>No</td>\n",
       "      <td>No</td>\n",
       "      <td>Good</td>\n",
       "      <td>7.0</td>\n",
       "      <td>No</td>\n",
       "      <td>No</td>\n",
       "      <td>No</td>\n",
       "    </tr>\n",
       "    <tr>\n",
       "      <th>319739</th>\n",
       "      <td>Yes</td>\n",
       "      <td>35.02</td>\n",
       "      <td>No</td>\n",
       "      <td>No</td>\n",
       "      <td>No</td>\n",
       "      <td>15.0</td>\n",
       "      <td>0.0</td>\n",
       "      <td>No</td>\n",
       "      <td>Male</td>\n",
       "      <td>60-64</td>\n",
       "      <td>Hispanic</td>\n",
       "      <td>Yes</td>\n",
       "      <td>Yes</td>\n",
       "      <td>Fair</td>\n",
       "      <td>8.0</td>\n",
       "      <td>No</td>\n",
       "      <td>Yes</td>\n",
       "      <td>No</td>\n",
       "    </tr>\n",
       "    <tr>\n",
       "      <th>319761</th>\n",
       "      <td>Yes</td>\n",
       "      <td>29.43</td>\n",
       "      <td>No</td>\n",
       "      <td>No</td>\n",
       "      <td>No</td>\n",
       "      <td>7.0</td>\n",
       "      <td>0.0</td>\n",
       "      <td>Yes</td>\n",
       "      <td>Male</td>\n",
       "      <td>45-49</td>\n",
       "      <td>Hispanic</td>\n",
       "      <td>No</td>\n",
       "      <td>Yes</td>\n",
       "      <td>Good</td>\n",
       "      <td>6.0</td>\n",
       "      <td>Yes</td>\n",
       "      <td>No</td>\n",
       "      <td>No</td>\n",
       "    </tr>\n",
       "    <tr>\n",
       "      <th>319781</th>\n",
       "      <td>Yes</td>\n",
       "      <td>37.12</td>\n",
       "      <td>Yes</td>\n",
       "      <td>No</td>\n",
       "      <td>No</td>\n",
       "      <td>0.0</td>\n",
       "      <td>0.0</td>\n",
       "      <td>No</td>\n",
       "      <td>Male</td>\n",
       "      <td>35-39</td>\n",
       "      <td>Hispanic</td>\n",
       "      <td>No</td>\n",
       "      <td>Yes</td>\n",
       "      <td>Very good</td>\n",
       "      <td>7.0</td>\n",
       "      <td>No</td>\n",
       "      <td>No</td>\n",
       "      <td>No</td>\n",
       "    </tr>\n",
       "    <tr>\n",
       "      <th>319790</th>\n",
       "      <td>Yes</td>\n",
       "      <td>27.41</td>\n",
       "      <td>Yes</td>\n",
       "      <td>No</td>\n",
       "      <td>No</td>\n",
       "      <td>7.0</td>\n",
       "      <td>0.0</td>\n",
       "      <td>Yes</td>\n",
       "      <td>Male</td>\n",
       "      <td>60-64</td>\n",
       "      <td>Hispanic</td>\n",
       "      <td>Yes</td>\n",
       "      <td>No</td>\n",
       "      <td>Fair</td>\n",
       "      <td>6.0</td>\n",
       "      <td>Yes</td>\n",
       "      <td>No</td>\n",
       "      <td>No</td>\n",
       "    </tr>\n",
       "  </tbody>\n",
       "</table>\n",
       "<p>12755 rows × 18 columns</p>\n",
       "</div>"
      ],
      "text/plain": [
       "       HeartDisease    BMI Smoking AlcoholDrinking Stroke  PhysicalHealth  \\\n",
       "10              Yes  34.30     Yes              No     No            30.0   \n",
       "35              Yes  32.98     Yes              No    Yes            10.0   \n",
       "142             Yes  31.48      No             Yes    Yes            20.0   \n",
       "148             Yes  32.14     Yes              No     No             0.0   \n",
       "183             Yes  35.15     Yes              No     No             0.0   \n",
       "...             ...    ...     ...             ...    ...             ...   \n",
       "319703          Yes  29.84     Yes              No     No             0.0   \n",
       "319739          Yes  35.02      No              No     No            15.0   \n",
       "319761          Yes  29.43      No              No     No             7.0   \n",
       "319781          Yes  37.12     Yes              No     No             0.0   \n",
       "319790          Yes  27.41     Yes              No     No             7.0   \n",
       "\n",
       "        MentalHealth DiffWalking   Sex AgeCategory      Race Diabetic  \\\n",
       "10               0.0         Yes  Male       60-64     White      Yes   \n",
       "35               0.0         Yes  Male       75-79     White      Yes   \n",
       "142             20.0         Yes  Male       65-69     Black       No   \n",
       "148              0.0          No  Male       75-79     White       No   \n",
       "183              0.0          No  Male       70-74     White       No   \n",
       "...              ...         ...   ...         ...       ...      ...   \n",
       "319703           0.0         Yes  Male       75-79  Hispanic       No   \n",
       "319739           0.0          No  Male       60-64  Hispanic      Yes   \n",
       "319761           0.0         Yes  Male       45-49  Hispanic       No   \n",
       "319781           0.0          No  Male       35-39  Hispanic       No   \n",
       "319790           0.0         Yes  Male       60-64  Hispanic      Yes   \n",
       "\n",
       "       PhysicalActivity  GenHealth  SleepTime Asthma KidneyDisease SkinCancer  \n",
       "10                   No       Poor       15.0    Yes            No         No  \n",
       "35                  Yes       Poor        4.0     No            No        Yes  \n",
       "142                  No       Fair        7.0    Yes            No         No  \n",
       "148                 Yes       Good        8.0    Yes            No        Yes  \n",
       "183                 Yes       Good        8.0     No            No         No  \n",
       "...                 ...        ...        ...    ...           ...        ...  \n",
       "319703               No       Good        7.0     No            No         No  \n",
       "319739              Yes       Fair        8.0     No           Yes         No  \n",
       "319761              Yes       Good        6.0    Yes            No         No  \n",
       "319781              Yes  Very good        7.0     No            No         No  \n",
       "319790               No       Fair        6.0    Yes            No         No  \n",
       "\n",
       "[12755 rows x 18 columns]"
      ]
     },
     "execution_count": 17,
     "metadata": {},
     "output_type": "execute_result"
    }
   ],
   "source": [
    "MenHighBM_and_HeartD = Men_High_BMI[Men_High_BMI.HeartDisease == 'Yes']\n",
    "\n",
    "MenHighBM_and_HeartD"
   ]
  },
  {
   "cell_type": "markdown",
   "id": "4590423f",
   "metadata": {
    "id": "41d6df73"
   },
   "source": [
    "- De los 111574 hombres con BMI alto, 12755 sufrieron enfermedad cardíaca"
   ]
  },
  {
   "cell_type": "markdown",
   "id": "a5f82ee1",
   "metadata": {},
   "source": [
    "#### Averiguamos cuántos hombres hay con el BMI bajo"
   ]
  },
  {
   "cell_type": "code",
   "execution_count": 18,
   "id": "6ee914df",
   "metadata": {
    "id": "34edc2f0",
    "outputId": "2c209acd-c4ec-4355-e269-3f9fb2c706e1",
    "scrolled": true
   },
   "outputs": [
    {
     "data": {
      "text/html": [
       "<div>\n",
       "<style scoped>\n",
       "    .dataframe tbody tr th:only-of-type {\n",
       "        vertical-align: middle;\n",
       "    }\n",
       "\n",
       "    .dataframe tbody tr th {\n",
       "        vertical-align: top;\n",
       "    }\n",
       "\n",
       "    .dataframe thead th {\n",
       "        text-align: right;\n",
       "    }\n",
       "</style>\n",
       "<table border=\"1\" class=\"dataframe\">\n",
       "  <thead>\n",
       "    <tr style=\"text-align: right;\">\n",
       "      <th></th>\n",
       "      <th>HeartDisease</th>\n",
       "      <th>BMI</th>\n",
       "      <th>Smoking</th>\n",
       "      <th>AlcoholDrinking</th>\n",
       "      <th>Stroke</th>\n",
       "      <th>PhysicalHealth</th>\n",
       "      <th>MentalHealth</th>\n",
       "      <th>DiffWalking</th>\n",
       "      <th>Sex</th>\n",
       "      <th>AgeCategory</th>\n",
       "      <th>Race</th>\n",
       "      <th>Diabetic</th>\n",
       "      <th>PhysicalActivity</th>\n",
       "      <th>GenHealth</th>\n",
       "      <th>SleepTime</th>\n",
       "      <th>Asthma</th>\n",
       "      <th>KidneyDisease</th>\n",
       "      <th>SkinCancer</th>\n",
       "    </tr>\n",
       "  </thead>\n",
       "  <tbody>\n",
       "    <tr>\n",
       "      <th>19</th>\n",
       "      <td>No</td>\n",
       "      <td>18.13</td>\n",
       "      <td>No</td>\n",
       "      <td>No</td>\n",
       "      <td>No</td>\n",
       "      <td>0.0</td>\n",
       "      <td>0.0</td>\n",
       "      <td>No</td>\n",
       "      <td>Male</td>\n",
       "      <td>80 or older</td>\n",
       "      <td>White</td>\n",
       "      <td>No</td>\n",
       "      <td>Yes</td>\n",
       "      <td>Excellent</td>\n",
       "      <td>8.0</td>\n",
       "      <td>No</td>\n",
       "      <td>No</td>\n",
       "      <td>Yes</td>\n",
       "    </tr>\n",
       "    <tr>\n",
       "      <th>284</th>\n",
       "      <td>No</td>\n",
       "      <td>18.83</td>\n",
       "      <td>Yes</td>\n",
       "      <td>Yes</td>\n",
       "      <td>Yes</td>\n",
       "      <td>30.0</td>\n",
       "      <td>0.0</td>\n",
       "      <td>No</td>\n",
       "      <td>Male</td>\n",
       "      <td>70-74</td>\n",
       "      <td>White</td>\n",
       "      <td>No</td>\n",
       "      <td>No</td>\n",
       "      <td>Good</td>\n",
       "      <td>4.0</td>\n",
       "      <td>No</td>\n",
       "      <td>No</td>\n",
       "      <td>Yes</td>\n",
       "    </tr>\n",
       "    <tr>\n",
       "      <th>474</th>\n",
       "      <td>No</td>\n",
       "      <td>18.99</td>\n",
       "      <td>Yes</td>\n",
       "      <td>No</td>\n",
       "      <td>No</td>\n",
       "      <td>10.0</td>\n",
       "      <td>0.0</td>\n",
       "      <td>No</td>\n",
       "      <td>Male</td>\n",
       "      <td>65-69</td>\n",
       "      <td>White</td>\n",
       "      <td>No</td>\n",
       "      <td>Yes</td>\n",
       "      <td>Excellent</td>\n",
       "      <td>6.0</td>\n",
       "      <td>No</td>\n",
       "      <td>No</td>\n",
       "      <td>No</td>\n",
       "    </tr>\n",
       "    <tr>\n",
       "      <th>537</th>\n",
       "      <td>No</td>\n",
       "      <td>17.55</td>\n",
       "      <td>No</td>\n",
       "      <td>No</td>\n",
       "      <td>No</td>\n",
       "      <td>0.0</td>\n",
       "      <td>0.0</td>\n",
       "      <td>No</td>\n",
       "      <td>Male</td>\n",
       "      <td>70-74</td>\n",
       "      <td>White</td>\n",
       "      <td>No</td>\n",
       "      <td>Yes</td>\n",
       "      <td>Good</td>\n",
       "      <td>6.0</td>\n",
       "      <td>No</td>\n",
       "      <td>No</td>\n",
       "      <td>No</td>\n",
       "    </tr>\n",
       "    <tr>\n",
       "      <th>668</th>\n",
       "      <td>No</td>\n",
       "      <td>19.21</td>\n",
       "      <td>Yes</td>\n",
       "      <td>No</td>\n",
       "      <td>No</td>\n",
       "      <td>29.0</td>\n",
       "      <td>0.0</td>\n",
       "      <td>Yes</td>\n",
       "      <td>Male</td>\n",
       "      <td>70-74</td>\n",
       "      <td>White</td>\n",
       "      <td>Yes</td>\n",
       "      <td>No</td>\n",
       "      <td>Fair</td>\n",
       "      <td>10.0</td>\n",
       "      <td>No</td>\n",
       "      <td>Yes</td>\n",
       "      <td>No</td>\n",
       "    </tr>\n",
       "    <tr>\n",
       "      <th>...</th>\n",
       "      <td>...</td>\n",
       "      <td>...</td>\n",
       "      <td>...</td>\n",
       "      <td>...</td>\n",
       "      <td>...</td>\n",
       "      <td>...</td>\n",
       "      <td>...</td>\n",
       "      <td>...</td>\n",
       "      <td>...</td>\n",
       "      <td>...</td>\n",
       "      <td>...</td>\n",
       "      <td>...</td>\n",
       "      <td>...</td>\n",
       "      <td>...</td>\n",
       "      <td>...</td>\n",
       "      <td>...</td>\n",
       "      <td>...</td>\n",
       "      <td>...</td>\n",
       "    </tr>\n",
       "    <tr>\n",
       "      <th>319451</th>\n",
       "      <td>No</td>\n",
       "      <td>19.94</td>\n",
       "      <td>No</td>\n",
       "      <td>No</td>\n",
       "      <td>No</td>\n",
       "      <td>0.0</td>\n",
       "      <td>0.0</td>\n",
       "      <td>No</td>\n",
       "      <td>Male</td>\n",
       "      <td>70-74</td>\n",
       "      <td>Hispanic</td>\n",
       "      <td>Yes</td>\n",
       "      <td>Yes</td>\n",
       "      <td>Excellent</td>\n",
       "      <td>8.0</td>\n",
       "      <td>No</td>\n",
       "      <td>No</td>\n",
       "      <td>No</td>\n",
       "    </tr>\n",
       "    <tr>\n",
       "      <th>319455</th>\n",
       "      <td>No</td>\n",
       "      <td>19.77</td>\n",
       "      <td>Yes</td>\n",
       "      <td>Yes</td>\n",
       "      <td>No</td>\n",
       "      <td>0.0</td>\n",
       "      <td>0.0</td>\n",
       "      <td>No</td>\n",
       "      <td>Male</td>\n",
       "      <td>25-29</td>\n",
       "      <td>Hispanic</td>\n",
       "      <td>No</td>\n",
       "      <td>No</td>\n",
       "      <td>Excellent</td>\n",
       "      <td>8.0</td>\n",
       "      <td>No</td>\n",
       "      <td>No</td>\n",
       "      <td>No</td>\n",
       "    </tr>\n",
       "    <tr>\n",
       "      <th>319602</th>\n",
       "      <td>No</td>\n",
       "      <td>17.94</td>\n",
       "      <td>Yes</td>\n",
       "      <td>No</td>\n",
       "      <td>No</td>\n",
       "      <td>30.0</td>\n",
       "      <td>0.0</td>\n",
       "      <td>No</td>\n",
       "      <td>Male</td>\n",
       "      <td>55-59</td>\n",
       "      <td>Hispanic</td>\n",
       "      <td>Yes</td>\n",
       "      <td>No</td>\n",
       "      <td>Fair</td>\n",
       "      <td>8.0</td>\n",
       "      <td>No</td>\n",
       "      <td>No</td>\n",
       "      <td>No</td>\n",
       "    </tr>\n",
       "    <tr>\n",
       "      <th>319732</th>\n",
       "      <td>No</td>\n",
       "      <td>18.79</td>\n",
       "      <td>No</td>\n",
       "      <td>Yes</td>\n",
       "      <td>No</td>\n",
       "      <td>30.0</td>\n",
       "      <td>15.0</td>\n",
       "      <td>Yes</td>\n",
       "      <td>Male</td>\n",
       "      <td>55-59</td>\n",
       "      <td>Hispanic</td>\n",
       "      <td>No</td>\n",
       "      <td>No</td>\n",
       "      <td>Fair</td>\n",
       "      <td>6.0</td>\n",
       "      <td>Yes</td>\n",
       "      <td>No</td>\n",
       "      <td>No</td>\n",
       "    </tr>\n",
       "    <tr>\n",
       "      <th>319733</th>\n",
       "      <td>No</td>\n",
       "      <td>19.01</td>\n",
       "      <td>No</td>\n",
       "      <td>No</td>\n",
       "      <td>No</td>\n",
       "      <td>0.0</td>\n",
       "      <td>0.0</td>\n",
       "      <td>No</td>\n",
       "      <td>Male</td>\n",
       "      <td>18-24</td>\n",
       "      <td>Hispanic</td>\n",
       "      <td>No</td>\n",
       "      <td>No</td>\n",
       "      <td>Good</td>\n",
       "      <td>8.0</td>\n",
       "      <td>No</td>\n",
       "      <td>No</td>\n",
       "      <td>No</td>\n",
       "    </tr>\n",
       "  </tbody>\n",
       "</table>\n",
       "<p>4276 rows × 18 columns</p>\n",
       "</div>"
      ],
      "text/plain": [
       "       HeartDisease    BMI Smoking AlcoholDrinking Stroke  PhysicalHealth  \\\n",
       "19               No  18.13      No              No     No             0.0   \n",
       "284              No  18.83     Yes             Yes    Yes            30.0   \n",
       "474              No  18.99     Yes              No     No            10.0   \n",
       "537              No  17.55      No              No     No             0.0   \n",
       "668              No  19.21     Yes              No     No            29.0   \n",
       "...             ...    ...     ...             ...    ...             ...   \n",
       "319451           No  19.94      No              No     No             0.0   \n",
       "319455           No  19.77     Yes             Yes     No             0.0   \n",
       "319602           No  17.94     Yes              No     No            30.0   \n",
       "319732           No  18.79      No             Yes     No            30.0   \n",
       "319733           No  19.01      No              No     No             0.0   \n",
       "\n",
       "        MentalHealth DiffWalking   Sex  AgeCategory      Race Diabetic  \\\n",
       "19               0.0          No  Male  80 or older     White       No   \n",
       "284              0.0          No  Male        70-74     White       No   \n",
       "474              0.0          No  Male        65-69     White       No   \n",
       "537              0.0          No  Male        70-74     White       No   \n",
       "668              0.0         Yes  Male        70-74     White      Yes   \n",
       "...              ...         ...   ...          ...       ...      ...   \n",
       "319451           0.0          No  Male        70-74  Hispanic      Yes   \n",
       "319455           0.0          No  Male        25-29  Hispanic       No   \n",
       "319602           0.0          No  Male        55-59  Hispanic      Yes   \n",
       "319732          15.0         Yes  Male        55-59  Hispanic       No   \n",
       "319733           0.0          No  Male        18-24  Hispanic       No   \n",
       "\n",
       "       PhysicalActivity  GenHealth  SleepTime Asthma KidneyDisease SkinCancer  \n",
       "19                  Yes  Excellent        8.0     No            No        Yes  \n",
       "284                  No       Good        4.0     No            No        Yes  \n",
       "474                 Yes  Excellent        6.0     No            No         No  \n",
       "537                 Yes       Good        6.0     No            No         No  \n",
       "668                  No       Fair       10.0     No           Yes         No  \n",
       "...                 ...        ...        ...    ...           ...        ...  \n",
       "319451              Yes  Excellent        8.0     No            No         No  \n",
       "319455               No  Excellent        8.0     No            No         No  \n",
       "319602               No       Fair        8.0     No            No         No  \n",
       "319732               No       Fair        6.0    Yes            No         No  \n",
       "319733               No       Good        8.0     No            No         No  \n",
       "\n",
       "[4276 rows x 18 columns]"
      ]
     },
     "execution_count": 18,
     "metadata": {},
     "output_type": "execute_result"
    }
   ],
   "source": [
    "Men_Low_BMI = Men_In_Dataset[Men_In_Dataset.BMI < 20]\n",
    "\n",
    "Men_Low_BMI\n"
   ]
  },
  {
   "cell_type": "markdown",
   "id": "ddbb840c",
   "metadata": {
    "id": "84dde797"
   },
   "source": [
    "- 4276 Hombres tienen un bajo BMI. De esos hombres, ¿Cuántos sufrieron enfermedad cardíaca?"
   ]
  },
  {
   "cell_type": "code",
   "execution_count": 19,
   "id": "63f1ec2c",
   "metadata": {
    "id": "4d004f32",
    "outputId": "d3c2cd83-da29-42ab-913f-ab6b78da5ebd"
   },
   "outputs": [
    {
     "data": {
      "text/html": [
       "<div>\n",
       "<style scoped>\n",
       "    .dataframe tbody tr th:only-of-type {\n",
       "        vertical-align: middle;\n",
       "    }\n",
       "\n",
       "    .dataframe tbody tr th {\n",
       "        vertical-align: top;\n",
       "    }\n",
       "\n",
       "    .dataframe thead th {\n",
       "        text-align: right;\n",
       "    }\n",
       "</style>\n",
       "<table border=\"1\" class=\"dataframe\">\n",
       "  <thead>\n",
       "    <tr style=\"text-align: right;\">\n",
       "      <th></th>\n",
       "      <th>HeartDisease</th>\n",
       "      <th>BMI</th>\n",
       "      <th>Smoking</th>\n",
       "      <th>AlcoholDrinking</th>\n",
       "      <th>Stroke</th>\n",
       "      <th>PhysicalHealth</th>\n",
       "      <th>MentalHealth</th>\n",
       "      <th>DiffWalking</th>\n",
       "      <th>Sex</th>\n",
       "      <th>AgeCategory</th>\n",
       "      <th>Race</th>\n",
       "      <th>Diabetic</th>\n",
       "      <th>PhysicalActivity</th>\n",
       "      <th>GenHealth</th>\n",
       "      <th>SleepTime</th>\n",
       "      <th>Asthma</th>\n",
       "      <th>KidneyDisease</th>\n",
       "      <th>SkinCancer</th>\n",
       "    </tr>\n",
       "  </thead>\n",
       "  <tbody>\n",
       "    <tr>\n",
       "      <th>833</th>\n",
       "      <td>Yes</td>\n",
       "      <td>18.75</td>\n",
       "      <td>Yes</td>\n",
       "      <td>No</td>\n",
       "      <td>Yes</td>\n",
       "      <td>30.0</td>\n",
       "      <td>0.0</td>\n",
       "      <td>Yes</td>\n",
       "      <td>Male</td>\n",
       "      <td>55-59</td>\n",
       "      <td>White</td>\n",
       "      <td>No</td>\n",
       "      <td>Yes</td>\n",
       "      <td>Poor</td>\n",
       "      <td>4.0</td>\n",
       "      <td>Yes</td>\n",
       "      <td>Yes</td>\n",
       "      <td>No</td>\n",
       "    </tr>\n",
       "    <tr>\n",
       "      <th>1313</th>\n",
       "      <td>Yes</td>\n",
       "      <td>16.10</td>\n",
       "      <td>Yes</td>\n",
       "      <td>No</td>\n",
       "      <td>Yes</td>\n",
       "      <td>0.0</td>\n",
       "      <td>30.0</td>\n",
       "      <td>No</td>\n",
       "      <td>Male</td>\n",
       "      <td>40-44</td>\n",
       "      <td>Other</td>\n",
       "      <td>No</td>\n",
       "      <td>Yes</td>\n",
       "      <td>Fair</td>\n",
       "      <td>5.0</td>\n",
       "      <td>No</td>\n",
       "      <td>No</td>\n",
       "      <td>No</td>\n",
       "    </tr>\n",
       "    <tr>\n",
       "      <th>1688</th>\n",
       "      <td>Yes</td>\n",
       "      <td>12.48</td>\n",
       "      <td>Yes</td>\n",
       "      <td>No</td>\n",
       "      <td>Yes</td>\n",
       "      <td>12.0</td>\n",
       "      <td>2.0</td>\n",
       "      <td>No</td>\n",
       "      <td>Male</td>\n",
       "      <td>50-54</td>\n",
       "      <td>Black</td>\n",
       "      <td>No</td>\n",
       "      <td>No</td>\n",
       "      <td>Fair</td>\n",
       "      <td>12.0</td>\n",
       "      <td>No</td>\n",
       "      <td>Yes</td>\n",
       "      <td>No</td>\n",
       "    </tr>\n",
       "    <tr>\n",
       "      <th>3461</th>\n",
       "      <td>Yes</td>\n",
       "      <td>19.49</td>\n",
       "      <td>Yes</td>\n",
       "      <td>No</td>\n",
       "      <td>No</td>\n",
       "      <td>15.0</td>\n",
       "      <td>2.0</td>\n",
       "      <td>Yes</td>\n",
       "      <td>Male</td>\n",
       "      <td>65-69</td>\n",
       "      <td>White</td>\n",
       "      <td>No</td>\n",
       "      <td>Yes</td>\n",
       "      <td>Good</td>\n",
       "      <td>8.0</td>\n",
       "      <td>No</td>\n",
       "      <td>No</td>\n",
       "      <td>No</td>\n",
       "    </tr>\n",
       "    <tr>\n",
       "      <th>3604</th>\n",
       "      <td>Yes</td>\n",
       "      <td>19.26</td>\n",
       "      <td>Yes</td>\n",
       "      <td>No</td>\n",
       "      <td>Yes</td>\n",
       "      <td>0.0</td>\n",
       "      <td>0.0</td>\n",
       "      <td>Yes</td>\n",
       "      <td>Male</td>\n",
       "      <td>75-79</td>\n",
       "      <td>White</td>\n",
       "      <td>Yes</td>\n",
       "      <td>No</td>\n",
       "      <td>Fair</td>\n",
       "      <td>6.0</td>\n",
       "      <td>No</td>\n",
       "      <td>No</td>\n",
       "      <td>No</td>\n",
       "    </tr>\n",
       "    <tr>\n",
       "      <th>...</th>\n",
       "      <td>...</td>\n",
       "      <td>...</td>\n",
       "      <td>...</td>\n",
       "      <td>...</td>\n",
       "      <td>...</td>\n",
       "      <td>...</td>\n",
       "      <td>...</td>\n",
       "      <td>...</td>\n",
       "      <td>...</td>\n",
       "      <td>...</td>\n",
       "      <td>...</td>\n",
       "      <td>...</td>\n",
       "      <td>...</td>\n",
       "      <td>...</td>\n",
       "      <td>...</td>\n",
       "      <td>...</td>\n",
       "      <td>...</td>\n",
       "      <td>...</td>\n",
       "    </tr>\n",
       "    <tr>\n",
       "      <th>310840</th>\n",
       "      <td>Yes</td>\n",
       "      <td>19.90</td>\n",
       "      <td>Yes</td>\n",
       "      <td>No</td>\n",
       "      <td>No</td>\n",
       "      <td>3.0</td>\n",
       "      <td>3.0</td>\n",
       "      <td>No</td>\n",
       "      <td>Male</td>\n",
       "      <td>80 or older</td>\n",
       "      <td>White</td>\n",
       "      <td>No</td>\n",
       "      <td>Yes</td>\n",
       "      <td>Very good</td>\n",
       "      <td>8.0</td>\n",
       "      <td>No</td>\n",
       "      <td>No</td>\n",
       "      <td>No</td>\n",
       "    </tr>\n",
       "    <tr>\n",
       "      <th>312145</th>\n",
       "      <td>Yes</td>\n",
       "      <td>18.75</td>\n",
       "      <td>No</td>\n",
       "      <td>No</td>\n",
       "      <td>No</td>\n",
       "      <td>18.0</td>\n",
       "      <td>0.0</td>\n",
       "      <td>Yes</td>\n",
       "      <td>Male</td>\n",
       "      <td>50-54</td>\n",
       "      <td>White</td>\n",
       "      <td>Yes</td>\n",
       "      <td>Yes</td>\n",
       "      <td>Fair</td>\n",
       "      <td>4.0</td>\n",
       "      <td>Yes</td>\n",
       "      <td>Yes</td>\n",
       "      <td>No</td>\n",
       "    </tr>\n",
       "    <tr>\n",
       "      <th>313806</th>\n",
       "      <td>Yes</td>\n",
       "      <td>19.26</td>\n",
       "      <td>Yes</td>\n",
       "      <td>No</td>\n",
       "      <td>No</td>\n",
       "      <td>0.0</td>\n",
       "      <td>0.0</td>\n",
       "      <td>No</td>\n",
       "      <td>Male</td>\n",
       "      <td>60-64</td>\n",
       "      <td>Other</td>\n",
       "      <td>Yes</td>\n",
       "      <td>Yes</td>\n",
       "      <td>Fair</td>\n",
       "      <td>6.0</td>\n",
       "      <td>No</td>\n",
       "      <td>No</td>\n",
       "      <td>No</td>\n",
       "    </tr>\n",
       "    <tr>\n",
       "      <th>314486</th>\n",
       "      <td>Yes</td>\n",
       "      <td>18.31</td>\n",
       "      <td>No</td>\n",
       "      <td>No</td>\n",
       "      <td>No</td>\n",
       "      <td>30.0</td>\n",
       "      <td>0.0</td>\n",
       "      <td>Yes</td>\n",
       "      <td>Male</td>\n",
       "      <td>70-74</td>\n",
       "      <td>Other</td>\n",
       "      <td>No</td>\n",
       "      <td>Yes</td>\n",
       "      <td>Fair</td>\n",
       "      <td>8.0</td>\n",
       "      <td>No</td>\n",
       "      <td>No</td>\n",
       "      <td>No</td>\n",
       "    </tr>\n",
       "    <tr>\n",
       "      <th>315361</th>\n",
       "      <td>Yes</td>\n",
       "      <td>19.69</td>\n",
       "      <td>No</td>\n",
       "      <td>No</td>\n",
       "      <td>No</td>\n",
       "      <td>0.0</td>\n",
       "      <td>2.0</td>\n",
       "      <td>No</td>\n",
       "      <td>Male</td>\n",
       "      <td>55-59</td>\n",
       "      <td>Other</td>\n",
       "      <td>Yes</td>\n",
       "      <td>Yes</td>\n",
       "      <td>Fair</td>\n",
       "      <td>6.0</td>\n",
       "      <td>No</td>\n",
       "      <td>No</td>\n",
       "      <td>No</td>\n",
       "    </tr>\n",
       "  </tbody>\n",
       "</table>\n",
       "<p>324 rows × 18 columns</p>\n",
       "</div>"
      ],
      "text/plain": [
       "       HeartDisease    BMI Smoking AlcoholDrinking Stroke  PhysicalHealth  \\\n",
       "833             Yes  18.75     Yes              No    Yes            30.0   \n",
       "1313            Yes  16.10     Yes              No    Yes             0.0   \n",
       "1688            Yes  12.48     Yes              No    Yes            12.0   \n",
       "3461            Yes  19.49     Yes              No     No            15.0   \n",
       "3604            Yes  19.26     Yes              No    Yes             0.0   \n",
       "...             ...    ...     ...             ...    ...             ...   \n",
       "310840          Yes  19.90     Yes              No     No             3.0   \n",
       "312145          Yes  18.75      No              No     No            18.0   \n",
       "313806          Yes  19.26     Yes              No     No             0.0   \n",
       "314486          Yes  18.31      No              No     No            30.0   \n",
       "315361          Yes  19.69      No              No     No             0.0   \n",
       "\n",
       "        MentalHealth DiffWalking   Sex  AgeCategory   Race Diabetic  \\\n",
       "833              0.0         Yes  Male        55-59  White       No   \n",
       "1313            30.0          No  Male        40-44  Other       No   \n",
       "1688             2.0          No  Male        50-54  Black       No   \n",
       "3461             2.0         Yes  Male        65-69  White       No   \n",
       "3604             0.0         Yes  Male        75-79  White      Yes   \n",
       "...              ...         ...   ...          ...    ...      ...   \n",
       "310840           3.0          No  Male  80 or older  White       No   \n",
       "312145           0.0         Yes  Male        50-54  White      Yes   \n",
       "313806           0.0          No  Male        60-64  Other      Yes   \n",
       "314486           0.0         Yes  Male        70-74  Other       No   \n",
       "315361           2.0          No  Male        55-59  Other      Yes   \n",
       "\n",
       "       PhysicalActivity  GenHealth  SleepTime Asthma KidneyDisease SkinCancer  \n",
       "833                 Yes       Poor        4.0    Yes           Yes         No  \n",
       "1313                Yes       Fair        5.0     No            No         No  \n",
       "1688                 No       Fair       12.0     No           Yes         No  \n",
       "3461                Yes       Good        8.0     No            No         No  \n",
       "3604                 No       Fair        6.0     No            No         No  \n",
       "...                 ...        ...        ...    ...           ...        ...  \n",
       "310840              Yes  Very good        8.0     No            No         No  \n",
       "312145              Yes       Fair        4.0    Yes           Yes         No  \n",
       "313806              Yes       Fair        6.0     No            No         No  \n",
       "314486              Yes       Fair        8.0     No            No         No  \n",
       "315361              Yes       Fair        6.0     No            No         No  \n",
       "\n",
       "[324 rows x 18 columns]"
      ]
     },
     "execution_count": 19,
     "metadata": {},
     "output_type": "execute_result"
    }
   ],
   "source": [
    "MenLowBMI_and_HeartD = Men_Low_BMI[Men_Low_BMI.HeartDisease == 'Yes']\n",
    "\n",
    "MenLowBMI_and_HeartD"
   ]
  },
  {
   "cell_type": "markdown",
   "id": "29dea338",
   "metadata": {
    "id": "63e2fae7"
   },
   "source": [
    "- De los 4276 hombres con BMI bajo, 324 sufrieron enfermedad cardíaca"
   ]
  },
  {
   "cell_type": "markdown",
   "id": "0e318c75",
   "metadata": {
    "id": "998125c6"
   },
   "source": [
    "#### Cantidad de hombres con alta masa corporal en función de la edad"
   ]
  },
  {
   "cell_type": "code",
   "execution_count": 20,
   "id": "bf3abcbd",
   "metadata": {
    "id": "6755680d",
    "outputId": "da766abc-82af-4c02-f459-9866f10238e6",
    "scrolled": true
   },
   "outputs": [
    {
     "data": {
      "text/plain": [
       "<seaborn.axisgrid.FacetGrid at 0x1782338a5e0>"
      ]
     },
     "execution_count": 20,
     "metadata": {},
     "output_type": "execute_result"
    },
    {
     "data": {
      "image/png": "[encoded data removed]",
      "text/plain": [
       "<Figure size 1080x360 with 1 Axes>"
      ]
     },
     "metadata": {},
     "output_type": "display_data"
    }
   ],
   "source": [
    "sns.set(font_scale = 1.5)\n",
    "sns.displot(MenHighBM_and_HeartD.AgeCategory, aspect= 3, color= 'r').set(title= 'Hombres, Edad y Alta Masa Corporal')"
   ]
  },
  {
   "cell_type": "markdown",
   "id": "5251e1c9",
   "metadata": {
    "id": "c79d09a8"
   },
   "source": [
    "- Los hombres que suelen sufrir enfermedades cardíacas y tienen alta masa corporal son los que están en los rangos de 65 - 69 años y los de 70 - 74 años"
   ]
  },
  {
   "cell_type": "markdown",
   "id": "234d6954",
   "metadata": {
    "id": "43f63b21"
   },
   "source": [
    "#### ¿Los altos indices de masa y el hecho de contraer enfermedad cardíaca cambia según la raza?"
   ]
  },
  {
   "cell_type": "code",
   "execution_count": 21,
   "id": "399b5edd",
   "metadata": {
    "id": "82e9e30e",
    "outputId": "7390460c-ea9d-4eb7-ae80-db5c01e8638e",
    "scrolled": false
   },
   "outputs": [
    {
     "name": "stdout",
     "output_type": "stream",
     "text": [
      "Race\n",
      "American Indian/Alaskan Native      211\n",
      "Asian                               110\n",
      "Black                               596\n",
      "Hispanic                            604\n",
      "Other                               407\n",
      "White                             10827\n",
      "Name: HeartDisease, dtype: int64\n"
     ]
    }
   ],
   "source": [
    "Race_MenHighBM_HeartD = MenHighBM_and_HeartD.groupby(['Race']).count()\n",
    "print(Race_MenHighBM_HeartD['HeartDisease'])"
   ]
  },
  {
   "cell_type": "markdown",
   "id": "f2fd0dcd",
   "metadata": {},
   "source": [
    "- La raza blanca tiene el mayor número de casos de altos niveles de masa corporal y enfermedad cardíaca, pero la raza blanca es mayoritaria en este dataset por lo que no resulta una conclusión significativa."
   ]
  },
  {
   "cell_type": "markdown",
   "id": "2e5054d3",
   "metadata": {
    "id": "eb0d7d05"
   },
   "source": [
    "#### Datos de mujeres con enfermedad cardíaca"
   ]
  },
  {
   "cell_type": "code",
   "execution_count": 22,
   "id": "fbb4969b",
   "metadata": {
    "id": "cf02f4ce",
    "outputId": "97c954fa-2b27-49a8-ff2d-67f50f18c98b",
    "scrolled": true
   },
   "outputs": [
    {
     "data": {
      "text/html": [
       "<div>\n",
       "<style scoped>\n",
       "    .dataframe tbody tr th:only-of-type {\n",
       "        vertical-align: middle;\n",
       "    }\n",
       "\n",
       "    .dataframe tbody tr th {\n",
       "        vertical-align: top;\n",
       "    }\n",
       "\n",
       "    .dataframe thead th {\n",
       "        text-align: right;\n",
       "    }\n",
       "</style>\n",
       "<table border=\"1\" class=\"dataframe\">\n",
       "  <thead>\n",
       "    <tr style=\"text-align: right;\">\n",
       "      <th></th>\n",
       "      <th>BMI</th>\n",
       "      <th>PhysicalHealth</th>\n",
       "      <th>MentalHealth</th>\n",
       "      <th>SleepTime</th>\n",
       "    </tr>\n",
       "  </thead>\n",
       "  <tbody>\n",
       "    <tr>\n",
       "      <th>count</th>\n",
       "      <td>11234.000000</td>\n",
       "      <td>11234.000000</td>\n",
       "      <td>11234.000000</td>\n",
       "      <td>11234.000000</td>\n",
       "    </tr>\n",
       "    <tr>\n",
       "      <th>mean</th>\n",
       "      <td>29.375993</td>\n",
       "      <td>9.135660</td>\n",
       "      <td>6.155866</td>\n",
       "      <td>7.080025</td>\n",
       "    </tr>\n",
       "    <tr>\n",
       "      <th>std</th>\n",
       "      <td>7.326388</td>\n",
       "      <td>11.903651</td>\n",
       "      <td>10.099664</td>\n",
       "      <td>1.896528</td>\n",
       "    </tr>\n",
       "    <tr>\n",
       "      <th>min</th>\n",
       "      <td>12.400000</td>\n",
       "      <td>0.000000</td>\n",
       "      <td>0.000000</td>\n",
       "      <td>1.000000</td>\n",
       "    </tr>\n",
       "    <tr>\n",
       "      <th>25%</th>\n",
       "      <td>24.210000</td>\n",
       "      <td>0.000000</td>\n",
       "      <td>0.000000</td>\n",
       "      <td>6.000000</td>\n",
       "    </tr>\n",
       "    <tr>\n",
       "      <th>50%</th>\n",
       "      <td>28.280000</td>\n",
       "      <td>2.000000</td>\n",
       "      <td>0.000000</td>\n",
       "      <td>7.000000</td>\n",
       "    </tr>\n",
       "    <tr>\n",
       "      <th>75%</th>\n",
       "      <td>33.200000</td>\n",
       "      <td>20.000000</td>\n",
       "      <td>10.000000</td>\n",
       "      <td>8.000000</td>\n",
       "    </tr>\n",
       "    <tr>\n",
       "      <th>max</th>\n",
       "      <td>80.150000</td>\n",
       "      <td>30.000000</td>\n",
       "      <td>30.000000</td>\n",
       "      <td>24.000000</td>\n",
       "    </tr>\n",
       "  </tbody>\n",
       "</table>\n",
       "</div>"
      ],
      "text/plain": [
       "                BMI  PhysicalHealth  MentalHealth     SleepTime\n",
       "count  11234.000000    11234.000000  11234.000000  11234.000000\n",
       "mean      29.375993        9.135660      6.155866      7.080025\n",
       "std        7.326388       11.903651     10.099664      1.896528\n",
       "min       12.400000        0.000000      0.000000      1.000000\n",
       "25%       24.210000        0.000000      0.000000      6.000000\n",
       "50%       28.280000        2.000000      0.000000      7.000000\n",
       "75%       33.200000       20.000000     10.000000      8.000000\n",
       "max       80.150000       30.000000     30.000000     24.000000"
      ]
     },
     "execution_count": 22,
     "metadata": {},
     "output_type": "execute_result"
    }
   ],
   "source": [
    "#Women_Heart_Disease = whd\n",
    "\n",
    "whd = Had_Heart_Disease[Had_Heart_Disease.Sex == 'Female']\n",
    "whd.describe()"
   ]
  },
  {
   "cell_type": "code",
   "execution_count": 23,
   "id": "91763962",
   "metadata": {
    "id": "fd7cca27",
    "outputId": "c64fa5a1-3c78-412c-9139-9a8502a1a854",
    "scrolled": false
   },
   "outputs": [
    {
     "data": {
      "text/html": [
       "<div>\n",
       "<style scoped>\n",
       "    .dataframe tbody tr th:only-of-type {\n",
       "        vertical-align: middle;\n",
       "    }\n",
       "\n",
       "    .dataframe tbody tr th {\n",
       "        vertical-align: top;\n",
       "    }\n",
       "\n",
       "    .dataframe thead th {\n",
       "        text-align: right;\n",
       "    }\n",
       "</style>\n",
       "<table border=\"1\" class=\"dataframe\">\n",
       "  <thead>\n",
       "    <tr style=\"text-align: right;\">\n",
       "      <th></th>\n",
       "      <th>HeartDisease</th>\n",
       "      <th>BMI</th>\n",
       "      <th>Smoking</th>\n",
       "      <th>AlcoholDrinking</th>\n",
       "      <th>Stroke</th>\n",
       "      <th>PhysicalHealth</th>\n",
       "      <th>MentalHealth</th>\n",
       "      <th>DiffWalking</th>\n",
       "      <th>Sex</th>\n",
       "      <th>AgeCategory</th>\n",
       "      <th>Race</th>\n",
       "      <th>Diabetic</th>\n",
       "      <th>PhysicalActivity</th>\n",
       "      <th>GenHealth</th>\n",
       "      <th>SleepTime</th>\n",
       "      <th>Asthma</th>\n",
       "      <th>KidneyDisease</th>\n",
       "      <th>SkinCancer</th>\n",
       "    </tr>\n",
       "  </thead>\n",
       "  <tbody>\n",
       "    <tr>\n",
       "      <th>5</th>\n",
       "      <td>Yes</td>\n",
       "      <td>28.87</td>\n",
       "      <td>Yes</td>\n",
       "      <td>No</td>\n",
       "      <td>No</td>\n",
       "      <td>6.0</td>\n",
       "      <td>0.0</td>\n",
       "      <td>Yes</td>\n",
       "      <td>Female</td>\n",
       "      <td>75-79</td>\n",
       "      <td>Black</td>\n",
       "      <td>No</td>\n",
       "      <td>No</td>\n",
       "      <td>Fair</td>\n",
       "      <td>12.0</td>\n",
       "      <td>No</td>\n",
       "      <td>No</td>\n",
       "      <td>No</td>\n",
       "    </tr>\n",
       "    <tr>\n",
       "      <th>42</th>\n",
       "      <td>Yes</td>\n",
       "      <td>25.06</td>\n",
       "      <td>No</td>\n",
       "      <td>No</td>\n",
       "      <td>No</td>\n",
       "      <td>0.0</td>\n",
       "      <td>0.0</td>\n",
       "      <td>Yes</td>\n",
       "      <td>Female</td>\n",
       "      <td>80 or older</td>\n",
       "      <td>White</td>\n",
       "      <td>Yes</td>\n",
       "      <td>No</td>\n",
       "      <td>Good</td>\n",
       "      <td>7.0</td>\n",
       "      <td>No</td>\n",
       "      <td>No</td>\n",
       "      <td>Yes</td>\n",
       "    </tr>\n",
       "    <tr>\n",
       "      <th>43</th>\n",
       "      <td>Yes</td>\n",
       "      <td>30.23</td>\n",
       "      <td>Yes</td>\n",
       "      <td>No</td>\n",
       "      <td>No</td>\n",
       "      <td>6.0</td>\n",
       "      <td>2.0</td>\n",
       "      <td>Yes</td>\n",
       "      <td>Female</td>\n",
       "      <td>75-79</td>\n",
       "      <td>White</td>\n",
       "      <td>Yes</td>\n",
       "      <td>Yes</td>\n",
       "      <td>Fair</td>\n",
       "      <td>8.0</td>\n",
       "      <td>No</td>\n",
       "      <td>Yes</td>\n",
       "      <td>No</td>\n",
       "    </tr>\n",
       "    <tr>\n",
       "      <th>45</th>\n",
       "      <td>Yes</td>\n",
       "      <td>20.37</td>\n",
       "      <td>Yes</td>\n",
       "      <td>No</td>\n",
       "      <td>No</td>\n",
       "      <td>3.0</td>\n",
       "      <td>0.0</td>\n",
       "      <td>No</td>\n",
       "      <td>Female</td>\n",
       "      <td>70-74</td>\n",
       "      <td>White</td>\n",
       "      <td>No</td>\n",
       "      <td>No</td>\n",
       "      <td>Poor</td>\n",
       "      <td>10.0</td>\n",
       "      <td>No</td>\n",
       "      <td>No</td>\n",
       "      <td>No</td>\n",
       "    </tr>\n",
       "    <tr>\n",
       "      <th>77</th>\n",
       "      <td>Yes</td>\n",
       "      <td>34.33</td>\n",
       "      <td>No</td>\n",
       "      <td>No</td>\n",
       "      <td>No</td>\n",
       "      <td>0.0</td>\n",
       "      <td>0.0</td>\n",
       "      <td>No</td>\n",
       "      <td>Female</td>\n",
       "      <td>55-59</td>\n",
       "      <td>White</td>\n",
       "      <td>No</td>\n",
       "      <td>Yes</td>\n",
       "      <td>Good</td>\n",
       "      <td>8.0</td>\n",
       "      <td>No</td>\n",
       "      <td>No</td>\n",
       "      <td>No</td>\n",
       "    </tr>\n",
       "  </tbody>\n",
       "</table>\n",
       "</div>"
      ],
      "text/plain": [
       "   HeartDisease    BMI Smoking AlcoholDrinking Stroke  PhysicalHealth  \\\n",
       "5           Yes  28.87     Yes              No     No             6.0   \n",
       "42          Yes  25.06      No              No     No             0.0   \n",
       "43          Yes  30.23     Yes              No     No             6.0   \n",
       "45          Yes  20.37     Yes              No     No             3.0   \n",
       "77          Yes  34.33      No              No     No             0.0   \n",
       "\n",
       "    MentalHealth DiffWalking     Sex  AgeCategory   Race Diabetic  \\\n",
       "5            0.0         Yes  Female        75-79  Black       No   \n",
       "42           0.0         Yes  Female  80 or older  White      Yes   \n",
       "43           2.0         Yes  Female        75-79  White      Yes   \n",
       "45           0.0          No  Female        70-74  White       No   \n",
       "77           0.0          No  Female        55-59  White       No   \n",
       "\n",
       "   PhysicalActivity GenHealth  SleepTime Asthma KidneyDisease SkinCancer  \n",
       "5                No      Fair       12.0     No            No         No  \n",
       "42               No      Good        7.0     No            No        Yes  \n",
       "43              Yes      Fair        8.0     No           Yes         No  \n",
       "45               No      Poor       10.0     No            No         No  \n",
       "77              Yes      Good        8.0     No            No         No  "
      ]
     },
     "execution_count": 23,
     "metadata": {},
     "output_type": "execute_result"
    }
   ],
   "source": [
    "whd.head()"
   ]
  },
  {
   "cell_type": "markdown",
   "id": "69dc473e",
   "metadata": {
    "id": "af48142a"
   },
   "source": [
    "#### Gráfico de salud genética, tiempo de descanso y dificultad al caminar en mujeres que han tenido enfermedad cardíaca."
   ]
  },
  {
   "cell_type": "code",
   "execution_count": 24,
   "id": "41f670c0",
   "metadata": {
    "id": "132b4483",
    "outputId": "1af8f3da-d8da-49af-9463-fd0e38347fc6",
    "scrolled": true
   },
   "outputs": [
    {
     "data": {
      "image/png": "[encoded data removed]",
      "text/plain": [
       "<Figure size 864x576 with 1 Axes>"
      ]
     },
     "metadata": {},
     "output_type": "display_data"
    }
   ],
   "source": [
    "sns.violinplot(x=whd.GenHealth, y=whd.SleepTime, hue='DiffWalking', data=whd);"
   ]
  },
  {
   "cell_type": "markdown",
   "id": "c006d2d7",
   "metadata": {},
   "source": [
    "- Se puede observar que el estado de la salud génetica es relevante en este dataset para determinar dificultades físicas, como la dificultad para caminar, aunque cuando la salud génetica es mala puede haber chances de tener buena salud físca igualmente. En \"Poor GenHealth\" los dos gráficos de violín son similares."
   ]
  },
  {
   "cell_type": "markdown",
   "id": "fb4f56ba",
   "metadata": {
    "id": "efa551c7"
   },
   "source": [
    "#### Gráfico de rango de edad, tiempo de descanso y dificultad al caminar de mujeres que han tenido enfermedad cardíaca."
   ]
  },
  {
   "cell_type": "code",
   "execution_count": 25,
   "id": "bf572353",
   "metadata": {
    "id": "9b0a4495",
    "outputId": "38622a32-9078-4e60-b152-3080511ba7e6",
    "scrolled": false
   },
   "outputs": [
    {
     "data": {
      "image/png": "[encoded data removed]",
      "text/plain": [
       "<Figure size 864x576 with 1 Axes>"
      ]
     },
     "metadata": {},
     "output_type": "display_data"
    }
   ],
   "source": [
    "sns.violinplot(x=whd.AgeCategory, y=whd.SleepTime, hue='DiffWalking', data=whd[whd.DiffWalking.isin(['Yes', 'No'])], split=True,\n",
    "              linewidth=3);"
   ]
  },
  {
   "cell_type": "markdown",
   "id": "03fc1e84",
   "metadata": {
    "id": "06330e4a"
   },
   "source": [
    "- Los tiempos de descanso en los rangos de edad se ven bastante similares. No hay anomalías significantes."
   ]
  },
  {
   "cell_type": "markdown",
   "id": "3c627565",
   "metadata": {
    "id": "0fdd7800"
   },
   "source": [
    "#### Gráfico de Burbujas = Mujeres que han tenido enfermedad cardíaca, cantidad de horas de descanso, salud física y rango de edad\n"
   ]
  },
  {
   "cell_type": "code",
   "execution_count": 26,
   "id": "3781144b",
   "metadata": {
    "id": "892a1825",
    "outputId": "5d7e54c7-63b8-4a12-f19f-4504526c882d",
    "scrolled": true
   },
   "outputs": [
    {
     "data": {
      "text/html": [
       "<div>\n",
       "<style scoped>\n",
       "    .dataframe tbody tr th:only-of-type {\n",
       "        vertical-align: middle;\n",
       "    }\n",
       "\n",
       "    .dataframe tbody tr th {\n",
       "        vertical-align: top;\n",
       "    }\n",
       "\n",
       "    .dataframe thead th {\n",
       "        text-align: right;\n",
       "    }\n",
       "</style>\n",
       "<table border=\"1\" class=\"dataframe\">\n",
       "  <thead>\n",
       "    <tr style=\"text-align: right;\">\n",
       "      <th></th>\n",
       "      <th>HeartDisease</th>\n",
       "      <th>BMI</th>\n",
       "      <th>Smoking</th>\n",
       "      <th>AlcoholDrinking</th>\n",
       "      <th>Stroke</th>\n",
       "      <th>PhysicalHealth</th>\n",
       "      <th>MentalHealth</th>\n",
       "      <th>DiffWalking</th>\n",
       "      <th>Sex</th>\n",
       "      <th>AgeCategory</th>\n",
       "      <th>Race</th>\n",
       "      <th>Diabetic</th>\n",
       "      <th>PhysicalActivity</th>\n",
       "      <th>GenHealth</th>\n",
       "      <th>SleepTime</th>\n",
       "      <th>Asthma</th>\n",
       "      <th>KidneyDisease</th>\n",
       "      <th>SkinCancer</th>\n",
       "    </tr>\n",
       "  </thead>\n",
       "  <tbody>\n",
       "    <tr>\n",
       "      <th>5</th>\n",
       "      <td>Yes</td>\n",
       "      <td>28.87</td>\n",
       "      <td>Yes</td>\n",
       "      <td>No</td>\n",
       "      <td>No</td>\n",
       "      <td>6.0</td>\n",
       "      <td>0.0</td>\n",
       "      <td>Yes</td>\n",
       "      <td>Female</td>\n",
       "      <td>75-79</td>\n",
       "      <td>Black</td>\n",
       "      <td>No</td>\n",
       "      <td>No</td>\n",
       "      <td>Fair</td>\n",
       "      <td>12.0</td>\n",
       "      <td>No</td>\n",
       "      <td>No</td>\n",
       "      <td>No</td>\n",
       "    </tr>\n",
       "    <tr>\n",
       "      <th>42</th>\n",
       "      <td>Yes</td>\n",
       "      <td>25.06</td>\n",
       "      <td>No</td>\n",
       "      <td>No</td>\n",
       "      <td>No</td>\n",
       "      <td>0.0</td>\n",
       "      <td>0.0</td>\n",
       "      <td>Yes</td>\n",
       "      <td>Female</td>\n",
       "      <td>80 or older</td>\n",
       "      <td>White</td>\n",
       "      <td>Yes</td>\n",
       "      <td>No</td>\n",
       "      <td>Good</td>\n",
       "      <td>7.0</td>\n",
       "      <td>No</td>\n",
       "      <td>No</td>\n",
       "      <td>Yes</td>\n",
       "    </tr>\n",
       "    <tr>\n",
       "      <th>43</th>\n",
       "      <td>Yes</td>\n",
       "      <td>30.23</td>\n",
       "      <td>Yes</td>\n",
       "      <td>No</td>\n",
       "      <td>No</td>\n",
       "      <td>6.0</td>\n",
       "      <td>2.0</td>\n",
       "      <td>Yes</td>\n",
       "      <td>Female</td>\n",
       "      <td>75-79</td>\n",
       "      <td>White</td>\n",
       "      <td>Yes</td>\n",
       "      <td>Yes</td>\n",
       "      <td>Fair</td>\n",
       "      <td>8.0</td>\n",
       "      <td>No</td>\n",
       "      <td>Yes</td>\n",
       "      <td>No</td>\n",
       "    </tr>\n",
       "    <tr>\n",
       "      <th>45</th>\n",
       "      <td>Yes</td>\n",
       "      <td>20.37</td>\n",
       "      <td>Yes</td>\n",
       "      <td>No</td>\n",
       "      <td>No</td>\n",
       "      <td>3.0</td>\n",
       "      <td>0.0</td>\n",
       "      <td>No</td>\n",
       "      <td>Female</td>\n",
       "      <td>70-74</td>\n",
       "      <td>White</td>\n",
       "      <td>No</td>\n",
       "      <td>No</td>\n",
       "      <td>Poor</td>\n",
       "      <td>10.0</td>\n",
       "      <td>No</td>\n",
       "      <td>No</td>\n",
       "      <td>No</td>\n",
       "    </tr>\n",
       "    <tr>\n",
       "      <th>77</th>\n",
       "      <td>Yes</td>\n",
       "      <td>34.33</td>\n",
       "      <td>No</td>\n",
       "      <td>No</td>\n",
       "      <td>No</td>\n",
       "      <td>0.0</td>\n",
       "      <td>0.0</td>\n",
       "      <td>No</td>\n",
       "      <td>Female</td>\n",
       "      <td>55-59</td>\n",
       "      <td>White</td>\n",
       "      <td>No</td>\n",
       "      <td>Yes</td>\n",
       "      <td>Good</td>\n",
       "      <td>8.0</td>\n",
       "      <td>No</td>\n",
       "      <td>No</td>\n",
       "      <td>No</td>\n",
       "    </tr>\n",
       "    <tr>\n",
       "      <th>...</th>\n",
       "      <td>...</td>\n",
       "      <td>...</td>\n",
       "      <td>...</td>\n",
       "      <td>...</td>\n",
       "      <td>...</td>\n",
       "      <td>...</td>\n",
       "      <td>...</td>\n",
       "      <td>...</td>\n",
       "      <td>...</td>\n",
       "      <td>...</td>\n",
       "      <td>...</td>\n",
       "      <td>...</td>\n",
       "      <td>...</td>\n",
       "      <td>...</td>\n",
       "      <td>...</td>\n",
       "      <td>...</td>\n",
       "      <td>...</td>\n",
       "      <td>...</td>\n",
       "    </tr>\n",
       "    <tr>\n",
       "      <th>319721</th>\n",
       "      <td>Yes</td>\n",
       "      <td>39.30</td>\n",
       "      <td>No</td>\n",
       "      <td>No</td>\n",
       "      <td>No</td>\n",
       "      <td>30.0</td>\n",
       "      <td>30.0</td>\n",
       "      <td>Yes</td>\n",
       "      <td>Female</td>\n",
       "      <td>60-64</td>\n",
       "      <td>Hispanic</td>\n",
       "      <td>Yes</td>\n",
       "      <td>No</td>\n",
       "      <td>Fair</td>\n",
       "      <td>8.0</td>\n",
       "      <td>Yes</td>\n",
       "      <td>Yes</td>\n",
       "      <td>No</td>\n",
       "    </tr>\n",
       "    <tr>\n",
       "      <th>319758</th>\n",
       "      <td>Yes</td>\n",
       "      <td>28.32</td>\n",
       "      <td>Yes</td>\n",
       "      <td>No</td>\n",
       "      <td>No</td>\n",
       "      <td>0.0</td>\n",
       "      <td>3.0</td>\n",
       "      <td>No</td>\n",
       "      <td>Female</td>\n",
       "      <td>55-59</td>\n",
       "      <td>Hispanic</td>\n",
       "      <td>Yes</td>\n",
       "      <td>No</td>\n",
       "      <td>Fair</td>\n",
       "      <td>7.0</td>\n",
       "      <td>No</td>\n",
       "      <td>No</td>\n",
       "      <td>No</td>\n",
       "    </tr>\n",
       "    <tr>\n",
       "      <th>319765</th>\n",
       "      <td>Yes</td>\n",
       "      <td>38.45</td>\n",
       "      <td>No</td>\n",
       "      <td>No</td>\n",
       "      <td>Yes</td>\n",
       "      <td>30.0</td>\n",
       "      <td>15.0</td>\n",
       "      <td>Yes</td>\n",
       "      <td>Female</td>\n",
       "      <td>55-59</td>\n",
       "      <td>Hispanic</td>\n",
       "      <td>Yes</td>\n",
       "      <td>Yes</td>\n",
       "      <td>Poor</td>\n",
       "      <td>6.0</td>\n",
       "      <td>Yes</td>\n",
       "      <td>No</td>\n",
       "      <td>No</td>\n",
       "    </tr>\n",
       "    <tr>\n",
       "      <th>319767</th>\n",
       "      <td>Yes</td>\n",
       "      <td>36.21</td>\n",
       "      <td>Yes</td>\n",
       "      <td>No</td>\n",
       "      <td>No</td>\n",
       "      <td>0.0</td>\n",
       "      <td>0.0</td>\n",
       "      <td>Yes</td>\n",
       "      <td>Female</td>\n",
       "      <td>75-79</td>\n",
       "      <td>Hispanic</td>\n",
       "      <td>Yes</td>\n",
       "      <td>Yes</td>\n",
       "      <td>Good</td>\n",
       "      <td>8.0</td>\n",
       "      <td>No</td>\n",
       "      <td>No</td>\n",
       "      <td>No</td>\n",
       "    </tr>\n",
       "    <tr>\n",
       "      <th>319786</th>\n",
       "      <td>Yes</td>\n",
       "      <td>33.20</td>\n",
       "      <td>Yes</td>\n",
       "      <td>No</td>\n",
       "      <td>No</td>\n",
       "      <td>0.0</td>\n",
       "      <td>0.0</td>\n",
       "      <td>No</td>\n",
       "      <td>Female</td>\n",
       "      <td>60-64</td>\n",
       "      <td>Hispanic</td>\n",
       "      <td>Yes</td>\n",
       "      <td>Yes</td>\n",
       "      <td>Very good</td>\n",
       "      <td>8.0</td>\n",
       "      <td>Yes</td>\n",
       "      <td>No</td>\n",
       "      <td>No</td>\n",
       "    </tr>\n",
       "  </tbody>\n",
       "</table>\n",
       "<p>11234 rows × 18 columns</p>\n",
       "</div>"
      ],
      "text/plain": [
       "       HeartDisease    BMI Smoking AlcoholDrinking Stroke  PhysicalHealth  \\\n",
       "5               Yes  28.87     Yes              No     No             6.0   \n",
       "42              Yes  25.06      No              No     No             0.0   \n",
       "43              Yes  30.23     Yes              No     No             6.0   \n",
       "45              Yes  20.37     Yes              No     No             3.0   \n",
       "77              Yes  34.33      No              No     No             0.0   \n",
       "...             ...    ...     ...             ...    ...             ...   \n",
       "319721          Yes  39.30      No              No     No            30.0   \n",
       "319758          Yes  28.32     Yes              No     No             0.0   \n",
       "319765          Yes  38.45      No              No    Yes            30.0   \n",
       "319767          Yes  36.21     Yes              No     No             0.0   \n",
       "319786          Yes  33.20     Yes              No     No             0.0   \n",
       "\n",
       "        MentalHealth DiffWalking     Sex  AgeCategory      Race Diabetic  \\\n",
       "5                0.0         Yes  Female        75-79     Black       No   \n",
       "42               0.0         Yes  Female  80 or older     White      Yes   \n",
       "43               2.0         Yes  Female        75-79     White      Yes   \n",
       "45               0.0          No  Female        70-74     White       No   \n",
       "77               0.0          No  Female        55-59     White       No   \n",
       "...              ...         ...     ...          ...       ...      ...   \n",
       "319721          30.0         Yes  Female        60-64  Hispanic      Yes   \n",
       "319758           3.0          No  Female        55-59  Hispanic      Yes   \n",
       "319765          15.0         Yes  Female        55-59  Hispanic      Yes   \n",
       "319767           0.0         Yes  Female        75-79  Hispanic      Yes   \n",
       "319786           0.0          No  Female        60-64  Hispanic      Yes   \n",
       "\n",
       "       PhysicalActivity  GenHealth  SleepTime Asthma KidneyDisease SkinCancer  \n",
       "5                    No       Fair       12.0     No            No         No  \n",
       "42                   No       Good        7.0     No            No        Yes  \n",
       "43                  Yes       Fair        8.0     No           Yes         No  \n",
       "45                   No       Poor       10.0     No            No         No  \n",
       "77                  Yes       Good        8.0     No            No         No  \n",
       "...                 ...        ...        ...    ...           ...        ...  \n",
       "319721               No       Fair        8.0    Yes           Yes         No  \n",
       "319758               No       Fair        7.0     No            No         No  \n",
       "319765              Yes       Poor        6.0    Yes            No         No  \n",
       "319767              Yes       Good        8.0     No            No         No  \n",
       "319786              Yes  Very good        8.0    Yes            No         No  \n",
       "\n",
       "[11234 rows x 18 columns]"
      ]
     },
     "execution_count": 26,
     "metadata": {},
     "output_type": "execute_result"
    }
   ],
   "source": [
    "whd"
   ]
  },
  {
   "cell_type": "code",
   "execution_count": 27,
   "id": "759867e1",
   "metadata": {
    "id": "8dddc16e",
    "outputId": "a15383a3-06ac-49af-ec73-8a5f4d3b48eb"
   },
   "outputs": [
    {
     "data": {
      "text/plain": [
       "5         0.478261\n",
       "42        0.260870\n",
       "43        0.304348\n",
       "45        0.391304\n",
       "77        0.304348\n",
       "            ...   \n",
       "319721    0.304348\n",
       "319758    0.260870\n",
       "319765    0.217391\n",
       "319767    0.304348\n",
       "319786    0.304348\n",
       "Name: SleepTime, Length: 11234, dtype: float64"
      ]
     },
     "execution_count": 27,
     "metadata": {},
     "output_type": "execute_result"
    }
   ],
   "source": [
    "Norm_PhysicalHealth = (whd['PhysicalHealth'] - whd['PhysicalHealth'].min()) / (whd['PhysicalHealth'].max() - whd['PhysicalHealth'].min())\n",
    "\n",
    "Norm_SleepTime = (whd['SleepTime'] - whd['SleepTime'].min()) / (whd['SleepTime'].max() - whd['SleepTime'].min())\n",
    "\n",
    "Norm_SleepTime"
   ]
  },
  {
   "cell_type": "code",
   "execution_count": 28,
   "id": "a291ee4d",
   "metadata": {
    "id": "5a75e85a",
    "outputId": "2275d414-f629-4ab5-cb18-1cecf5104d78"
   },
   "outputs": [
    {
     "data": {
      "text/plain": [
       "Text(0.5, 1.0, 'Correlation Between Sleep Time, Physical Health & Age Category')"
      ]
     },
     "execution_count": 28,
     "metadata": {},
     "output_type": "execute_result"
    },
    {
     "data": {
      "image/png": "[encoded data removed]",
      "text/plain": [
       "<Figure size 720x432 with 1 Axes>"
      ]
     },
     "metadata": {},
     "output_type": "display_data"
    }
   ],
   "source": [
    "#Physical Health\n",
    "\n",
    "ax0 = whd.plot(kind= 'scatter',\n",
    "                x='AgeCategory',\n",
    "                y= 'PhysicalHealth',\n",
    "                figsize= (10,6),\n",
    "                alpha= 0.5,\n",
    "                color='green',\n",
    "                s=Norm_PhysicalHealth * 1000 + 10\n",
    "              )\n",
    "\n",
    "#Sleep Time\n",
    "\n",
    "ax1 = whd.plot(kind= 'scatter',\n",
    "               x = 'AgeCategory',\n",
    "               y = 'SleepTime',\n",
    "               alpha = 0.5,\n",
    "               color = 'blue',\n",
    "               s=Norm_SleepTime * 1000 + 10,\n",
    "               ax = ax0\n",
    "              )\n",
    "ax0.set_ylabel ('Physical Health and Sleep Time')\n",
    "ax0.set_title('Correlation Between Sleep Time, Physical Health & Age Category')\n",
    "\n",
    "\n",
    "# Color Azul = SleepTime    Color Verde = Physical Health\n",
    "# El nivel de brillo de las burbujas inidca la cantidad de mujeres en el gráfico y el tamaño de las mismas depende del eje \"y\"\n",
    "                        "
   ]
  },
  {
   "cell_type": "markdown",
   "id": "8ad9cf42",
   "metadata": {},
   "source": [
    "- Vemos que prácticamente no hay mujeres en la categoría de 18 a 24 años con burbujas prendidas en la parte de la salud física, es decir que una vez más correlacionamos juventud con una mejor salud física, por lo tanto hay menos chances de contraer enfermedad cardíaca."
   ]
  },
  {
   "cell_type": "markdown",
   "id": "837be060",
   "metadata": {
    "id": "0ee14800"
   },
   "source": [
    "## Insights\n",
    "\n",
    "\n",
    "•\tNo hay presencia de datos nulos\n",
    "\n",
    "•\tHay presencia de outliers\n",
    "\n",
    "•\tNo hay correlación importante entre las variables\n",
    "\n",
    "•\tEn este dataset la gente de raza blanca y con enfermedad cardíaca es mayoritaria: 245212\n",
    "\n",
    "•\tEn este dataset 27373 personas sufrieron enfermedad cardíaca.\n",
    "\n",
    "•\tEn cuanto al género, 11234 mujeres tuvieron enfermedad cardíaca y 16139 hombres en este dataset.\n",
    "\n",
    "•\tEn este dataset los no fumadores con enfermedad cardíaca fueron  11336 y fumadores con enfermedad cardíaca 16037.\n",
    "\n",
    "•\tDe las mujeres que tuvieron enfermedad cardíaca, 5354 no eran fumadoras y 5880 eran fumadoras. Pareciera que el hecho de ser fumador no hace la diferencia en este caso.\n",
    "\n",
    "•\tDe los hombres que sufrieron de enfermedad cardíaca, 5982 eran no fumadores y 10157 eran fumadores. Pareciera que, según este dataset, fumar implica una diferencia cuando se trata de hombres fumadores y enfermedad cardíaca.\n",
    "\n",
    "•\tPara ambos géneros las posibilidades de contraer enfermedad cardíaca son relativamente igual excepto cuando tanto hombres y mujeres entran en el rango de edad entre los 70 y 74 años, ahí es cuando los hombres tienen muchas más posibilidades de sufrir una enfermedad cardíaca.\n",
    "\n",
    "•\tHasta los 44 años de edad la misma cantidad que hombres que de mujeres tienen enfermedad cardíaca, luego de esta edad, los hombres son más propensos a la enfermedad cardíaca.\n",
    "\n",
    "•\tSe puede observar claramente que a medida que la categoría de edad es más de 80 años hay más vulnerabilidad de sufrir enfermedades cardíacas. La enfermedad cardíaca puede ocurrir a cualquier edad, pero el riesgo aumenta con la edad. También vemos que no hay una relación de crecimiento de casos de enfermedad cardíaca proporcional a la edad.\n",
    "\n",
    "•\tLa salud física es peor en mujeres que en hombres.\n",
    "\n",
    "•\tSe puede ver que tanto para hombres como para mujeres, el hecho de fumar afecta a la salud física.\n",
    "\n",
    "•\tDe los 111574 hombres con BMI alto, 12755 sufrieron enfermedad cardíaca\n",
    "\n",
    "•\tDe los 4276 hombres con BMI bajo, 324 sufrieron enfermedad cardíaca\n",
    "\n",
    "•\tLos hombres que suelen sufrir enfermedades cardíacas y tienen alta masa corporal y son los que están en los rangos de 65 - 69 años y los de 70 - 74 años.\n",
    "\n",
    "•\tLos tiempos de descanso no parecen influir\n",
    "\n",
    "•\tSe puede observar que el estado de la salud génetica es relevante en este dataset para determinar dificultades físicas, como la dificultad para caminar, aunque cuando la salud génetica es mala puede haber chances de tener buena salud físca igualmente.\n",
    "\n",
    "•\tCuanto más jóvenes son los pacientes de este dataset, mejor es el estado de la salud física, por lo que hay menos chances de contraer enfermedad cardíaca. \n",
    "\n",
    "\n"
   ]
  },
  {
   "cell_type": "markdown",
   "id": "0eae24a8",
   "metadata": {
    "id": "5370fd08"
   },
   "source": [
    "# Primera Práctica Machine Learning\n",
    "\n",
    "## Feature Engineering (manual)"
   ]
  },
  {
   "cell_type": "markdown",
   "id": "7c24d48c",
   "metadata": {},
   "source": [
    "#### En esta práctica transformamos manualmente algunas columnas para crear un código (código paciente), de modo de reducir el número de columnas del dataset. \n",
    "#### Debido a que nuestro problema se trata de clasificación, utilizaremos un modelo de clasificación mediante el algoritmo de machine learning elegido: decision tree, al cual entrenaremos y evaluaremos su performance mediante la métrica de recall y precision."
   ]
  },
  {
   "cell_type": "code",
   "execution_count": 29,
   "id": "b5086522",
   "metadata": {
    "id": "2d483733",
    "outputId": "a1edd116-6bb9-4be1-c17d-53b4390fbd1d"
   },
   "outputs": [
    {
     "data": {
      "text/html": [
       "<div>\n",
       "<style scoped>\n",
       "    .dataframe tbody tr th:only-of-type {\n",
       "        vertical-align: middle;\n",
       "    }\n",
       "\n",
       "    .dataframe tbody tr th {\n",
       "        vertical-align: top;\n",
       "    }\n",
       "\n",
       "    .dataframe thead th {\n",
       "        text-align: right;\n",
       "    }\n",
       "</style>\n",
       "<table border=\"1\" class=\"dataframe\">\n",
       "  <thead>\n",
       "    <tr style=\"text-align: right;\">\n",
       "      <th></th>\n",
       "      <th>BMI</th>\n",
       "      <th>PatientCode</th>\n",
       "      <th>HeartDisease</th>\n",
       "    </tr>\n",
       "  </thead>\n",
       "  <tbody>\n",
       "    <tr>\n",
       "      <th>0</th>\n",
       "      <td>16.60</td>\n",
       "      <td>811000141011</td>\n",
       "      <td>No</td>\n",
       "    </tr>\n",
       "    <tr>\n",
       "      <th>1</th>\n",
       "      <td>20.34</td>\n",
       "      <td>1300010140001</td>\n",
       "      <td>No</td>\n",
       "    </tr>\n",
       "    <tr>\n",
       "      <th>2</th>\n",
       "      <td>26.58</td>\n",
       "      <td>1011000021001</td>\n",
       "      <td>No</td>\n",
       "    </tr>\n",
       "    <tr>\n",
       "      <th>3</th>\n",
       "      <td>24.21</td>\n",
       "      <td>1200000130010</td>\n",
       "      <td>No</td>\n",
       "    </tr>\n",
       "    <tr>\n",
       "      <th>4</th>\n",
       "      <td>23.71</td>\n",
       "      <td>500001140001</td>\n",
       "      <td>No</td>\n",
       "    </tr>\n",
       "    <tr>\n",
       "      <th>...</th>\n",
       "      <td>...</td>\n",
       "      <td>...</td>\n",
       "      <td>...</td>\n",
       "    </tr>\n",
       "    <tr>\n",
       "      <th>319790</th>\n",
       "      <td>27.41</td>\n",
       "      <td>911001021000</td>\n",
       "      <td>Yes</td>\n",
       "    </tr>\n",
       "    <tr>\n",
       "      <th>319791</th>\n",
       "      <td>29.84</td>\n",
       "      <td>401000041001</td>\n",
       "      <td>No</td>\n",
       "    </tr>\n",
       "    <tr>\n",
       "      <th>319792</th>\n",
       "      <td>24.24</td>\n",
       "      <td>600000130001</td>\n",
       "      <td>No</td>\n",
       "    </tr>\n",
       "    <tr>\n",
       "      <th>319793</th>\n",
       "      <td>32.81</td>\n",
       "      <td>200000130000</td>\n",
       "      <td>No</td>\n",
       "    </tr>\n",
       "    <tr>\n",
       "      <th>319794</th>\n",
       "      <td>46.56</td>\n",
       "      <td>1300000130001</td>\n",
       "      <td>No</td>\n",
       "    </tr>\n",
       "  </tbody>\n",
       "</table>\n",
       "<p>319795 rows × 3 columns</p>\n",
       "</div>"
      ],
      "text/plain": [
       "          BMI    PatientCode HeartDisease\n",
       "0       16.60   811000141011           No\n",
       "1       20.34  1300010140001           No\n",
       "2       26.58  1011000021001           No\n",
       "3       24.21  1200000130010           No\n",
       "4       23.71   500001140001           No\n",
       "...       ...            ...          ...\n",
       "319790  27.41   911001021000          Yes\n",
       "319791  29.84   401000041001           No\n",
       "319792  24.24   600000130001           No\n",
       "319793  32.81   200000130000           No\n",
       "319794  46.56  1300000130001           No\n",
       "\n",
       "[319795 rows x 3 columns]"
      ]
     },
     "execution_count": 29,
     "metadata": {},
     "output_type": "execute_result"
    }
   ],
   "source": [
    "# Transformamos los valores Yes (string) por 1 (numérico) y No (string) por o (numérico) de las columnas: Smoking, Alcohol Drinking, Diff Walking,Sex, Age Category,Gen Health, Asthma, Kidney Disease, SkinCancer, Physical Activity, Diabetic, para formar un único código en la columna que denominamos Patient Code\n",
    "\n",
    "smo = {'Yes' : '1', 'No' : '0'} \n",
    "\n",
    "df['SmokingBIN'] = df['Smoking'].apply(lambda x: smo[x])\n",
    "\n",
    "al = {'Yes' : '1', 'No' : '0'}\n",
    "\n",
    "df['AlcoholBIN'] = df['AlcoholDrinking'].apply(lambda x: al[x])\n",
    "\n",
    "\n",
    "st = {'Yes' : '1', 'No' : '0'}\n",
    "\n",
    "df['StrokeBIN'] = df['Stroke'].apply(lambda x: st[x])\n",
    "\n",
    "\n",
    "dw = {'Yes' : '1', 'No' : '0'}\n",
    "\n",
    "df['DiffWalkingBIN'] = df['DiffWalking'].apply(lambda x: dw[x])\n",
    "\n",
    "\n",
    "sx = {'Female' : '1', 'Male' : '0'}\n",
    "\n",
    "df['SexBIN'] = df['Sex'].apply(lambda x: sx[x])\n",
    "\n",
    "\n",
    "\n",
    "ag = {'18-24' : '1', '25-29' : '2', '30-34' : '3', '35-39' : '4', '40-44' : '5', '45-49' : '6', '50-54' : '7', '55-59' : '8', '60-64' : '9', '65-69' : '10', '70-74' : '11', '75-79' : '12', '80 or older' : '13'}\n",
    "\n",
    "df['AgeML'] = df['AgeCategory'].apply(lambda x: ag[x])\n",
    "\n",
    "\n",
    "gh = {'Poor' : '1', 'Fair' : '2', 'Good' : '3', 'Very good' : '4', 'Excellent' : '5'}\n",
    "\n",
    "df['GenML'] = df['GenHealth'].apply(lambda x: gh[x])\n",
    "\n",
    "\n",
    "ast = {'Yes' : '1', 'No' : '0'}\n",
    "\n",
    "df['AsthmaBIN'] = df['Asthma'].apply(lambda x: ast[x])\n",
    "\n",
    "\n",
    "kd = {'Yes' : '1', 'No' : '0'}\n",
    "\n",
    "df['KidneyBIN'] = df['KidneyDisease'].apply(lambda x: kd[x])\n",
    "\n",
    "\n",
    "skc = {'Yes' : '1', 'No' : '0'}\n",
    "\n",
    "df['SkinCancerBIN'] = df['SkinCancer'].apply(lambda x: skc[x])\n",
    "\n",
    "\n",
    "pa = {'Yes' : '1', 'No' : '0'}\n",
    "\n",
    "df['PhysicalBIN'] = df['PhysicalActivity'].apply(lambda x: pa[x])\n",
    "\n",
    "\n",
    "dia = {'No' : '0', 'Yes' : '1', 'Yes (during pregnancy)' : '2', 'No, borderline diabetes' : '3'}\n",
    "\n",
    "df['DiabetesML'] = df['Diabetic'].apply(lambda x: dia[x])\n",
    "\n",
    "\n",
    "# El estado de salud de cada paciente estará regido mediante un código numérico, el valor numérico de cada variable está\n",
    "# programado arriba y el orden de la digitación de los números es el siguiente → df['PatientCode']\n",
    "\n",
    "\n",
    "df['PatientCode'] = df['AgeML'] + df['DiabetesML'] + df['SmokingBIN'] + df['AlcoholBIN'] + df['StrokeBIN'] + df['DiffWalkingBIN'] + df['SexBIN'] + df['GenML'] + df['AsthmaBIN'] + df['KidneyBIN'] + df['SkinCancerBIN'] + df['PhysicalBIN'] \n",
    "# concatenamos\n",
    "\n",
    "dfML = df[['BMI', 'PatientCode', 'HeartDisease']]\n",
    "\n",
    "dfML\n"
   ]
  },
  {
   "cell_type": "code",
   "execution_count": 30,
   "id": "6a919fdd",
   "metadata": {
    "id": "69a90d27",
    "outputId": "5e8c86e2-3fb4-45bc-8f95-058c41b7058a"
   },
   "outputs": [
    {
     "data": {
      "text/plain": [
       "BMI             float64\n",
       "PatientCode      object\n",
       "HeartDisease     object\n",
       "dtype: object"
      ]
     },
     "execution_count": 30,
     "metadata": {},
     "output_type": "execute_result"
    }
   ],
   "source": [
    "dfML.dtypes"
   ]
  },
  {
   "cell_type": "code",
   "execution_count": 31,
   "id": "e38f5bb4",
   "metadata": {
    "id": "8bc0a499",
    "outputId": "9e6725f7-7dd7-4c05-b972-28145257dd1a"
   },
   "outputs": [],
   "source": [
    "# Importamos las librerías necesarias\n",
    "\n",
    "from sklearn.tree import DecisionTreeClassifier \n",
    "from sklearn.model_selection import train_test_split\n",
    "from sklearn.metrics import recall_score\n",
    "from sklearn.metrics import f1_score\n",
    "from sklearn.metrics import precision_score\n",
    "from sklearn import metrics\n",
    "# Definimos los valores de nuestras variables de interés\n",
    "\n",
    "x = dfML.drop(columns=['HeartDisease'])\n",
    "y = dfML['HeartDisease']\n",
    "\n",
    "# Separamos nuestros datos de entrenamiento y testeo\n",
    "\n",
    "x_train, x_test, y_train, y_test = train_test_split(x, y, test_size = 0.2)\n",
    "\n",
    "# Creamos el modelo de árbol de decisión\n",
    "model = DecisionTreeClassifier()\n",
    "\n",
    "# Entrenamos el modelo con los datos de entrenamiento\n",
    "model.fit(x_train, y_train)\n",
    "\n",
    "# Realizamos predicciones con los datos de prueba\n",
    "y_pred = model.predict(x_test)\n"
   ]
  },
  {
   "cell_type": "code",
   "execution_count": 32,
   "id": "4f66a88f",
   "metadata": {},
   "outputs": [
    {
     "data": {
      "text/plain": [
       "195186     No\n",
       "216500     No\n",
       "32560      No\n",
       "216214     No\n",
       "77215      No\n",
       "         ... \n",
       "154792     No\n",
       "92885      No\n",
       "126963     No\n",
       "33481     Yes\n",
       "54524      No\n",
       "Name: HeartDisease, Length: 63959, dtype: object"
      ]
     },
     "execution_count": 32,
     "metadata": {},
     "output_type": "execute_result"
    }
   ],
   "source": [
    "y_test\n"
   ]
  },
  {
   "cell_type": "code",
   "execution_count": 33,
   "id": "c1949bc5",
   "metadata": {},
   "outputs": [
    {
     "data": {
      "text/plain": [
       "array(['No', 'No', 'No', ..., 'No', 'No', 'No'], dtype=object)"
      ]
     },
     "execution_count": 33,
     "metadata": {},
     "output_type": "execute_result"
    }
   ],
   "source": [
    "y_pred"
   ]
  },
  {
   "cell_type": "markdown",
   "id": "24e007fc",
   "metadata": {},
   "source": [
    "Evaluamos la performance de nuestro modelo mediante métricas adecuadas para nuestro problema de clasificación"
   ]
  },
  {
   "cell_type": "code",
   "execution_count": 34,
   "id": "dcd44d71",
   "metadata": {},
   "outputs": [
    {
     "data": {
      "text/plain": [
       "0.1470210815765353"
      ]
     },
     "execution_count": 34,
     "metadata": {},
     "output_type": "execute_result"
    }
   ],
   "source": [
    "recall= recall_score(y_test, y_pred, pos_label='Yes')\n",
    "recall # Nos da idea del número de veces que el clasificador predijo Yes y que verdaderamente fueron Yes.mide la capacidad del clasificador para identificar correctamente las clases positiva (en este caso, 'Sí').\n",
    "\n"
   ]
  },
  {
   "cell_type": "code",
   "execution_count": 35,
   "id": "aa1f4fdd",
   "metadata": {},
   "outputs": [
    {
     "data": {
      "text/plain": [
       "0.9620196909613018"
      ]
     },
     "execution_count": 35,
     "metadata": {},
     "output_type": "execute_result"
    }
   ],
   "source": [
    "recall= recall_score(y_test, y_pred, pos_label='No')\n",
    "recall # Nos da idea del número de veces que el clasificador predijo No y que verdaderamente fueron No"
   ]
  },
  {
   "cell_type": "markdown",
   "id": "49c64052",
   "metadata": {},
   "source": [
    "Veremos ahora que pasa usando la métrica de precisión"
   ]
  },
  {
   "cell_type": "code",
   "execution_count": 36,
   "id": "afc039bb",
   "metadata": {},
   "outputs": [
    {
     "data": {
      "text/plain": [
       "0.26521164021164023"
      ]
     },
     "execution_count": 36,
     "metadata": {},
     "output_type": "execute_result"
    }
   ],
   "source": [
    "precision= precision_score(y_test, y_pred, pos_label= 'Yes')\n",
    "precision"
   ]
  },
  {
   "cell_type": "code",
   "execution_count": 37,
   "id": "3478f0ba",
   "metadata": {},
   "outputs": [
    {
     "data": {
      "text/plain": [
       "0.9236399442028391"
      ]
     },
     "execution_count": 37,
     "metadata": {},
     "output_type": "execute_result"
    }
   ],
   "source": [
    "precision= precision_score(y_test, y_pred, pos_label= 'No')\n",
    "precision"
   ]
  },
  {
   "cell_type": "code",
   "execution_count": 38,
   "id": "0221497c",
   "metadata": {},
   "outputs": [
    {
     "data": {
      "text/plain": [
       "0.1891732515626843"
      ]
     },
     "execution_count": 38,
     "metadata": {},
     "output_type": "execute_result"
    }
   ],
   "source": [
    "f1= f1_score(y_test, y_pred, pos_label= 'Yes')\n",
    "f1"
   ]
  },
  {
   "cell_type": "code",
   "execution_count": 39,
   "id": "83af094d",
   "metadata": {},
   "outputs": [
    {
     "data": {
      "text/plain": [
       "0.9236399442028391"
      ]
     },
     "execution_count": 39,
     "metadata": {},
     "output_type": "execute_result"
    }
   ],
   "source": [
    "precision= precision_score(y_test, y_pred, pos_label= 'No')\n",
    "precision"
   ]
  },
  {
   "cell_type": "code",
   "execution_count": 40,
   "id": "140eba3c",
   "metadata": {},
   "outputs": [
    {
     "name": "stdout",
     "output_type": "stream",
     "text": [
      "              precision    recall  f1-score   support\n",
      "\n",
      "          No       0.92      0.96      0.94     58504\n",
      "         Yes       0.27      0.15      0.19      5455\n",
      "\n",
      "    accuracy                           0.89     63959\n",
      "   macro avg       0.59      0.55      0.57     63959\n",
      "weighted avg       0.87      0.89      0.88     63959\n",
      "\n"
     ]
    }
   ],
   "source": [
    "print(metrics.classification_report(y_test, y_pred))"
   ]
  },
  {
   "cell_type": "markdown",
   "id": "43425855",
   "metadata": {
    "id": "95dd525c"
   },
   "source": [
    " ###  Conclusión Primera Práctica ML\n",
    "\n",
    "- Hasta aquí se ha hecho una reducción de las columnas para comenzar el modelo de machine learning, manipulando los datos manualmente y además se ha elegido un algoritmo (de clasificación) de Machine Learning (DecisionTreeClassifier) con el que entrenamos nuestros datos. A continuación analizamos tres métricas: recall,precisión y f1 score. Podemos observar de los resultados, que el recall para predecir los casos positivos (los que tienen enfermedad cardíaca) es muy bajo, respecto al recall para predecir los casos negativos, es de 0.96. La precisión y el f1 score, la métrica que combina recall y precisión también nos muestran que nuestro modelo predice mejor la clase No que la Yes.Debemos mejorar nuestro modelo."
   ]
  },
  {
   "cell_type": "markdown",
   "id": "b3c5d622",
   "metadata": {},
   "source": [
    "# Segunda Práctica ML"
   ]
  },
  {
   "cell_type": "markdown",
   "id": "1b9b161d",
   "metadata": {},
   "source": [
    "#### En esta práctica vamos a utilizar otro algoritmo de clasificación más complejo: Random Forest. La idea es entrenar nuestro modelo y evaluar si la performance mejora respecto de la práctica primera de ML"
   ]
  },
  {
   "cell_type": "code",
   "execution_count": 41,
   "id": "9d81cd34",
   "metadata": {
    "id": "76f92387"
   },
   "outputs": [],
   "source": [
    " # Importamos las librerías necesarias\n",
    "    \n",
    " from sklearn.ensemble import RandomForestClassifier\n",
    " from sklearn.model_selection import train_test_split\n",
    " from sklearn import metrics\n",
    " from sklearn.tree import DecisionTreeClassifier   \n",
    " import pandas as pd\n",
    " import numpy as np\n",
    " import matplotlib.pyplot as plt\n",
    " from matplotlib import pyplot as plt\n",
    " import seaborn as sns\n",
    " sns.set_style('whitegrid')"
   ]
  },
  {
   "cell_type": "code",
   "execution_count": 42,
   "id": "e6df9e00",
   "metadata": {
    "id": "49a1c4e1",
    "outputId": "915c2718-9f57-4489-e78e-f08dd3c961e7"
   },
   "outputs": [
    {
     "name": "stdout",
     "output_type": "stream",
     "text": [
      "          BMI    PatientCode\n",
      "302533  28.48  1301000040001\n",
      "294033  24.21   901000140001\n",
      "226915  29.05   301000141001\n",
      "241282  29.76   200000041001\n",
      "64974   21.77  1000000040000\n",
      "...       ...            ...\n",
      "308866  31.93   800000020001\n",
      "189645  28.19   300000140001\n",
      "108154  30.18   701000140001\n",
      "73684   22.96  1300000040001\n",
      "214442  25.62   800000050011\n",
      "\n",
      "[255836 rows x 2 columns]\n"
     ]
    }
   ],
   "source": [
    "print(x_train)# visualizamos los datos de xtrain"
   ]
  },
  {
   "cell_type": "code",
   "execution_count": 43,
   "id": "da9c6815",
   "metadata": {
    "id": "2e4e79d7",
    "outputId": "24234c1b-fb25-4caf-ac47-868485423e99"
   },
   "outputs": [
    {
     "name": "stdout",
     "output_type": "stream",
     "text": [
      "302533    No\n",
      "294033    No\n",
      "226915    No\n",
      "241282    No\n",
      "64974     No\n",
      "          ..\n",
      "308866    No\n",
      "189645    No\n",
      "108154    No\n",
      "73684     No\n",
      "214442    No\n",
      "Name: HeartDisease, Length: 255836, dtype: object\n"
     ]
    }
   ],
   "source": [
    "print(y_train)# visualizamos los datos de y_train"
   ]
  },
  {
   "cell_type": "code",
   "execution_count": 44,
   "id": "5399cf43",
   "metadata": {
    "id": "584504f6",
    "outputId": "837dc389-b925-42a9-fd58-a11bf5a1fbce"
   },
   "outputs": [
    {
     "data": {
      "text/html": [
       "<style>#sk-container-id-1 {color: black;background-color: white;}#sk-container-id-1 pre{padding: 0;}#sk-container-id-1 div.sk-toggleable {background-color: white;}#sk-container-id-1 label.sk-toggleable__label {cursor: pointer;display: block;width: 100%;margin-bottom: 0;padding: 0.3em;box-sizing: border-box;text-align: center;}#sk-container-id-1 label.sk-toggleable__label-arrow:before {content: \"▸\";float: left;margin-right: 0.25em;color: #696969;}#sk-container-id-1 label.sk-toggleable__label-arrow:hover:before {color: black;}#sk-container-id-1 div.sk-estimator:hover label.sk-toggleable__label-arrow:before {color: black;}#sk-container-id-1 div.sk-toggleable__content {max-height: 0;max-width: 0;overflow: hidden;text-align: left;background-color: #f0f8ff;}#sk-container-id-1 div.sk-toggleable__content pre {margin: 0.2em;color: black;border-radius: 0.25em;background-color: #f0f8ff;}#sk-container-id-1 input.sk-toggleable__control:checked~div.sk-toggleable__content {max-height: 200px;max-width: 100%;overflow: auto;}#sk-container-id-1 input.sk-toggleable__control:checked~label.sk-toggleable__label-arrow:before {content: \"▾\";}#sk-container-id-1 div.sk-estimator input.sk-toggleable__control:checked~label.sk-toggleable__label {background-color: #d4ebff;}#sk-container-id-1 div.sk-label input.sk-toggleable__control:checked~label.sk-toggleable__label {background-color: #d4ebff;}#sk-container-id-1 input.sk-hidden--visually {border: 0;clip: rect(1px 1px 1px 1px);clip: rect(1px, 1px, 1px, 1px);height: 1px;margin: -1px;overflow: hidden;padding: 0;position: absolute;width: 1px;}#sk-container-id-1 div.sk-estimator {font-family: monospace;background-color: #f0f8ff;border: 1px dotted black;border-radius: 0.25em;box-sizing: border-box;margin-bottom: 0.5em;}#sk-container-id-1 div.sk-estimator:hover {background-color: #d4ebff;}#sk-container-id-1 div.sk-parallel-item::after {content: \"\";width: 100%;border-bottom: 1px solid gray;flex-grow: 1;}#sk-container-id-1 div.sk-label:hover label.sk-toggleable__label {background-color: #d4ebff;}#sk-container-id-1 div.sk-serial::before {content: \"\";position: absolute;border-left: 1px solid gray;box-sizing: border-box;top: 0;bottom: 0;left: 50%;z-index: 0;}#sk-container-id-1 div.sk-serial {display: flex;flex-direction: column;align-items: center;background-color: white;padding-right: 0.2em;padding-left: 0.2em;position: relative;}#sk-container-id-1 div.sk-item {position: relative;z-index: 1;}#sk-container-id-1 div.sk-parallel {display: flex;align-items: stretch;justify-content: center;background-color: white;position: relative;}#sk-container-id-1 div.sk-item::before, #sk-container-id-1 div.sk-parallel-item::before {content: \"\";position: absolute;border-left: 1px solid gray;box-sizing: border-box;top: 0;bottom: 0;left: 50%;z-index: -1;}#sk-container-id-1 div.sk-parallel-item {display: flex;flex-direction: column;z-index: 1;position: relative;background-color: white;}#sk-container-id-1 div.sk-parallel-item:first-child::after {align-self: flex-end;width: 50%;}#sk-container-id-1 div.sk-parallel-item:last-child::after {align-self: flex-start;width: 50%;}#sk-container-id-1 div.sk-parallel-item:only-child::after {width: 0;}#sk-container-id-1 div.sk-dashed-wrapped {border: 1px dashed gray;margin: 0 0.4em 0.5em 0.4em;box-sizing: border-box;padding-bottom: 0.4em;background-color: white;}#sk-container-id-1 div.sk-label label {font-family: monospace;font-weight: bold;display: inline-block;line-height: 1.2em;}#sk-container-id-1 div.sk-label-container {text-align: center;}#sk-container-id-1 div.sk-container {/* jupyter's `normalize.less` sets `[hidden] { display: none; }` but bootstrap.min.css set `[hidden] { display: none !important; }` so we also need the `!important` here to be able to override the default hidden behavior on the sphinx rendered scikit-learn.org. See: https://github.com/scikit-learn/scikit-learn/issues/21755 */display: inline-block !important;position: relative;}#sk-container-id-1 div.sk-text-repr-fallback {display: none;}</style><div id=\"sk-container-id-1\" class=\"sk-top-container\"><div class=\"sk-text-repr-fallback\"><pre>RandomForestClassifier(random_state=1)</pre><b>In a Jupyter environment, please rerun this cell to show the HTML representation or trust the notebook. <br />On GitHub, the HTML representation is unable to render, please try loading this page with nbviewer.org.</b></div><div class=\"sk-container\" hidden><div class=\"sk-item\"><div class=\"sk-estimator sk-toggleable\"><input class=\"sk-toggleable__control sk-hidden--visually\" id=\"sk-estimator-id-1\" type=\"checkbox\" checked><label for=\"sk-estimator-id-1\" class=\"sk-toggleable__label sk-toggleable__label-arrow\">RandomForestClassifier</label><div class=\"sk-toggleable__content\"><pre>RandomForestClassifier(random_state=1)</pre></div></div></div></div></div>"
      ],
      "text/plain": [
       "RandomForestClassifier(random_state=1)"
      ]
     },
     "execution_count": 44,
     "metadata": {},
     "output_type": "execute_result"
    }
   ],
   "source": [
    "model = RandomForestClassifier(random_state=1)\n",
    "model.fit(x_train, y_train)"
   ]
  },
  {
   "cell_type": "code",
   "execution_count": 45,
   "id": "ed689674",
   "metadata": {
    "id": "249f8d71"
   },
   "outputs": [],
   "source": [
    "preds = model.predict(x_test)"
   ]
  },
  {
   "cell_type": "code",
   "execution_count": 46,
   "id": "55471d22",
   "metadata": {
    "id": "bfb40326",
    "outputId": "839d587d-4f60-441f-d300-fcc16fe91ae6"
   },
   "outputs": [
    {
     "data": {
      "text/plain": [
       "<sklearn.metrics._plot.confusion_matrix.ConfusionMatrixDisplay at 0x1782abb7910>"
      ]
     },
     "execution_count": 46,
     "metadata": {},
     "output_type": "execute_result"
    },
    {
     "data": {
      "text/plain": [
       "<Figure size 720x432 with 0 Axes>"
      ]
     },
     "metadata": {},
     "output_type": "display_data"
    },
    {
     "data": {
      "image/png": "[encoded data removed]",
      "text/plain": [
       "<Figure size 864x576 with 2 Axes>"
      ]
     },
     "metadata": {},
     "output_type": "display_data"
    }
   ],
   "source": [
    "plt.figure(figsize=(10,6))\n",
    "metrics.plot_confusion_matrix(model, x_test, y_test, display_labels=['Negative', 'Positive'])"
   ]
  },
  {
   "cell_type": "code",
   "execution_count": 47,
   "id": "77ca63d5",
   "metadata": {
    "id": "6c7e0fd9",
    "outputId": "16addd00-46ba-4bf0-bb06-3adc901a5383",
    "scrolled": true
   },
   "outputs": [
    {
     "name": "stdout",
     "output_type": "stream",
     "text": [
      "              precision    recall  f1-score   support\n",
      "\n",
      "          No       0.92      0.97      0.95     58504\n",
      "         Yes       0.27      0.12      0.17      5455\n",
      "\n",
      "    accuracy                           0.90     63959\n",
      "   macro avg       0.60      0.55      0.56     63959\n",
      "weighted avg       0.87      0.90      0.88     63959\n",
      "\n"
     ]
    }
   ],
   "source": [
    "print(metrics.classification_report(y_test, preds))"
   ]
  },
  {
   "cell_type": "markdown",
   "id": "9ca4b83c",
   "metadata": {
    "id": "9042cb61"
   },
   "source": [
    "### Conclusiones Segunda práctica ML\n",
    "\n",
    "- Se puede ver que la cantidad de datos para cada clase está desbalanceada, es decir, no conviene usar accuracy como métrica. Para la clase No, al tener alta precisión, alto recall y alto f1, el modelo maneja muy bien esta clase. Para la clase Si, al tener baja precisión, bajo recall y bajo f1, el modelo no estaría manejando muy bien esta clase.\n",
    "\n",
    "\n",
    "- De la comparación entre el modelo de Decision Tree y el de Random Forest, utilizando el feature engeneering manual, podemos concluir al ver los resultados de las métricas, que no presentan prácticamente ninguna mejoría las métricas."
   ]
  },
  {
   "cell_type": "markdown",
   "id": "70f1e5b2",
   "metadata": {
    "id": "a95a0f9d"
   },
   "source": [
    "# Tercera Práctica Machine Learning\n",
    "\n",
    "#### A continuación se intentará mejorar el modelo de Machine Learning anterior. Trataremos de aumentar el valor de nuestras métricas para los 'Yes' en Heart Disease. Para ello, balancearemos nuestros datos, dicho balanceo lo haremos mediante Oversampling y Undersampling para luego saber cual conviene elegir.\n",
    "\n",
    "#### Una vez balanceados nuestros datos, se evaluará la performance de nuestro modelo con los algoritmos de Decision Tree, Random Forest y KNN, utilizando las métricas: recall, f1_score, precisión."
   ]
  },
  {
   "cell_type": "markdown",
   "id": "1b3c8bc3",
   "metadata": {
    "id": "508c7d84"
   },
   "source": [
    "#### ¿Cómo están distribuidas las clases 'Yes' y 'No'?"
   ]
  },
  {
   "cell_type": "code",
   "execution_count": 48,
   "id": "dfc3f78f",
   "metadata": {
    "id": "379657c3",
    "outputId": "4ce44f93-d301-4fa6-cf69-63b02e7d0c8c"
   },
   "outputs": [
    {
     "data": {
      "text/plain": [
       "No     292422\n",
       "Yes     27373\n",
       "Name: HeartDisease, dtype: int64"
      ]
     },
     "execution_count": 48,
     "metadata": {},
     "output_type": "execute_result"
    }
   ],
   "source": [
    "HeartDisease_count = y.value_counts()\n",
    "HeartDisease_count"
   ]
  },
  {
   "cell_type": "markdown",
   "id": "6785720d",
   "metadata": {},
   "source": [
    "Se puede ver que la mayoría de datos corresponde a personas que no tienen enfermedad cardíaca"
   ]
  },
  {
   "cell_type": "markdown",
   "id": "0b744bc6",
   "metadata": {
    "id": "f3f2aef4"
   },
   "source": [
    "#### Veamos cuantos datos tienen nuestos datos de train y test"
   ]
  },
  {
   "cell_type": "code",
   "execution_count": 49,
   "id": "33fd0560",
   "metadata": {
    "id": "0213f2b1",
    "outputId": "dde8560d-8d40-44a9-deab-673c266dadba"
   },
   "outputs": [
    {
     "data": {
      "text/plain": [
       "((255836, 2), (255836,), (63959, 2), (63959,))"
      ]
     },
     "execution_count": 49,
     "metadata": {},
     "output_type": "execute_result"
    }
   ],
   "source": [
    "x_train.shape, y_train.shape, x_test.shape, y_test.shape"
   ]
  },
  {
   "cell_type": "code",
   "execution_count": 50,
   "id": "0ee81a00",
   "metadata": {
    "id": "3194d553",
    "outputId": "87b0efa1-f1a4-4e86-b0a6-213244e508fc"
   },
   "outputs": [
    {
     "data": {
      "text/plain": [
       "No     233918\n",
       "Yes     21918\n",
       "Name: HeartDisease, dtype: int64"
      ]
     },
     "execution_count": 50,
     "metadata": {},
     "output_type": "execute_result"
    }
   ],
   "source": [
    "y_train.value_counts()"
   ]
  },
  {
   "cell_type": "markdown",
   "id": "afdd19ab",
   "metadata": {
    "id": "4baf7634"
   },
   "source": [
    "## Balanceo de Clases"
   ]
  },
  {
   "cell_type": "code",
   "execution_count": 51,
   "id": "5c674abd",
   "metadata": {
    "id": "5346429b",
    "outputId": "e5847582-b938-4979-c153-ac6bd22a58de"
   },
   "outputs": [
    {
     "name": "stdout",
     "output_type": "stream",
     "text": [
      "Requirement already satisfied: imbalanced-learn in c:\\users\\pedro\\anaconda3\\lib\\site-packages (0.10.0)\n",
      "Requirement already satisfied: numpy>=1.17.3 in c:\\users\\pedro\\anaconda3\\lib\\site-packages (from imbalanced-learn) (1.21.5)\n",
      "Requirement already satisfied: scipy>=1.3.2 in c:\\users\\pedro\\anaconda3\\lib\\site-packages (from imbalanced-learn) (1.7.3)\n",
      "Requirement already satisfied: threadpoolctl>=2.0.0 in c:\\users\\pedro\\anaconda3\\lib\\site-packages (from imbalanced-learn) (2.2.0)\n",
      "Requirement already satisfied: scikit-learn>=1.0.2 in c:\\users\\pedro\\anaconda3\\lib\\site-packages (from imbalanced-learn) (1.1.1)\n",
      "Requirement already satisfied: joblib>=1.1.1 in c:\\users\\pedro\\anaconda3\\lib\\site-packages (from imbalanced-learn) (1.2.0)\n"
     ]
    }
   ],
   "source": [
    "! pip install -U imbalanced-learn \n",
    "#importamos la librería imbalanced learn para utilizarla con Random Forest Calssifier"
   ]
  },
  {
   "cell_type": "markdown",
   "id": "e16f3761",
   "metadata": {
    "id": "7c519235"
   },
   "source": [
    "### Submuestreo de clases mayoritarias"
   ]
  },
  {
   "cell_type": "code",
   "execution_count": 52,
   "id": "80a75d68",
   "metadata": {},
   "outputs": [],
   "source": [
    "from imblearn.under_sampling import RandomUnderSampler\n",
    "\n",
    "# Creamos el objeto RandomUnderSampler\n",
    "under_sampler = RandomUnderSampler() #  elimina algunos de los ejemplos de las clases mayoritarias para que el conjunto de datos sea más equilibrado.\n",
    "\n",
    "# Aplicamos el balanceo de clases al conjunto de datos\n",
    "x_resampled, y_resampled = under_sampler.fit_resample(x, y)\n"
   ]
  },
  {
   "cell_type": "code",
   "execution_count": 53,
   "id": "de68bf16",
   "metadata": {},
   "outputs": [],
   "source": [
    "# Separamos nuestros datos de entrenamiento y testeo\n",
    "\n",
    "x_train, x_test, y_train, y_test = train_test_split(x_resampled, y_resampled, test_size = 0.2)\n"
   ]
  },
  {
   "cell_type": "markdown",
   "id": "8454fcfa",
   "metadata": {},
   "source": [
    "#### Aplicaremos el balanceo de clases a nuestro Modelo de Decision Tree"
   ]
  },
  {
   "cell_type": "code",
   "execution_count": 54,
   "id": "f303210b",
   "metadata": {},
   "outputs": [],
   "source": [
    "# Creamos el modelo de árbol de decisión\n",
    "model = DecisionTreeClassifier()\n",
    "\n",
    "# Entrenamos el modelo con los datos de entrenamiento\n",
    "model.fit(x_train, y_train)\n",
    "\n",
    "# Realizamos predicciones con los datos de prueba\n",
    "y_pred = model.predict(x_test)"
   ]
  },
  {
   "cell_type": "code",
   "execution_count": 55,
   "id": "4d543e0f",
   "metadata": {},
   "outputs": [
    {
     "name": "stdout",
     "output_type": "stream",
     "text": [
      "              precision    recall  f1-score   support\n",
      "\n",
      "          No       0.66      0.69      0.68      5483\n",
      "         Yes       0.68      0.64      0.66      5467\n",
      "\n",
      "    accuracy                           0.67     10950\n",
      "   macro avg       0.67      0.67      0.67     10950\n",
      "weighted avg       0.67      0.67      0.67     10950\n",
      "\n"
     ]
    }
   ],
   "source": [
    "print(metrics.classification_report(y_test, y_pred))"
   ]
  },
  {
   "cell_type": "markdown",
   "id": "469b4d94",
   "metadata": {},
   "source": [
    "#### Aplicaremos el balanceo de clases a nuestro modelo de Random Forest"
   ]
  },
  {
   "cell_type": "code",
   "execution_count": 56,
   "id": "0cb155a9",
   "metadata": {},
   "outputs": [],
   "source": [
    "# Creamos el modelo de Random Forest\n",
    "model = RandomForestClassifier(random_state=1)\n",
    "\n",
    "# Entrenamos el modelo con los datos de entrenamiento\n",
    "model.fit(x_train, y_train)\n",
    "\n",
    "# Realizamos predicciones con los datos de prueba\n",
    "y_pred = model.predict(x_test)"
   ]
  },
  {
   "cell_type": "code",
   "execution_count": 57,
   "id": "ab70bf1c",
   "metadata": {},
   "outputs": [
    {
     "name": "stdout",
     "output_type": "stream",
     "text": [
      "              precision    recall  f1-score   support\n",
      "\n",
      "          No       0.69      0.67      0.68      5483\n",
      "         Yes       0.68      0.70      0.69      5467\n",
      "\n",
      "    accuracy                           0.69     10950\n",
      "   macro avg       0.69      0.69      0.69     10950\n",
      "weighted avg       0.69      0.69      0.69     10950\n",
      "\n"
     ]
    }
   ],
   "source": [
    "print(metrics.classification_report(y_test, y_pred))"
   ]
  },
  {
   "cell_type": "markdown",
   "id": "9c00b8b4",
   "metadata": {},
   "source": [
    "#### Aplicaremos el balanceo de clases a nuestro modelo de KNN"
   ]
  },
  {
   "cell_type": "code",
   "execution_count": 58,
   "id": "eec33fe9",
   "metadata": {},
   "outputs": [],
   "source": [
    "from sklearn.neighbors import KNeighborsClassifier\n",
    "\n",
    "# Creamos un clasificador KNN con 3 vecinos\n",
    "knn = KNeighborsClassifier(n_neighbors=3)\n",
    "\n",
    "# Entremaos nuestos datos\n",
    "knn.fit(x_train, y_train)\n",
    "\n",
    "# Hacemos predicciones\n",
    "y_pred = knn.predict(x_test)"
   ]
  },
  {
   "cell_type": "code",
   "execution_count": 59,
   "id": "a67eafae",
   "metadata": {},
   "outputs": [
    {
     "name": "stdout",
     "output_type": "stream",
     "text": [
      "              precision    recall  f1-score   support\n",
      "\n",
      "          No       0.72      0.71      0.71      5483\n",
      "         Yes       0.71      0.73      0.72      5467\n",
      "\n",
      "    accuracy                           0.72     10950\n",
      "   macro avg       0.72      0.72      0.72     10950\n",
      "weighted avg       0.72      0.72      0.72     10950\n",
      "\n"
     ]
    }
   ],
   "source": [
    "print(metrics.classification_report(y_test, y_pred))"
   ]
  },
  {
   "cell_type": "markdown",
   "id": "f0aa48b3",
   "metadata": {},
   "source": [
    "### Sobremuestreo de clases minoritarias"
   ]
  },
  {
   "cell_type": "code",
   "execution_count": 60,
   "id": "82d27d30",
   "metadata": {},
   "outputs": [],
   "source": [
    "from imblearn.over_sampling import RandomOverSampler\n",
    "\n",
    "# Creamos el objeto RandomOverSampler\n",
    "over_sampler = RandomOverSampler() # duplicar o triplicar los ejemplos de las clases minoritarias para que el conjunto de datos sea más equilibrado.\n",
    "\n",
    "# Aplicamos el balanceo de clases al conjunto de datos\n",
    "x_resampled, y_resampled = over_sampler.fit_resample(x, y)\n"
   ]
  },
  {
   "cell_type": "code",
   "execution_count": 61,
   "id": "932cd18e",
   "metadata": {},
   "outputs": [],
   "source": [
    "# Separamos nuestros datos de entrenamiento y testeo\n",
    "\n",
    "x_train, x_test, y_train, y_test = train_test_split(x_resampled, y_resampled, test_size = 0.2)\n"
   ]
  },
  {
   "cell_type": "markdown",
   "id": "58634bb1",
   "metadata": {},
   "source": [
    "#### Aplicamos el balanceo de clases a nuestro modelo de Decision Tree"
   ]
  },
  {
   "cell_type": "code",
   "execution_count": 62,
   "id": "a93b69b2",
   "metadata": {},
   "outputs": [],
   "source": [
    "# Creamos el modelo de árbol de decisión\n",
    "model = DecisionTreeClassifier()\n",
    "\n",
    "# Entrenamos el modelo con los datos de entrenamiento\n",
    "model.fit(x_train, y_train)\n",
    "\n",
    "# Realizamos predicciones con los datos de prueba\n",
    "y_pred = model.predict(x_test)"
   ]
  },
  {
   "cell_type": "code",
   "execution_count": 63,
   "id": "38a15fd3",
   "metadata": {},
   "outputs": [
    {
     "name": "stdout",
     "output_type": "stream",
     "text": [
      "              precision    recall  f1-score   support\n",
      "\n",
      "          No       0.93      0.82      0.87     58389\n",
      "         Yes       0.84      0.93      0.88     58580\n",
      "\n",
      "    accuracy                           0.88    116969\n",
      "   macro avg       0.88      0.88      0.88    116969\n",
      "weighted avg       0.88      0.88      0.88    116969\n",
      "\n"
     ]
    }
   ],
   "source": [
    "print(metrics.classification_report(y_test, y_pred))"
   ]
  },
  {
   "cell_type": "markdown",
   "id": "8a9afe9e",
   "metadata": {},
   "source": [
    "#### Aplicamos el balanceo de clases a nuestro modelo de Random Forest"
   ]
  },
  {
   "cell_type": "code",
   "execution_count": 64,
   "id": "75d31c1c",
   "metadata": {},
   "outputs": [],
   "source": [
    "# Creamos el modelo de Random Forest\n",
    "model = RandomForestClassifier(random_state=1)\n",
    "\n",
    "# Entrenamos el modelo con los datos de entrenamiento\n",
    "model.fit(x_train, y_train)\n",
    "\n",
    "# Realizamos predicciones con los datos de prueba\n",
    "y_pred = model.predict(x_test)"
   ]
  },
  {
   "cell_type": "code",
   "execution_count": 65,
   "id": "4c9f5428",
   "metadata": {},
   "outputs": [
    {
     "name": "stdout",
     "output_type": "stream",
     "text": [
      "              precision    recall  f1-score   support\n",
      "\n",
      "          No       0.93      0.82      0.87     58389\n",
      "         Yes       0.84      0.94      0.89     58580\n",
      "\n",
      "    accuracy                           0.88    116969\n",
      "   macro avg       0.88      0.88      0.88    116969\n",
      "weighted avg       0.88      0.88      0.88    116969\n",
      "\n"
     ]
    }
   ],
   "source": [
    "print(metrics.classification_report(y_test, y_pred))"
   ]
  },
  {
   "cell_type": "markdown",
   "id": "a9afdbe9",
   "metadata": {},
   "source": [
    "#### Aplicamos el balanceo de clases a nuestro modelo de KNN"
   ]
  },
  {
   "cell_type": "code",
   "execution_count": 66,
   "id": "0af47101",
   "metadata": {},
   "outputs": [],
   "source": [
    "# Creamos un clasificador KNN con 3 vecinos\n",
    "knn = KNeighborsClassifier(n_neighbors=3)\n",
    "\n",
    "# Entremaos nuestos datos\n",
    "knn.fit(x_train, y_train)\n",
    "\n",
    "# Hacemos predicciones\n",
    "y_pred = knn.predict(x_test)"
   ]
  },
  {
   "cell_type": "code",
   "execution_count": 67,
   "id": "33c60283",
   "metadata": {},
   "outputs": [
    {
     "name": "stdout",
     "output_type": "stream",
     "text": [
      "              precision    recall  f1-score   support\n",
      "\n",
      "          No       0.98      0.84      0.90     58389\n",
      "         Yes       0.86      0.98      0.91     58580\n",
      "\n",
      "    accuracy                           0.91    116969\n",
      "   macro avg       0.92      0.91      0.91    116969\n",
      "weighted avg       0.92      0.91      0.91    116969\n",
      "\n"
     ]
    }
   ],
   "source": [
    "print(metrics.classification_report(y_test, y_pred))"
   ]
  },
  {
   "cell_type": "markdown",
   "id": "40dc7876",
   "metadata": {},
   "source": [
    "### Conclusiones Tercera práctica de Machine Learning"
   ]
  },
  {
   "cell_type": "markdown",
   "id": "5a3f3009",
   "metadata": {},
   "source": [
    "- Se puede observar que las métricas con el balanceo de clases mejoran respecto de aquellas obtenidas con las clases desbalanceadas (segunda práctica). También concluimos que el sobre muestreo es la técnica que mejora aún más nuestras métricas, y que no hay mucha diferencia en las métricas obtenidas con sobremuestreo para los modelos de Decision Tree o Random Forest. Los mejores resultados de métricas se obtuvieron aplicando sobremuestreo o submuestreo al modelo de KNN para 3 vecinos cercanos."
   ]
  },
  {
   "cell_type": "markdown",
   "id": "b027522c",
   "metadata": {
    "id": "a1c243c8"
   },
   "source": [
    "# Cuarta Práctica Machine Learning\n",
    "\n",
    "## Feature Engineering (Encoding)\n",
    "\n",
    "#### En esta tercera práctica se convertirán nuevamente las columnas con datos numéricos para el proceso de ML, con la diferencia de esta vez hacerlo por medio de herramientas de Python en lugar de hacerlo a mano. También realizaremos un tratamiento de normalización a los datos."
   ]
  },
  {
   "cell_type": "code",
   "execution_count": 68,
   "id": "4a5cb00c",
   "metadata": {
    "id": "9274be96",
    "outputId": "1fd7b213-44dc-4c83-b871-f0b2d08b7bff"
   },
   "outputs": [
    {
     "data": {
      "text/html": [
       "<div>\n",
       "<style scoped>\n",
       "    .dataframe tbody tr th:only-of-type {\n",
       "        vertical-align: middle;\n",
       "    }\n",
       "\n",
       "    .dataframe tbody tr th {\n",
       "        vertical-align: top;\n",
       "    }\n",
       "\n",
       "    .dataframe thead th {\n",
       "        text-align: right;\n",
       "    }\n",
       "</style>\n",
       "<table border=\"1\" class=\"dataframe\">\n",
       "  <thead>\n",
       "    <tr style=\"text-align: right;\">\n",
       "      <th></th>\n",
       "      <th>HeartDisease</th>\n",
       "      <th>BMI</th>\n",
       "      <th>Smoking</th>\n",
       "      <th>AlcoholDrinking</th>\n",
       "      <th>Stroke</th>\n",
       "      <th>PhysicalHealth</th>\n",
       "      <th>MentalHealth</th>\n",
       "      <th>DiffWalking</th>\n",
       "      <th>Sex</th>\n",
       "      <th>AgeCategory</th>\n",
       "      <th>Race</th>\n",
       "      <th>Diabetic</th>\n",
       "      <th>PhysicalActivity</th>\n",
       "      <th>GenHealth</th>\n",
       "      <th>SleepTime</th>\n",
       "      <th>Asthma</th>\n",
       "      <th>KidneyDisease</th>\n",
       "      <th>SkinCancer</th>\n",
       "    </tr>\n",
       "  </thead>\n",
       "  <tbody>\n",
       "    <tr>\n",
       "      <th>0</th>\n",
       "      <td>No</td>\n",
       "      <td>16.60</td>\n",
       "      <td>Yes</td>\n",
       "      <td>No</td>\n",
       "      <td>No</td>\n",
       "      <td>3.0</td>\n",
       "      <td>30.0</td>\n",
       "      <td>No</td>\n",
       "      <td>Female</td>\n",
       "      <td>55-59</td>\n",
       "      <td>White</td>\n",
       "      <td>Yes</td>\n",
       "      <td>Yes</td>\n",
       "      <td>Very good</td>\n",
       "      <td>5.0</td>\n",
       "      <td>Yes</td>\n",
       "      <td>No</td>\n",
       "      <td>Yes</td>\n",
       "    </tr>\n",
       "    <tr>\n",
       "      <th>1</th>\n",
       "      <td>No</td>\n",
       "      <td>20.34</td>\n",
       "      <td>No</td>\n",
       "      <td>No</td>\n",
       "      <td>Yes</td>\n",
       "      <td>0.0</td>\n",
       "      <td>0.0</td>\n",
       "      <td>No</td>\n",
       "      <td>Female</td>\n",
       "      <td>80 or older</td>\n",
       "      <td>White</td>\n",
       "      <td>No</td>\n",
       "      <td>Yes</td>\n",
       "      <td>Very good</td>\n",
       "      <td>7.0</td>\n",
       "      <td>No</td>\n",
       "      <td>No</td>\n",
       "      <td>No</td>\n",
       "    </tr>\n",
       "    <tr>\n",
       "      <th>2</th>\n",
       "      <td>No</td>\n",
       "      <td>26.58</td>\n",
       "      <td>Yes</td>\n",
       "      <td>No</td>\n",
       "      <td>No</td>\n",
       "      <td>20.0</td>\n",
       "      <td>30.0</td>\n",
       "      <td>No</td>\n",
       "      <td>Male</td>\n",
       "      <td>65-69</td>\n",
       "      <td>White</td>\n",
       "      <td>Yes</td>\n",
       "      <td>Yes</td>\n",
       "      <td>Fair</td>\n",
       "      <td>8.0</td>\n",
       "      <td>Yes</td>\n",
       "      <td>No</td>\n",
       "      <td>No</td>\n",
       "    </tr>\n",
       "    <tr>\n",
       "      <th>3</th>\n",
       "      <td>No</td>\n",
       "      <td>24.21</td>\n",
       "      <td>No</td>\n",
       "      <td>No</td>\n",
       "      <td>No</td>\n",
       "      <td>0.0</td>\n",
       "      <td>0.0</td>\n",
       "      <td>No</td>\n",
       "      <td>Female</td>\n",
       "      <td>75-79</td>\n",
       "      <td>White</td>\n",
       "      <td>No</td>\n",
       "      <td>No</td>\n",
       "      <td>Good</td>\n",
       "      <td>6.0</td>\n",
       "      <td>No</td>\n",
       "      <td>No</td>\n",
       "      <td>Yes</td>\n",
       "    </tr>\n",
       "    <tr>\n",
       "      <th>4</th>\n",
       "      <td>No</td>\n",
       "      <td>23.71</td>\n",
       "      <td>No</td>\n",
       "      <td>No</td>\n",
       "      <td>No</td>\n",
       "      <td>28.0</td>\n",
       "      <td>0.0</td>\n",
       "      <td>Yes</td>\n",
       "      <td>Female</td>\n",
       "      <td>40-44</td>\n",
       "      <td>White</td>\n",
       "      <td>No</td>\n",
       "      <td>Yes</td>\n",
       "      <td>Very good</td>\n",
       "      <td>8.0</td>\n",
       "      <td>No</td>\n",
       "      <td>No</td>\n",
       "      <td>No</td>\n",
       "    </tr>\n",
       "    <tr>\n",
       "      <th>...</th>\n",
       "      <td>...</td>\n",
       "      <td>...</td>\n",
       "      <td>...</td>\n",
       "      <td>...</td>\n",
       "      <td>...</td>\n",
       "      <td>...</td>\n",
       "      <td>...</td>\n",
       "      <td>...</td>\n",
       "      <td>...</td>\n",
       "      <td>...</td>\n",
       "      <td>...</td>\n",
       "      <td>...</td>\n",
       "      <td>...</td>\n",
       "      <td>...</td>\n",
       "      <td>...</td>\n",
       "      <td>...</td>\n",
       "      <td>...</td>\n",
       "      <td>...</td>\n",
       "    </tr>\n",
       "    <tr>\n",
       "      <th>319790</th>\n",
       "      <td>Yes</td>\n",
       "      <td>27.41</td>\n",
       "      <td>Yes</td>\n",
       "      <td>No</td>\n",
       "      <td>No</td>\n",
       "      <td>7.0</td>\n",
       "      <td>0.0</td>\n",
       "      <td>Yes</td>\n",
       "      <td>Male</td>\n",
       "      <td>60-64</td>\n",
       "      <td>Hispanic</td>\n",
       "      <td>Yes</td>\n",
       "      <td>No</td>\n",
       "      <td>Fair</td>\n",
       "      <td>6.0</td>\n",
       "      <td>Yes</td>\n",
       "      <td>No</td>\n",
       "      <td>No</td>\n",
       "    </tr>\n",
       "    <tr>\n",
       "      <th>319791</th>\n",
       "      <td>No</td>\n",
       "      <td>29.84</td>\n",
       "      <td>Yes</td>\n",
       "      <td>No</td>\n",
       "      <td>No</td>\n",
       "      <td>0.0</td>\n",
       "      <td>0.0</td>\n",
       "      <td>No</td>\n",
       "      <td>Male</td>\n",
       "      <td>35-39</td>\n",
       "      <td>Hispanic</td>\n",
       "      <td>No</td>\n",
       "      <td>Yes</td>\n",
       "      <td>Very good</td>\n",
       "      <td>5.0</td>\n",
       "      <td>Yes</td>\n",
       "      <td>No</td>\n",
       "      <td>No</td>\n",
       "    </tr>\n",
       "    <tr>\n",
       "      <th>319792</th>\n",
       "      <td>No</td>\n",
       "      <td>24.24</td>\n",
       "      <td>No</td>\n",
       "      <td>No</td>\n",
       "      <td>No</td>\n",
       "      <td>0.0</td>\n",
       "      <td>0.0</td>\n",
       "      <td>No</td>\n",
       "      <td>Female</td>\n",
       "      <td>45-49</td>\n",
       "      <td>Hispanic</td>\n",
       "      <td>No</td>\n",
       "      <td>Yes</td>\n",
       "      <td>Good</td>\n",
       "      <td>6.0</td>\n",
       "      <td>No</td>\n",
       "      <td>No</td>\n",
       "      <td>No</td>\n",
       "    </tr>\n",
       "    <tr>\n",
       "      <th>319793</th>\n",
       "      <td>No</td>\n",
       "      <td>32.81</td>\n",
       "      <td>No</td>\n",
       "      <td>No</td>\n",
       "      <td>No</td>\n",
       "      <td>0.0</td>\n",
       "      <td>0.0</td>\n",
       "      <td>No</td>\n",
       "      <td>Female</td>\n",
       "      <td>25-29</td>\n",
       "      <td>Hispanic</td>\n",
       "      <td>No</td>\n",
       "      <td>No</td>\n",
       "      <td>Good</td>\n",
       "      <td>12.0</td>\n",
       "      <td>No</td>\n",
       "      <td>No</td>\n",
       "      <td>No</td>\n",
       "    </tr>\n",
       "    <tr>\n",
       "      <th>319794</th>\n",
       "      <td>No</td>\n",
       "      <td>46.56</td>\n",
       "      <td>No</td>\n",
       "      <td>No</td>\n",
       "      <td>No</td>\n",
       "      <td>0.0</td>\n",
       "      <td>0.0</td>\n",
       "      <td>No</td>\n",
       "      <td>Female</td>\n",
       "      <td>80 or older</td>\n",
       "      <td>Hispanic</td>\n",
       "      <td>No</td>\n",
       "      <td>Yes</td>\n",
       "      <td>Good</td>\n",
       "      <td>8.0</td>\n",
       "      <td>No</td>\n",
       "      <td>No</td>\n",
       "      <td>No</td>\n",
       "    </tr>\n",
       "  </tbody>\n",
       "</table>\n",
       "<p>319795 rows × 18 columns</p>\n",
       "</div>"
      ],
      "text/plain": [
       "       HeartDisease    BMI Smoking AlcoholDrinking Stroke  PhysicalHealth  \\\n",
       "0                No  16.60     Yes              No     No             3.0   \n",
       "1                No  20.34      No              No    Yes             0.0   \n",
       "2                No  26.58     Yes              No     No            20.0   \n",
       "3                No  24.21      No              No     No             0.0   \n",
       "4                No  23.71      No              No     No            28.0   \n",
       "...             ...    ...     ...             ...    ...             ...   \n",
       "319790          Yes  27.41     Yes              No     No             7.0   \n",
       "319791           No  29.84     Yes              No     No             0.0   \n",
       "319792           No  24.24      No              No     No             0.0   \n",
       "319793           No  32.81      No              No     No             0.0   \n",
       "319794           No  46.56      No              No     No             0.0   \n",
       "\n",
       "        MentalHealth DiffWalking     Sex  AgeCategory      Race Diabetic  \\\n",
       "0               30.0          No  Female        55-59     White      Yes   \n",
       "1                0.0          No  Female  80 or older     White       No   \n",
       "2               30.0          No    Male        65-69     White      Yes   \n",
       "3                0.0          No  Female        75-79     White       No   \n",
       "4                0.0         Yes  Female        40-44     White       No   \n",
       "...              ...         ...     ...          ...       ...      ...   \n",
       "319790           0.0         Yes    Male        60-64  Hispanic      Yes   \n",
       "319791           0.0          No    Male        35-39  Hispanic       No   \n",
       "319792           0.0          No  Female        45-49  Hispanic       No   \n",
       "319793           0.0          No  Female        25-29  Hispanic       No   \n",
       "319794           0.0          No  Female  80 or older  Hispanic       No   \n",
       "\n",
       "       PhysicalActivity  GenHealth  SleepTime Asthma KidneyDisease SkinCancer  \n",
       "0                   Yes  Very good        5.0    Yes            No        Yes  \n",
       "1                   Yes  Very good        7.0     No            No         No  \n",
       "2                   Yes       Fair        8.0    Yes            No         No  \n",
       "3                    No       Good        6.0     No            No        Yes  \n",
       "4                   Yes  Very good        8.0     No            No         No  \n",
       "...                 ...        ...        ...    ...           ...        ...  \n",
       "319790               No       Fair        6.0    Yes            No         No  \n",
       "319791              Yes  Very good        5.0    Yes            No         No  \n",
       "319792              Yes       Good        6.0     No            No         No  \n",
       "319793               No       Good       12.0     No            No         No  \n",
       "319794              Yes       Good        8.0     No            No         No  \n",
       "\n",
       "[319795 rows x 18 columns]"
      ]
     },
     "execution_count": 68,
     "metadata": {},
     "output_type": "execute_result"
    }
   ],
   "source": [
    "df5 =  pd.read_csv('heart_2020_cleaned.csv') # leemos nuevamente el dataset y se lo asignamos a una nueva variable para trabajarlo\n",
    "df5"
   ]
  },
  {
   "cell_type": "code",
   "execution_count": 69,
   "id": "d36a1873",
   "metadata": {
    "id": "aa931a08"
   },
   "outputs": [],
   "source": [
    "GH_dicc = {'Poor':1,\n",
    "         'Fair':2,\n",
    "         'Good':3,\n",
    "         'Very good':4,\n",
    "         'Excellent':5 } # realizamos un diccionario asignando los números que tomarán las variables categóricas de la columna Gen Health, con una cierta cardinalidad\n",
    "\n",
    "df5['GH_ordinal']=df5.GenHealth.map(GH_dicc) # a la nueva columna la llamaremos GH_ordinal"
   ]
  },
  {
   "cell_type": "code",
   "execution_count": 70,
   "id": "1b07a4f4",
   "metadata": {
    "id": "efe16acb"
   },
   "outputs": [],
   "source": [
    "df5 = df5.drop(['GenHealth'],axis=1) # borramos la antigua columna Gen Health"
   ]
  },
  {
   "cell_type": "code",
   "execution_count": 71,
   "id": "8ecccc5e",
   "metadata": {
    "id": "e0888cec",
    "outputId": "de0257bb-0825-4d56-e1cd-462e3297764a"
   },
   "outputs": [
    {
     "data": {
      "text/html": [
       "<div>\n",
       "<style scoped>\n",
       "    .dataframe tbody tr th:only-of-type {\n",
       "        vertical-align: middle;\n",
       "    }\n",
       "\n",
       "    .dataframe tbody tr th {\n",
       "        vertical-align: top;\n",
       "    }\n",
       "\n",
       "    .dataframe thead th {\n",
       "        text-align: right;\n",
       "    }\n",
       "</style>\n",
       "<table border=\"1\" class=\"dataframe\">\n",
       "  <thead>\n",
       "    <tr style=\"text-align: right;\">\n",
       "      <th></th>\n",
       "      <th>HeartDisease</th>\n",
       "      <th>BMI</th>\n",
       "      <th>Smoking</th>\n",
       "      <th>AlcoholDrinking</th>\n",
       "      <th>Stroke</th>\n",
       "      <th>PhysicalHealth</th>\n",
       "      <th>MentalHealth</th>\n",
       "      <th>DiffWalking</th>\n",
       "      <th>AgeCategory</th>\n",
       "      <th>Diabetic</th>\n",
       "      <th>...</th>\n",
       "      <th>SkinCancer</th>\n",
       "      <th>GH_ordinal</th>\n",
       "      <th>Race_American Indian/Alaskan Native</th>\n",
       "      <th>Race_Asian</th>\n",
       "      <th>Race_Black</th>\n",
       "      <th>Race_Hispanic</th>\n",
       "      <th>Race_Other</th>\n",
       "      <th>Race_White</th>\n",
       "      <th>Sex_Female</th>\n",
       "      <th>Sex_Male</th>\n",
       "    </tr>\n",
       "  </thead>\n",
       "  <tbody>\n",
       "    <tr>\n",
       "      <th>0</th>\n",
       "      <td>No</td>\n",
       "      <td>16.60</td>\n",
       "      <td>Yes</td>\n",
       "      <td>No</td>\n",
       "      <td>No</td>\n",
       "      <td>3.0</td>\n",
       "      <td>30.0</td>\n",
       "      <td>No</td>\n",
       "      <td>55-59</td>\n",
       "      <td>Yes</td>\n",
       "      <td>...</td>\n",
       "      <td>Yes</td>\n",
       "      <td>4</td>\n",
       "      <td>0</td>\n",
       "      <td>0</td>\n",
       "      <td>0</td>\n",
       "      <td>0</td>\n",
       "      <td>0</td>\n",
       "      <td>1</td>\n",
       "      <td>1</td>\n",
       "      <td>0</td>\n",
       "    </tr>\n",
       "    <tr>\n",
       "      <th>1</th>\n",
       "      <td>No</td>\n",
       "      <td>20.34</td>\n",
       "      <td>No</td>\n",
       "      <td>No</td>\n",
       "      <td>Yes</td>\n",
       "      <td>0.0</td>\n",
       "      <td>0.0</td>\n",
       "      <td>No</td>\n",
       "      <td>80 or older</td>\n",
       "      <td>No</td>\n",
       "      <td>...</td>\n",
       "      <td>No</td>\n",
       "      <td>4</td>\n",
       "      <td>0</td>\n",
       "      <td>0</td>\n",
       "      <td>0</td>\n",
       "      <td>0</td>\n",
       "      <td>0</td>\n",
       "      <td>1</td>\n",
       "      <td>1</td>\n",
       "      <td>0</td>\n",
       "    </tr>\n",
       "    <tr>\n",
       "      <th>2</th>\n",
       "      <td>No</td>\n",
       "      <td>26.58</td>\n",
       "      <td>Yes</td>\n",
       "      <td>No</td>\n",
       "      <td>No</td>\n",
       "      <td>20.0</td>\n",
       "      <td>30.0</td>\n",
       "      <td>No</td>\n",
       "      <td>65-69</td>\n",
       "      <td>Yes</td>\n",
       "      <td>...</td>\n",
       "      <td>No</td>\n",
       "      <td>2</td>\n",
       "      <td>0</td>\n",
       "      <td>0</td>\n",
       "      <td>0</td>\n",
       "      <td>0</td>\n",
       "      <td>0</td>\n",
       "      <td>1</td>\n",
       "      <td>0</td>\n",
       "      <td>1</td>\n",
       "    </tr>\n",
       "    <tr>\n",
       "      <th>3</th>\n",
       "      <td>No</td>\n",
       "      <td>24.21</td>\n",
       "      <td>No</td>\n",
       "      <td>No</td>\n",
       "      <td>No</td>\n",
       "      <td>0.0</td>\n",
       "      <td>0.0</td>\n",
       "      <td>No</td>\n",
       "      <td>75-79</td>\n",
       "      <td>No</td>\n",
       "      <td>...</td>\n",
       "      <td>Yes</td>\n",
       "      <td>3</td>\n",
       "      <td>0</td>\n",
       "      <td>0</td>\n",
       "      <td>0</td>\n",
       "      <td>0</td>\n",
       "      <td>0</td>\n",
       "      <td>1</td>\n",
       "      <td>1</td>\n",
       "      <td>0</td>\n",
       "    </tr>\n",
       "    <tr>\n",
       "      <th>4</th>\n",
       "      <td>No</td>\n",
       "      <td>23.71</td>\n",
       "      <td>No</td>\n",
       "      <td>No</td>\n",
       "      <td>No</td>\n",
       "      <td>28.0</td>\n",
       "      <td>0.0</td>\n",
       "      <td>Yes</td>\n",
       "      <td>40-44</td>\n",
       "      <td>No</td>\n",
       "      <td>...</td>\n",
       "      <td>No</td>\n",
       "      <td>4</td>\n",
       "      <td>0</td>\n",
       "      <td>0</td>\n",
       "      <td>0</td>\n",
       "      <td>0</td>\n",
       "      <td>0</td>\n",
       "      <td>1</td>\n",
       "      <td>1</td>\n",
       "      <td>0</td>\n",
       "    </tr>\n",
       "    <tr>\n",
       "      <th>...</th>\n",
       "      <td>...</td>\n",
       "      <td>...</td>\n",
       "      <td>...</td>\n",
       "      <td>...</td>\n",
       "      <td>...</td>\n",
       "      <td>...</td>\n",
       "      <td>...</td>\n",
       "      <td>...</td>\n",
       "      <td>...</td>\n",
       "      <td>...</td>\n",
       "      <td>...</td>\n",
       "      <td>...</td>\n",
       "      <td>...</td>\n",
       "      <td>...</td>\n",
       "      <td>...</td>\n",
       "      <td>...</td>\n",
       "      <td>...</td>\n",
       "      <td>...</td>\n",
       "      <td>...</td>\n",
       "      <td>...</td>\n",
       "      <td>...</td>\n",
       "    </tr>\n",
       "    <tr>\n",
       "      <th>319790</th>\n",
       "      <td>Yes</td>\n",
       "      <td>27.41</td>\n",
       "      <td>Yes</td>\n",
       "      <td>No</td>\n",
       "      <td>No</td>\n",
       "      <td>7.0</td>\n",
       "      <td>0.0</td>\n",
       "      <td>Yes</td>\n",
       "      <td>60-64</td>\n",
       "      <td>Yes</td>\n",
       "      <td>...</td>\n",
       "      <td>No</td>\n",
       "      <td>2</td>\n",
       "      <td>0</td>\n",
       "      <td>0</td>\n",
       "      <td>0</td>\n",
       "      <td>1</td>\n",
       "      <td>0</td>\n",
       "      <td>0</td>\n",
       "      <td>0</td>\n",
       "      <td>1</td>\n",
       "    </tr>\n",
       "    <tr>\n",
       "      <th>319791</th>\n",
       "      <td>No</td>\n",
       "      <td>29.84</td>\n",
       "      <td>Yes</td>\n",
       "      <td>No</td>\n",
       "      <td>No</td>\n",
       "      <td>0.0</td>\n",
       "      <td>0.0</td>\n",
       "      <td>No</td>\n",
       "      <td>35-39</td>\n",
       "      <td>No</td>\n",
       "      <td>...</td>\n",
       "      <td>No</td>\n",
       "      <td>4</td>\n",
       "      <td>0</td>\n",
       "      <td>0</td>\n",
       "      <td>0</td>\n",
       "      <td>1</td>\n",
       "      <td>0</td>\n",
       "      <td>0</td>\n",
       "      <td>0</td>\n",
       "      <td>1</td>\n",
       "    </tr>\n",
       "    <tr>\n",
       "      <th>319792</th>\n",
       "      <td>No</td>\n",
       "      <td>24.24</td>\n",
       "      <td>No</td>\n",
       "      <td>No</td>\n",
       "      <td>No</td>\n",
       "      <td>0.0</td>\n",
       "      <td>0.0</td>\n",
       "      <td>No</td>\n",
       "      <td>45-49</td>\n",
       "      <td>No</td>\n",
       "      <td>...</td>\n",
       "      <td>No</td>\n",
       "      <td>3</td>\n",
       "      <td>0</td>\n",
       "      <td>0</td>\n",
       "      <td>0</td>\n",
       "      <td>1</td>\n",
       "      <td>0</td>\n",
       "      <td>0</td>\n",
       "      <td>1</td>\n",
       "      <td>0</td>\n",
       "    </tr>\n",
       "    <tr>\n",
       "      <th>319793</th>\n",
       "      <td>No</td>\n",
       "      <td>32.81</td>\n",
       "      <td>No</td>\n",
       "      <td>No</td>\n",
       "      <td>No</td>\n",
       "      <td>0.0</td>\n",
       "      <td>0.0</td>\n",
       "      <td>No</td>\n",
       "      <td>25-29</td>\n",
       "      <td>No</td>\n",
       "      <td>...</td>\n",
       "      <td>No</td>\n",
       "      <td>3</td>\n",
       "      <td>0</td>\n",
       "      <td>0</td>\n",
       "      <td>0</td>\n",
       "      <td>1</td>\n",
       "      <td>0</td>\n",
       "      <td>0</td>\n",
       "      <td>1</td>\n",
       "      <td>0</td>\n",
       "    </tr>\n",
       "    <tr>\n",
       "      <th>319794</th>\n",
       "      <td>No</td>\n",
       "      <td>46.56</td>\n",
       "      <td>No</td>\n",
       "      <td>No</td>\n",
       "      <td>No</td>\n",
       "      <td>0.0</td>\n",
       "      <td>0.0</td>\n",
       "      <td>No</td>\n",
       "      <td>80 or older</td>\n",
       "      <td>No</td>\n",
       "      <td>...</td>\n",
       "      <td>No</td>\n",
       "      <td>3</td>\n",
       "      <td>0</td>\n",
       "      <td>0</td>\n",
       "      <td>0</td>\n",
       "      <td>1</td>\n",
       "      <td>0</td>\n",
       "      <td>0</td>\n",
       "      <td>1</td>\n",
       "      <td>0</td>\n",
       "    </tr>\n",
       "  </tbody>\n",
       "</table>\n",
       "<p>319795 rows × 24 columns</p>\n",
       "</div>"
      ],
      "text/plain": [
       "       HeartDisease    BMI Smoking AlcoholDrinking Stroke  PhysicalHealth  \\\n",
       "0                No  16.60     Yes              No     No             3.0   \n",
       "1                No  20.34      No              No    Yes             0.0   \n",
       "2                No  26.58     Yes              No     No            20.0   \n",
       "3                No  24.21      No              No     No             0.0   \n",
       "4                No  23.71      No              No     No            28.0   \n",
       "...             ...    ...     ...             ...    ...             ...   \n",
       "319790          Yes  27.41     Yes              No     No             7.0   \n",
       "319791           No  29.84     Yes              No     No             0.0   \n",
       "319792           No  24.24      No              No     No             0.0   \n",
       "319793           No  32.81      No              No     No             0.0   \n",
       "319794           No  46.56      No              No     No             0.0   \n",
       "\n",
       "        MentalHealth DiffWalking  AgeCategory Diabetic  ... SkinCancer  \\\n",
       "0               30.0          No        55-59      Yes  ...        Yes   \n",
       "1                0.0          No  80 or older       No  ...         No   \n",
       "2               30.0          No        65-69      Yes  ...         No   \n",
       "3                0.0          No        75-79       No  ...        Yes   \n",
       "4                0.0         Yes        40-44       No  ...         No   \n",
       "...              ...         ...          ...      ...  ...        ...   \n",
       "319790           0.0         Yes        60-64      Yes  ...         No   \n",
       "319791           0.0          No        35-39       No  ...         No   \n",
       "319792           0.0          No        45-49       No  ...         No   \n",
       "319793           0.0          No        25-29       No  ...         No   \n",
       "319794           0.0          No  80 or older       No  ...         No   \n",
       "\n",
       "        GH_ordinal Race_American Indian/Alaskan Native Race_Asian Race_Black  \\\n",
       "0                4                                   0          0          0   \n",
       "1                4                                   0          0          0   \n",
       "2                2                                   0          0          0   \n",
       "3                3                                   0          0          0   \n",
       "4                4                                   0          0          0   \n",
       "...            ...                                 ...        ...        ...   \n",
       "319790           2                                   0          0          0   \n",
       "319791           4                                   0          0          0   \n",
       "319792           3                                   0          0          0   \n",
       "319793           3                                   0          0          0   \n",
       "319794           3                                   0          0          0   \n",
       "\n",
       "        Race_Hispanic  Race_Other  Race_White  Sex_Female  Sex_Male  \n",
       "0                   0           0           1           1         0  \n",
       "1                   0           0           1           1         0  \n",
       "2                   0           0           1           0         1  \n",
       "3                   0           0           1           1         0  \n",
       "4                   0           0           1           1         0  \n",
       "...               ...         ...         ...         ...       ...  \n",
       "319790              1           0           0           0         1  \n",
       "319791              1           0           0           0         1  \n",
       "319792              1           0           0           1         0  \n",
       "319793              1           0           0           1         0  \n",
       "319794              1           0           0           1         0  \n",
       "\n",
       "[319795 rows x 24 columns]"
      ]
     },
     "execution_count": 71,
     "metadata": {},
     "output_type": "execute_result"
    }
   ],
   "source": [
    "df5=pd.get_dummies(df5,prefix=['Race','Sex'],columns=['Race','Sex']) # convertimos las variables categóricas Race y Sex. El dataframe resultante tiene columnas por cada categoría de la variable original, el valor 1 indica que la fila pertenece a esa categoría.\n",
    "df5"
   ]
  },
  {
   "cell_type": "code",
   "execution_count": 72,
   "id": "3ec58877",
   "metadata": {
    "id": "62761305"
   },
   "outputs": [],
   "source": [
    "df5 = pd.get_dummies(df5,prefix = ['HeartD','Smok','Alcohol','Strk','DWalking','Diab','Pactivity','Ashm','Cancer','KidneyD'],columns = ['HeartDisease','Smoking','AlcoholDrinking','Stroke','DiffWalking','Diabetic','PhysicalActivity','Asthma','SkinCancer','KidneyDisease']) # convertimos las variables categóricas en numéricas"
   ]
  },
  {
   "cell_type": "code",
   "execution_count": 73,
   "id": "921b0422",
   "metadata": {
    "id": "5ef6cd30"
   },
   "outputs": [],
   "source": [
    "Agecategory_dicc = {'18-24':1,\n",
    "         '25-29':2,\n",
    "         '30-34':3,\n",
    "         '35-39':4,\n",
    "         '40-44':5,\n",
    "         '45-49':6,\n",
    "         '50-54':7,\n",
    "          '55-59':8,\n",
    "          '60-64':9,\n",
    "          '65-69':10,\n",
    "          '70-74':11,\n",
    "          '75-79':12,\n",
    "          '80 or older':13 }\n",
    "df5['Age_ordinal']=df5.AgeCategory.map(Agecategory_dicc) # convertimos la variable categórica a numérica con un orden específico"
   ]
  },
  {
   "cell_type": "code",
   "execution_count": 74,
   "id": "1155d8be",
   "metadata": {
    "id": "173760b2"
   },
   "outputs": [],
   "source": [
    "df5 = df5.drop(['AgeCategory'],axis = 1) # borramos la antigua columna"
   ]
  },
  {
   "cell_type": "code",
   "execution_count": 75,
   "id": "0eae70f8",
   "metadata": {
    "colab": {
     "background_save": true,
     "base_uri": "https://localhost:8080/",
     "height": 522
    },
    "executionInfo": {
     "elapsed": 449,
     "status": "ok",
     "timestamp": 1666644328436,
     "user": {
      "displayName": "Paula Nanni",
      "userId": "01761171411436743144"
     },
     "user_tz": 180
    },
    "id": "7ae7f830"
   },
   "outputs": [
    {
     "data": {
      "text/html": [
       "<div>\n",
       "<style scoped>\n",
       "    .dataframe tbody tr th:only-of-type {\n",
       "        vertical-align: middle;\n",
       "    }\n",
       "\n",
       "    .dataframe tbody tr th {\n",
       "        vertical-align: top;\n",
       "    }\n",
       "\n",
       "    .dataframe thead th {\n",
       "        text-align: right;\n",
       "    }\n",
       "</style>\n",
       "<table border=\"1\" class=\"dataframe\">\n",
       "  <thead>\n",
       "    <tr style=\"text-align: right;\">\n",
       "      <th></th>\n",
       "      <th>BMI</th>\n",
       "      <th>PhysicalHealth</th>\n",
       "      <th>MentalHealth</th>\n",
       "      <th>SleepTime</th>\n",
       "      <th>GH_ordinal</th>\n",
       "      <th>Race_American Indian/Alaskan Native</th>\n",
       "      <th>Race_Asian</th>\n",
       "      <th>Race_Black</th>\n",
       "      <th>Race_Hispanic</th>\n",
       "      <th>Race_Other</th>\n",
       "      <th>...</th>\n",
       "      <th>Diab_Yes (during pregnancy)</th>\n",
       "      <th>Pactivity_No</th>\n",
       "      <th>Pactivity_Yes</th>\n",
       "      <th>Ashm_No</th>\n",
       "      <th>Ashm_Yes</th>\n",
       "      <th>Cancer_No</th>\n",
       "      <th>Cancer_Yes</th>\n",
       "      <th>KidneyD_No</th>\n",
       "      <th>KidneyD_Yes</th>\n",
       "      <th>Age_ordinal</th>\n",
       "    </tr>\n",
       "  </thead>\n",
       "  <tbody>\n",
       "    <tr>\n",
       "      <th>0</th>\n",
       "      <td>16.60</td>\n",
       "      <td>3.0</td>\n",
       "      <td>30.0</td>\n",
       "      <td>5.0</td>\n",
       "      <td>4</td>\n",
       "      <td>0</td>\n",
       "      <td>0</td>\n",
       "      <td>0</td>\n",
       "      <td>0</td>\n",
       "      <td>0</td>\n",
       "      <td>...</td>\n",
       "      <td>0</td>\n",
       "      <td>0</td>\n",
       "      <td>1</td>\n",
       "      <td>0</td>\n",
       "      <td>1</td>\n",
       "      <td>0</td>\n",
       "      <td>1</td>\n",
       "      <td>1</td>\n",
       "      <td>0</td>\n",
       "      <td>8</td>\n",
       "    </tr>\n",
       "    <tr>\n",
       "      <th>1</th>\n",
       "      <td>20.34</td>\n",
       "      <td>0.0</td>\n",
       "      <td>0.0</td>\n",
       "      <td>7.0</td>\n",
       "      <td>4</td>\n",
       "      <td>0</td>\n",
       "      <td>0</td>\n",
       "      <td>0</td>\n",
       "      <td>0</td>\n",
       "      <td>0</td>\n",
       "      <td>...</td>\n",
       "      <td>0</td>\n",
       "      <td>0</td>\n",
       "      <td>1</td>\n",
       "      <td>1</td>\n",
       "      <td>0</td>\n",
       "      <td>1</td>\n",
       "      <td>0</td>\n",
       "      <td>1</td>\n",
       "      <td>0</td>\n",
       "      <td>13</td>\n",
       "    </tr>\n",
       "    <tr>\n",
       "      <th>2</th>\n",
       "      <td>26.58</td>\n",
       "      <td>20.0</td>\n",
       "      <td>30.0</td>\n",
       "      <td>8.0</td>\n",
       "      <td>2</td>\n",
       "      <td>0</td>\n",
       "      <td>0</td>\n",
       "      <td>0</td>\n",
       "      <td>0</td>\n",
       "      <td>0</td>\n",
       "      <td>...</td>\n",
       "      <td>0</td>\n",
       "      <td>0</td>\n",
       "      <td>1</td>\n",
       "      <td>0</td>\n",
       "      <td>1</td>\n",
       "      <td>1</td>\n",
       "      <td>0</td>\n",
       "      <td>1</td>\n",
       "      <td>0</td>\n",
       "      <td>10</td>\n",
       "    </tr>\n",
       "    <tr>\n",
       "      <th>3</th>\n",
       "      <td>24.21</td>\n",
       "      <td>0.0</td>\n",
       "      <td>0.0</td>\n",
       "      <td>6.0</td>\n",
       "      <td>3</td>\n",
       "      <td>0</td>\n",
       "      <td>0</td>\n",
       "      <td>0</td>\n",
       "      <td>0</td>\n",
       "      <td>0</td>\n",
       "      <td>...</td>\n",
       "      <td>0</td>\n",
       "      <td>1</td>\n",
       "      <td>0</td>\n",
       "      <td>1</td>\n",
       "      <td>0</td>\n",
       "      <td>0</td>\n",
       "      <td>1</td>\n",
       "      <td>1</td>\n",
       "      <td>0</td>\n",
       "      <td>12</td>\n",
       "    </tr>\n",
       "    <tr>\n",
       "      <th>4</th>\n",
       "      <td>23.71</td>\n",
       "      <td>28.0</td>\n",
       "      <td>0.0</td>\n",
       "      <td>8.0</td>\n",
       "      <td>4</td>\n",
       "      <td>0</td>\n",
       "      <td>0</td>\n",
       "      <td>0</td>\n",
       "      <td>0</td>\n",
       "      <td>0</td>\n",
       "      <td>...</td>\n",
       "      <td>0</td>\n",
       "      <td>0</td>\n",
       "      <td>1</td>\n",
       "      <td>1</td>\n",
       "      <td>0</td>\n",
       "      <td>1</td>\n",
       "      <td>0</td>\n",
       "      <td>1</td>\n",
       "      <td>0</td>\n",
       "      <td>5</td>\n",
       "    </tr>\n",
       "    <tr>\n",
       "      <th>...</th>\n",
       "      <td>...</td>\n",
       "      <td>...</td>\n",
       "      <td>...</td>\n",
       "      <td>...</td>\n",
       "      <td>...</td>\n",
       "      <td>...</td>\n",
       "      <td>...</td>\n",
       "      <td>...</td>\n",
       "      <td>...</td>\n",
       "      <td>...</td>\n",
       "      <td>...</td>\n",
       "      <td>...</td>\n",
       "      <td>...</td>\n",
       "      <td>...</td>\n",
       "      <td>...</td>\n",
       "      <td>...</td>\n",
       "      <td>...</td>\n",
       "      <td>...</td>\n",
       "      <td>...</td>\n",
       "      <td>...</td>\n",
       "      <td>...</td>\n",
       "    </tr>\n",
       "    <tr>\n",
       "      <th>319790</th>\n",
       "      <td>27.41</td>\n",
       "      <td>7.0</td>\n",
       "      <td>0.0</td>\n",
       "      <td>6.0</td>\n",
       "      <td>2</td>\n",
       "      <td>0</td>\n",
       "      <td>0</td>\n",
       "      <td>0</td>\n",
       "      <td>1</td>\n",
       "      <td>0</td>\n",
       "      <td>...</td>\n",
       "      <td>0</td>\n",
       "      <td>1</td>\n",
       "      <td>0</td>\n",
       "      <td>0</td>\n",
       "      <td>1</td>\n",
       "      <td>1</td>\n",
       "      <td>0</td>\n",
       "      <td>1</td>\n",
       "      <td>0</td>\n",
       "      <td>9</td>\n",
       "    </tr>\n",
       "    <tr>\n",
       "      <th>319791</th>\n",
       "      <td>29.84</td>\n",
       "      <td>0.0</td>\n",
       "      <td>0.0</td>\n",
       "      <td>5.0</td>\n",
       "      <td>4</td>\n",
       "      <td>0</td>\n",
       "      <td>0</td>\n",
       "      <td>0</td>\n",
       "      <td>1</td>\n",
       "      <td>0</td>\n",
       "      <td>...</td>\n",
       "      <td>0</td>\n",
       "      <td>0</td>\n",
       "      <td>1</td>\n",
       "      <td>0</td>\n",
       "      <td>1</td>\n",
       "      <td>1</td>\n",
       "      <td>0</td>\n",
       "      <td>1</td>\n",
       "      <td>0</td>\n",
       "      <td>4</td>\n",
       "    </tr>\n",
       "    <tr>\n",
       "      <th>319792</th>\n",
       "      <td>24.24</td>\n",
       "      <td>0.0</td>\n",
       "      <td>0.0</td>\n",
       "      <td>6.0</td>\n",
       "      <td>3</td>\n",
       "      <td>0</td>\n",
       "      <td>0</td>\n",
       "      <td>0</td>\n",
       "      <td>1</td>\n",
       "      <td>0</td>\n",
       "      <td>...</td>\n",
       "      <td>0</td>\n",
       "      <td>0</td>\n",
       "      <td>1</td>\n",
       "      <td>1</td>\n",
       "      <td>0</td>\n",
       "      <td>1</td>\n",
       "      <td>0</td>\n",
       "      <td>1</td>\n",
       "      <td>0</td>\n",
       "      <td>6</td>\n",
       "    </tr>\n",
       "    <tr>\n",
       "      <th>319793</th>\n",
       "      <td>32.81</td>\n",
       "      <td>0.0</td>\n",
       "      <td>0.0</td>\n",
       "      <td>12.0</td>\n",
       "      <td>3</td>\n",
       "      <td>0</td>\n",
       "      <td>0</td>\n",
       "      <td>0</td>\n",
       "      <td>1</td>\n",
       "      <td>0</td>\n",
       "      <td>...</td>\n",
       "      <td>0</td>\n",
       "      <td>1</td>\n",
       "      <td>0</td>\n",
       "      <td>1</td>\n",
       "      <td>0</td>\n",
       "      <td>1</td>\n",
       "      <td>0</td>\n",
       "      <td>1</td>\n",
       "      <td>0</td>\n",
       "      <td>2</td>\n",
       "    </tr>\n",
       "    <tr>\n",
       "      <th>319794</th>\n",
       "      <td>46.56</td>\n",
       "      <td>0.0</td>\n",
       "      <td>0.0</td>\n",
       "      <td>8.0</td>\n",
       "      <td>3</td>\n",
       "      <td>0</td>\n",
       "      <td>0</td>\n",
       "      <td>0</td>\n",
       "      <td>1</td>\n",
       "      <td>0</td>\n",
       "      <td>...</td>\n",
       "      <td>0</td>\n",
       "      <td>0</td>\n",
       "      <td>1</td>\n",
       "      <td>1</td>\n",
       "      <td>0</td>\n",
       "      <td>1</td>\n",
       "      <td>0</td>\n",
       "      <td>1</td>\n",
       "      <td>0</td>\n",
       "      <td>13</td>\n",
       "    </tr>\n",
       "  </tbody>\n",
       "</table>\n",
       "<p>319795 rows × 36 columns</p>\n",
       "</div>"
      ],
      "text/plain": [
       "          BMI  PhysicalHealth  MentalHealth  SleepTime  GH_ordinal  \\\n",
       "0       16.60             3.0          30.0        5.0           4   \n",
       "1       20.34             0.0           0.0        7.0           4   \n",
       "2       26.58            20.0          30.0        8.0           2   \n",
       "3       24.21             0.0           0.0        6.0           3   \n",
       "4       23.71            28.0           0.0        8.0           4   \n",
       "...       ...             ...           ...        ...         ...   \n",
       "319790  27.41             7.0           0.0        6.0           2   \n",
       "319791  29.84             0.0           0.0        5.0           4   \n",
       "319792  24.24             0.0           0.0        6.0           3   \n",
       "319793  32.81             0.0           0.0       12.0           3   \n",
       "319794  46.56             0.0           0.0        8.0           3   \n",
       "\n",
       "        Race_American Indian/Alaskan Native  Race_Asian  Race_Black  \\\n",
       "0                                         0           0           0   \n",
       "1                                         0           0           0   \n",
       "2                                         0           0           0   \n",
       "3                                         0           0           0   \n",
       "4                                         0           0           0   \n",
       "...                                     ...         ...         ...   \n",
       "319790                                    0           0           0   \n",
       "319791                                    0           0           0   \n",
       "319792                                    0           0           0   \n",
       "319793                                    0           0           0   \n",
       "319794                                    0           0           0   \n",
       "\n",
       "        Race_Hispanic  Race_Other  ...  Diab_Yes (during pregnancy)  \\\n",
       "0                   0           0  ...                            0   \n",
       "1                   0           0  ...                            0   \n",
       "2                   0           0  ...                            0   \n",
       "3                   0           0  ...                            0   \n",
       "4                   0           0  ...                            0   \n",
       "...               ...         ...  ...                          ...   \n",
       "319790              1           0  ...                            0   \n",
       "319791              1           0  ...                            0   \n",
       "319792              1           0  ...                            0   \n",
       "319793              1           0  ...                            0   \n",
       "319794              1           0  ...                            0   \n",
       "\n",
       "        Pactivity_No  Pactivity_Yes  Ashm_No  Ashm_Yes  Cancer_No  Cancer_Yes  \\\n",
       "0                  0              1        0         1          0           1   \n",
       "1                  0              1        1         0          1           0   \n",
       "2                  0              1        0         1          1           0   \n",
       "3                  1              0        1         0          0           1   \n",
       "4                  0              1        1         0          1           0   \n",
       "...              ...            ...      ...       ...        ...         ...   \n",
       "319790             1              0        0         1          1           0   \n",
       "319791             0              1        0         1          1           0   \n",
       "319792             0              1        1         0          1           0   \n",
       "319793             1              0        1         0          1           0   \n",
       "319794             0              1        1         0          1           0   \n",
       "\n",
       "        KidneyD_No  KidneyD_Yes  Age_ordinal  \n",
       "0                1            0            8  \n",
       "1                1            0           13  \n",
       "2                1            0           10  \n",
       "3                1            0           12  \n",
       "4                1            0            5  \n",
       "...            ...          ...          ...  \n",
       "319790           1            0            9  \n",
       "319791           1            0            4  \n",
       "319792           1            0            6  \n",
       "319793           1            0            2  \n",
       "319794           1            0           13  \n",
       "\n",
       "[319795 rows x 36 columns]"
      ]
     },
     "execution_count": 75,
     "metadata": {},
     "output_type": "execute_result"
    }
   ],
   "source": [
    "df5"
   ]
  },
  {
   "cell_type": "markdown",
   "id": "e255da4b",
   "metadata": {
    "id": "d653d1e9"
   },
   "source": [
    "#### Normalización de Columnas"
   ]
  },
  {
   "cell_type": "code",
   "execution_count": 76,
   "id": "e6ca2b67",
   "metadata": {
    "executionInfo": {
     "elapsed": 4421,
     "status": "ok",
     "timestamp": 1666645164323,
     "user": {
      "displayName": "Paula Nanni",
      "userId": "01761171411436743144"
     },
     "user_tz": 180
    },
    "id": "8b399c3d"
   },
   "outputs": [],
   "source": [
    "df6= df5[['BMI','PhysicalHealth','MentalHealth','SleepTime']] # estas son las columnas a normalizar"
   ]
  },
  {
   "cell_type": "code",
   "execution_count": 77,
   "id": "058b750f",
   "metadata": {
    "colab": {
     "base_uri": "https://localhost:8080/",
     "height": 424
    },
    "executionInfo": {
     "elapsed": 50,
     "status": "ok",
     "timestamp": 1666645174306,
     "user": {
      "displayName": "Paula Nanni",
      "userId": "01761171411436743144"
     },
     "user_tz": 180
    },
    "id": "mO4ieODwwVMi",
    "outputId": "e67cc677-2503-46fa-fafc-aff74b521a43"
   },
   "outputs": [
    {
     "data": {
      "text/html": [
       "<div>\n",
       "<style scoped>\n",
       "    .dataframe tbody tr th:only-of-type {\n",
       "        vertical-align: middle;\n",
       "    }\n",
       "\n",
       "    .dataframe tbody tr th {\n",
       "        vertical-align: top;\n",
       "    }\n",
       "\n",
       "    .dataframe thead th {\n",
       "        text-align: right;\n",
       "    }\n",
       "</style>\n",
       "<table border=\"1\" class=\"dataframe\">\n",
       "  <thead>\n",
       "    <tr style=\"text-align: right;\">\n",
       "      <th></th>\n",
       "      <th>BMI</th>\n",
       "      <th>PhysicalHealth</th>\n",
       "      <th>MentalHealth</th>\n",
       "      <th>SleepTime</th>\n",
       "    </tr>\n",
       "  </thead>\n",
       "  <tbody>\n",
       "    <tr>\n",
       "      <th>count</th>\n",
       "      <td>319795.000000</td>\n",
       "      <td>319795.00000</td>\n",
       "      <td>319795.000000</td>\n",
       "      <td>319795.000000</td>\n",
       "    </tr>\n",
       "    <tr>\n",
       "      <th>mean</th>\n",
       "      <td>28.325399</td>\n",
       "      <td>3.37171</td>\n",
       "      <td>3.898366</td>\n",
       "      <td>7.097075</td>\n",
       "    </tr>\n",
       "    <tr>\n",
       "      <th>std</th>\n",
       "      <td>6.356100</td>\n",
       "      <td>7.95085</td>\n",
       "      <td>7.955235</td>\n",
       "      <td>1.436007</td>\n",
       "    </tr>\n",
       "    <tr>\n",
       "      <th>min</th>\n",
       "      <td>12.020000</td>\n",
       "      <td>0.00000</td>\n",
       "      <td>0.000000</td>\n",
       "      <td>1.000000</td>\n",
       "    </tr>\n",
       "    <tr>\n",
       "      <th>25%</th>\n",
       "      <td>24.030000</td>\n",
       "      <td>0.00000</td>\n",
       "      <td>0.000000</td>\n",
       "      <td>6.000000</td>\n",
       "    </tr>\n",
       "    <tr>\n",
       "      <th>50%</th>\n",
       "      <td>27.340000</td>\n",
       "      <td>0.00000</td>\n",
       "      <td>0.000000</td>\n",
       "      <td>7.000000</td>\n",
       "    </tr>\n",
       "    <tr>\n",
       "      <th>75%</th>\n",
       "      <td>31.420000</td>\n",
       "      <td>2.00000</td>\n",
       "      <td>3.000000</td>\n",
       "      <td>8.000000</td>\n",
       "    </tr>\n",
       "    <tr>\n",
       "      <th>max</th>\n",
       "      <td>94.850000</td>\n",
       "      <td>30.00000</td>\n",
       "      <td>30.000000</td>\n",
       "      <td>24.000000</td>\n",
       "    </tr>\n",
       "  </tbody>\n",
       "</table>\n",
       "</div>"
      ],
      "text/plain": [
       "                 BMI  PhysicalHealth   MentalHealth      SleepTime\n",
       "count  319795.000000    319795.00000  319795.000000  319795.000000\n",
       "mean       28.325399         3.37171       3.898366       7.097075\n",
       "std         6.356100         7.95085       7.955235       1.436007\n",
       "min        12.020000         0.00000       0.000000       1.000000\n",
       "25%        24.030000         0.00000       0.000000       6.000000\n",
       "50%        27.340000         0.00000       0.000000       7.000000\n",
       "75%        31.420000         2.00000       3.000000       8.000000\n",
       "max        94.850000        30.00000      30.000000      24.000000"
      ]
     },
     "execution_count": 77,
     "metadata": {},
     "output_type": "execute_result"
    }
   ],
   "source": [
    "df6. describe () # observamos presencia de outliers"
   ]
  },
  {
   "cell_type": "code",
   "execution_count": 78,
   "id": "5455fc09",
   "metadata": {},
   "outputs": [
    {
     "data": {
      "text/html": [
       "<div>\n",
       "<style scoped>\n",
       "    .dataframe tbody tr th:only-of-type {\n",
       "        vertical-align: middle;\n",
       "    }\n",
       "\n",
       "    .dataframe tbody tr th {\n",
       "        vertical-align: top;\n",
       "    }\n",
       "\n",
       "    .dataframe thead th {\n",
       "        text-align: right;\n",
       "    }\n",
       "</style>\n",
       "<table border=\"1\" class=\"dataframe\">\n",
       "  <thead>\n",
       "    <tr style=\"text-align: right;\">\n",
       "      <th></th>\n",
       "      <th>BMI</th>\n",
       "      <th>PhysicalHealth</th>\n",
       "      <th>MentalHealth</th>\n",
       "      <th>SleepTime</th>\n",
       "    </tr>\n",
       "  </thead>\n",
       "  <tbody>\n",
       "    <tr>\n",
       "      <th>0</th>\n",
       "      <td>16.60</td>\n",
       "      <td>3.0</td>\n",
       "      <td>30.0</td>\n",
       "      <td>5.0</td>\n",
       "    </tr>\n",
       "    <tr>\n",
       "      <th>1</th>\n",
       "      <td>20.34</td>\n",
       "      <td>0.0</td>\n",
       "      <td>0.0</td>\n",
       "      <td>7.0</td>\n",
       "    </tr>\n",
       "    <tr>\n",
       "      <th>2</th>\n",
       "      <td>26.58</td>\n",
       "      <td>20.0</td>\n",
       "      <td>30.0</td>\n",
       "      <td>8.0</td>\n",
       "    </tr>\n",
       "    <tr>\n",
       "      <th>3</th>\n",
       "      <td>24.21</td>\n",
       "      <td>0.0</td>\n",
       "      <td>0.0</td>\n",
       "      <td>6.0</td>\n",
       "    </tr>\n",
       "    <tr>\n",
       "      <th>4</th>\n",
       "      <td>23.71</td>\n",
       "      <td>28.0</td>\n",
       "      <td>0.0</td>\n",
       "      <td>8.0</td>\n",
       "    </tr>\n",
       "    <tr>\n",
       "      <th>...</th>\n",
       "      <td>...</td>\n",
       "      <td>...</td>\n",
       "      <td>...</td>\n",
       "      <td>...</td>\n",
       "    </tr>\n",
       "    <tr>\n",
       "      <th>319790</th>\n",
       "      <td>27.41</td>\n",
       "      <td>7.0</td>\n",
       "      <td>0.0</td>\n",
       "      <td>6.0</td>\n",
       "    </tr>\n",
       "    <tr>\n",
       "      <th>319791</th>\n",
       "      <td>29.84</td>\n",
       "      <td>0.0</td>\n",
       "      <td>0.0</td>\n",
       "      <td>5.0</td>\n",
       "    </tr>\n",
       "    <tr>\n",
       "      <th>319792</th>\n",
       "      <td>24.24</td>\n",
       "      <td>0.0</td>\n",
       "      <td>0.0</td>\n",
       "      <td>6.0</td>\n",
       "    </tr>\n",
       "    <tr>\n",
       "      <th>319793</th>\n",
       "      <td>32.81</td>\n",
       "      <td>0.0</td>\n",
       "      <td>0.0</td>\n",
       "      <td>12.0</td>\n",
       "    </tr>\n",
       "    <tr>\n",
       "      <th>319794</th>\n",
       "      <td>46.56</td>\n",
       "      <td>0.0</td>\n",
       "      <td>0.0</td>\n",
       "      <td>8.0</td>\n",
       "    </tr>\n",
       "  </tbody>\n",
       "</table>\n",
       "<p>319795 rows × 4 columns</p>\n",
       "</div>"
      ],
      "text/plain": [
       "          BMI  PhysicalHealth  MentalHealth  SleepTime\n",
       "0       16.60             3.0          30.0        5.0\n",
       "1       20.34             0.0           0.0        7.0\n",
       "2       26.58            20.0          30.0        8.0\n",
       "3       24.21             0.0           0.0        6.0\n",
       "4       23.71            28.0           0.0        8.0\n",
       "...       ...             ...           ...        ...\n",
       "319790  27.41             7.0           0.0        6.0\n",
       "319791  29.84             0.0           0.0        5.0\n",
       "319792  24.24             0.0           0.0        6.0\n",
       "319793  32.81             0.0           0.0       12.0\n",
       "319794  46.56             0.0           0.0        8.0\n",
       "\n",
       "[319795 rows x 4 columns]"
      ]
     },
     "execution_count": 78,
     "metadata": {},
     "output_type": "execute_result"
    }
   ],
   "source": [
    "df6"
   ]
  },
  {
   "cell_type": "code",
   "execution_count": 79,
   "id": "5ec8c768",
   "metadata": {
    "colab": {
     "background_save": true
    },
    "id": "BhwMkhgXyz5T"
   },
   "outputs": [],
   "source": [
    "from numpy import asarray\n",
    "#from sklearn.preprocessing import StandardScaler"
   ]
  },
  {
   "cell_type": "code",
   "execution_count": 80,
   "id": "2cab57f8",
   "metadata": {
    "id": "7de32599",
    "outputId": "f2b919d1-083c-45ca-cf49-7ae4ce2a9843"
   },
   "outputs": [
    {
     "data": {
      "text/html": [
       "<div>\n",
       "<style scoped>\n",
       "    .dataframe tbody tr th:only-of-type {\n",
       "        vertical-align: middle;\n",
       "    }\n",
       "\n",
       "    .dataframe tbody tr th {\n",
       "        vertical-align: top;\n",
       "    }\n",
       "\n",
       "    .dataframe thead th {\n",
       "        text-align: right;\n",
       "    }\n",
       "</style>\n",
       "<table border=\"1\" class=\"dataframe\">\n",
       "  <thead>\n",
       "    <tr style=\"text-align: right;\">\n",
       "      <th></th>\n",
       "      <th>BMI</th>\n",
       "      <th>PhysicalHealth</th>\n",
       "      <th>MentalHealth</th>\n",
       "      <th>SleepTime</th>\n",
       "      <th>GH_ordinal</th>\n",
       "      <th>Race_American Indian/Alaskan Native</th>\n",
       "      <th>Race_Asian</th>\n",
       "      <th>Race_Black</th>\n",
       "      <th>Race_Hispanic</th>\n",
       "      <th>Race_Other</th>\n",
       "      <th>...</th>\n",
       "      <th>Diab_Yes (during pregnancy)</th>\n",
       "      <th>Pactivity_No</th>\n",
       "      <th>Pactivity_Yes</th>\n",
       "      <th>Ashm_No</th>\n",
       "      <th>Ashm_Yes</th>\n",
       "      <th>Cancer_No</th>\n",
       "      <th>Cancer_Yes</th>\n",
       "      <th>KidneyD_No</th>\n",
       "      <th>KidneyD_Yes</th>\n",
       "      <th>Age_ordinal</th>\n",
       "    </tr>\n",
       "  </thead>\n",
       "  <tbody>\n",
       "    <tr>\n",
       "      <th>0</th>\n",
       "      <td>0.175013</td>\n",
       "      <td>0.100000</td>\n",
       "      <td>1.0</td>\n",
       "      <td>0.208333</td>\n",
       "      <td>4</td>\n",
       "      <td>0</td>\n",
       "      <td>0</td>\n",
       "      <td>0</td>\n",
       "      <td>0</td>\n",
       "      <td>0</td>\n",
       "      <td>...</td>\n",
       "      <td>0</td>\n",
       "      <td>0</td>\n",
       "      <td>1</td>\n",
       "      <td>0</td>\n",
       "      <td>1</td>\n",
       "      <td>0</td>\n",
       "      <td>1</td>\n",
       "      <td>1</td>\n",
       "      <td>0</td>\n",
       "      <td>8</td>\n",
       "    </tr>\n",
       "    <tr>\n",
       "      <th>1</th>\n",
       "      <td>0.214444</td>\n",
       "      <td>0.000000</td>\n",
       "      <td>0.0</td>\n",
       "      <td>0.291667</td>\n",
       "      <td>4</td>\n",
       "      <td>0</td>\n",
       "      <td>0</td>\n",
       "      <td>0</td>\n",
       "      <td>0</td>\n",
       "      <td>0</td>\n",
       "      <td>...</td>\n",
       "      <td>0</td>\n",
       "      <td>0</td>\n",
       "      <td>1</td>\n",
       "      <td>1</td>\n",
       "      <td>0</td>\n",
       "      <td>1</td>\n",
       "      <td>0</td>\n",
       "      <td>1</td>\n",
       "      <td>0</td>\n",
       "      <td>13</td>\n",
       "    </tr>\n",
       "    <tr>\n",
       "      <th>2</th>\n",
       "      <td>0.280232</td>\n",
       "      <td>0.666667</td>\n",
       "      <td>1.0</td>\n",
       "      <td>0.333333</td>\n",
       "      <td>2</td>\n",
       "      <td>0</td>\n",
       "      <td>0</td>\n",
       "      <td>0</td>\n",
       "      <td>0</td>\n",
       "      <td>0</td>\n",
       "      <td>...</td>\n",
       "      <td>0</td>\n",
       "      <td>0</td>\n",
       "      <td>1</td>\n",
       "      <td>0</td>\n",
       "      <td>1</td>\n",
       "      <td>1</td>\n",
       "      <td>0</td>\n",
       "      <td>1</td>\n",
       "      <td>0</td>\n",
       "      <td>10</td>\n",
       "    </tr>\n",
       "    <tr>\n",
       "      <th>3</th>\n",
       "      <td>0.255245</td>\n",
       "      <td>0.000000</td>\n",
       "      <td>0.0</td>\n",
       "      <td>0.250000</td>\n",
       "      <td>3</td>\n",
       "      <td>0</td>\n",
       "      <td>0</td>\n",
       "      <td>0</td>\n",
       "      <td>0</td>\n",
       "      <td>0</td>\n",
       "      <td>...</td>\n",
       "      <td>0</td>\n",
       "      <td>1</td>\n",
       "      <td>0</td>\n",
       "      <td>1</td>\n",
       "      <td>0</td>\n",
       "      <td>0</td>\n",
       "      <td>1</td>\n",
       "      <td>1</td>\n",
       "      <td>0</td>\n",
       "      <td>12</td>\n",
       "    </tr>\n",
       "    <tr>\n",
       "      <th>4</th>\n",
       "      <td>0.249974</td>\n",
       "      <td>0.933333</td>\n",
       "      <td>0.0</td>\n",
       "      <td>0.333333</td>\n",
       "      <td>4</td>\n",
       "      <td>0</td>\n",
       "      <td>0</td>\n",
       "      <td>0</td>\n",
       "      <td>0</td>\n",
       "      <td>0</td>\n",
       "      <td>...</td>\n",
       "      <td>0</td>\n",
       "      <td>0</td>\n",
       "      <td>1</td>\n",
       "      <td>1</td>\n",
       "      <td>0</td>\n",
       "      <td>1</td>\n",
       "      <td>0</td>\n",
       "      <td>1</td>\n",
       "      <td>0</td>\n",
       "      <td>5</td>\n",
       "    </tr>\n",
       "    <tr>\n",
       "      <th>...</th>\n",
       "      <td>...</td>\n",
       "      <td>...</td>\n",
       "      <td>...</td>\n",
       "      <td>...</td>\n",
       "      <td>...</td>\n",
       "      <td>...</td>\n",
       "      <td>...</td>\n",
       "      <td>...</td>\n",
       "      <td>...</td>\n",
       "      <td>...</td>\n",
       "      <td>...</td>\n",
       "      <td>...</td>\n",
       "      <td>...</td>\n",
       "      <td>...</td>\n",
       "      <td>...</td>\n",
       "      <td>...</td>\n",
       "      <td>...</td>\n",
       "      <td>...</td>\n",
       "      <td>...</td>\n",
       "      <td>...</td>\n",
       "      <td>...</td>\n",
       "    </tr>\n",
       "    <tr>\n",
       "      <th>319790</th>\n",
       "      <td>0.288983</td>\n",
       "      <td>0.233333</td>\n",
       "      <td>0.0</td>\n",
       "      <td>0.250000</td>\n",
       "      <td>2</td>\n",
       "      <td>0</td>\n",
       "      <td>0</td>\n",
       "      <td>0</td>\n",
       "      <td>1</td>\n",
       "      <td>0</td>\n",
       "      <td>...</td>\n",
       "      <td>0</td>\n",
       "      <td>1</td>\n",
       "      <td>0</td>\n",
       "      <td>0</td>\n",
       "      <td>1</td>\n",
       "      <td>1</td>\n",
       "      <td>0</td>\n",
       "      <td>1</td>\n",
       "      <td>0</td>\n",
       "      <td>9</td>\n",
       "    </tr>\n",
       "    <tr>\n",
       "      <th>319791</th>\n",
       "      <td>0.314602</td>\n",
       "      <td>0.000000</td>\n",
       "      <td>0.0</td>\n",
       "      <td>0.208333</td>\n",
       "      <td>4</td>\n",
       "      <td>0</td>\n",
       "      <td>0</td>\n",
       "      <td>0</td>\n",
       "      <td>1</td>\n",
       "      <td>0</td>\n",
       "      <td>...</td>\n",
       "      <td>0</td>\n",
       "      <td>0</td>\n",
       "      <td>1</td>\n",
       "      <td>0</td>\n",
       "      <td>1</td>\n",
       "      <td>1</td>\n",
       "      <td>0</td>\n",
       "      <td>1</td>\n",
       "      <td>0</td>\n",
       "      <td>4</td>\n",
       "    </tr>\n",
       "    <tr>\n",
       "      <th>319792</th>\n",
       "      <td>0.255561</td>\n",
       "      <td>0.000000</td>\n",
       "      <td>0.0</td>\n",
       "      <td>0.250000</td>\n",
       "      <td>3</td>\n",
       "      <td>0</td>\n",
       "      <td>0</td>\n",
       "      <td>0</td>\n",
       "      <td>1</td>\n",
       "      <td>0</td>\n",
       "      <td>...</td>\n",
       "      <td>0</td>\n",
       "      <td>0</td>\n",
       "      <td>1</td>\n",
       "      <td>1</td>\n",
       "      <td>0</td>\n",
       "      <td>1</td>\n",
       "      <td>0</td>\n",
       "      <td>1</td>\n",
       "      <td>0</td>\n",
       "      <td>6</td>\n",
       "    </tr>\n",
       "    <tr>\n",
       "      <th>319793</th>\n",
       "      <td>0.345915</td>\n",
       "      <td>0.000000</td>\n",
       "      <td>0.0</td>\n",
       "      <td>0.500000</td>\n",
       "      <td>3</td>\n",
       "      <td>0</td>\n",
       "      <td>0</td>\n",
       "      <td>0</td>\n",
       "      <td>1</td>\n",
       "      <td>0</td>\n",
       "      <td>...</td>\n",
       "      <td>0</td>\n",
       "      <td>1</td>\n",
       "      <td>0</td>\n",
       "      <td>1</td>\n",
       "      <td>0</td>\n",
       "      <td>1</td>\n",
       "      <td>0</td>\n",
       "      <td>1</td>\n",
       "      <td>0</td>\n",
       "      <td>2</td>\n",
       "    </tr>\n",
       "    <tr>\n",
       "      <th>319794</th>\n",
       "      <td>0.490880</td>\n",
       "      <td>0.000000</td>\n",
       "      <td>0.0</td>\n",
       "      <td>0.333333</td>\n",
       "      <td>3</td>\n",
       "      <td>0</td>\n",
       "      <td>0</td>\n",
       "      <td>0</td>\n",
       "      <td>1</td>\n",
       "      <td>0</td>\n",
       "      <td>...</td>\n",
       "      <td>0</td>\n",
       "      <td>0</td>\n",
       "      <td>1</td>\n",
       "      <td>1</td>\n",
       "      <td>0</td>\n",
       "      <td>1</td>\n",
       "      <td>0</td>\n",
       "      <td>1</td>\n",
       "      <td>0</td>\n",
       "      <td>13</td>\n",
       "    </tr>\n",
       "  </tbody>\n",
       "</table>\n",
       "<p>319795 rows × 36 columns</p>\n",
       "</div>"
      ],
      "text/plain": [
       "             BMI  PhysicalHealth  MentalHealth  SleepTime  GH_ordinal  \\\n",
       "0       0.175013        0.100000           1.0   0.208333           4   \n",
       "1       0.214444        0.000000           0.0   0.291667           4   \n",
       "2       0.280232        0.666667           1.0   0.333333           2   \n",
       "3       0.255245        0.000000           0.0   0.250000           3   \n",
       "4       0.249974        0.933333           0.0   0.333333           4   \n",
       "...          ...             ...           ...        ...         ...   \n",
       "319790  0.288983        0.233333           0.0   0.250000           2   \n",
       "319791  0.314602        0.000000           0.0   0.208333           4   \n",
       "319792  0.255561        0.000000           0.0   0.250000           3   \n",
       "319793  0.345915        0.000000           0.0   0.500000           3   \n",
       "319794  0.490880        0.000000           0.0   0.333333           3   \n",
       "\n",
       "        Race_American Indian/Alaskan Native  Race_Asian  Race_Black  \\\n",
       "0                                         0           0           0   \n",
       "1                                         0           0           0   \n",
       "2                                         0           0           0   \n",
       "3                                         0           0           0   \n",
       "4                                         0           0           0   \n",
       "...                                     ...         ...         ...   \n",
       "319790                                    0           0           0   \n",
       "319791                                    0           0           0   \n",
       "319792                                    0           0           0   \n",
       "319793                                    0           0           0   \n",
       "319794                                    0           0           0   \n",
       "\n",
       "        Race_Hispanic  Race_Other  ...  Diab_Yes (during pregnancy)  \\\n",
       "0                   0           0  ...                            0   \n",
       "1                   0           0  ...                            0   \n",
       "2                   0           0  ...                            0   \n",
       "3                   0           0  ...                            0   \n",
       "4                   0           0  ...                            0   \n",
       "...               ...         ...  ...                          ...   \n",
       "319790              1           0  ...                            0   \n",
       "319791              1           0  ...                            0   \n",
       "319792              1           0  ...                            0   \n",
       "319793              1           0  ...                            0   \n",
       "319794              1           0  ...                            0   \n",
       "\n",
       "        Pactivity_No  Pactivity_Yes  Ashm_No  Ashm_Yes  Cancer_No  Cancer_Yes  \\\n",
       "0                  0              1        0         1          0           1   \n",
       "1                  0              1        1         0          1           0   \n",
       "2                  0              1        0         1          1           0   \n",
       "3                  1              0        1         0          0           1   \n",
       "4                  0              1        1         0          1           0   \n",
       "...              ...            ...      ...       ...        ...         ...   \n",
       "319790             1              0        0         1          1           0   \n",
       "319791             0              1        0         1          1           0   \n",
       "319792             0              1        1         0          1           0   \n",
       "319793             1              0        1         0          1           0   \n",
       "319794             0              1        1         0          1           0   \n",
       "\n",
       "        KidneyD_No  KidneyD_Yes  Age_ordinal  \n",
       "0                1            0            8  \n",
       "1                1            0           13  \n",
       "2                1            0           10  \n",
       "3                1            0           12  \n",
       "4                1            0            5  \n",
       "...            ...          ...          ...  \n",
       "319790           1            0            9  \n",
       "319791           1            0            4  \n",
       "319792           1            0            6  \n",
       "319793           1            0            2  \n",
       "319794           1            0           13  \n",
       "\n",
       "[319795 rows x 36 columns]"
      ]
     },
     "execution_count": 80,
     "metadata": {},
     "output_type": "execute_result"
    }
   ],
   "source": [
    "df5['PhysicalHealth'] = df5['PhysicalHealth'] / df5['PhysicalHealth'].max() # normalizamos respecto del máximo valor\n",
    "df5['MentalHealth'] = df5['MentalHealth'] / df5['MentalHealth'].max()\n",
    "df5['SleepTime'] = df5['SleepTime'] / df5['SleepTime'].max()\n",
    "df5['BMI'] = df5['BMI'] / df5['BMI'].max()\n",
    "df5"
   ]
  },
  {
   "cell_type": "code",
   "execution_count": 81,
   "id": "a735ebf7",
   "metadata": {
    "id": "9e1fcdd0"
   },
   "outputs": [],
   "source": [
    "x = df5[['BMI', 'PhysicalHealth', 'MentalHealth', 'SleepTime']] # definimos las variables x e y\n",
    "y = df5[['HeartD_Yes']]"
   ]
  },
  {
   "cell_type": "code",
   "execution_count": 82,
   "id": "2da340f7",
   "metadata": {
    "id": "ccdc608c"
   },
   "outputs": [],
   "source": [
    "x_train, x_test, y_train, y_test = train_test_split(x,y,test_size=0.2,random_state=1) # separamos nuestros datos de entrenamiento y testeo"
   ]
  },
  {
   "cell_type": "code",
   "execution_count": 83,
   "id": "b79c9992",
   "metadata": {
    "id": "542f1abb",
    "outputId": "c85a6c0b-35b0-465a-f35e-16828670c7f6"
   },
   "outputs": [
    {
     "name": "stdout",
     "output_type": "stream",
     "text": [
      "             BMI  PhysicalHealth  MentalHealth  SleepTime\n",
      "291133  0.258619        0.066667      0.000000   0.250000\n",
      "309330  0.347918        0.000000      0.000000   0.291667\n",
      "307280  0.290986        0.000000      0.166667   0.375000\n",
      "7469    0.302583        0.000000      0.466667   0.333333\n",
      "33630   0.305535        0.000000      0.000000   0.291667\n",
      "...          ...             ...           ...        ...\n",
      "117583  0.252609        0.000000      0.000000   0.416667\n",
      "73349   0.301740        0.000000      0.000000   0.291667\n",
      "312201  0.205904        1.000000      0.000000   0.291667\n",
      "267336  0.267686        0.000000      0.166667   0.291667\n",
      "128037  0.271692        0.000000      0.133333   0.250000\n",
      "\n",
      "[255836 rows x 4 columns]\n",
      "             BMI  PhysicalHealth  MentalHealth  SleepTime\n",
      "301988  0.256194        0.000000      0.500000   0.291667\n",
      "223127  0.250712        0.000000      0.000000   0.291667\n",
      "216797  0.217185        0.000000      0.000000   0.291667\n",
      "234217  0.298260        0.000000      0.666667   0.166667\n",
      "30822   0.347918        0.000000      0.000000   0.333333\n",
      "...          ...             ...           ...        ...\n",
      "184518  0.220559        0.000000      0.000000   0.500000\n",
      "272494  0.255034        0.100000      0.000000   0.291667\n",
      "205144  0.359410        0.933333      0.000000   0.291667\n",
      "182600  0.438271        0.000000      0.033333   0.166667\n",
      "217313  0.239009        0.000000      0.000000   0.291667\n",
      "\n",
      "[63959 rows x 4 columns]\n"
     ]
    }
   ],
   "source": [
    "print(x_train)\n",
    "print(x_test)"
   ]
  },
  {
   "cell_type": "code",
   "execution_count": 84,
   "id": "aa14b4d0",
   "metadata": {
    "id": "71ebddb4",
    "outputId": "52354ee4-bfe2-4e85-ad62-100bee935730"
   },
   "outputs": [
    {
     "name": "stdout",
     "output_type": "stream",
     "text": [
      "        HeartD_Yes\n",
      "291133           0\n",
      "309330           0\n",
      "307280           0\n",
      "7469             0\n",
      "33630            1\n",
      "...            ...\n",
      "117583           0\n",
      "73349            0\n",
      "312201           0\n",
      "267336           0\n",
      "128037           0\n",
      "\n",
      "[255836 rows x 1 columns]\n",
      "        HeartD_Yes\n",
      "301988           0\n",
      "223127           1\n",
      "216797           0\n",
      "234217           0\n",
      "30822            1\n",
      "...            ...\n",
      "184518           0\n",
      "272494           0\n",
      "205144           1\n",
      "182600           0\n",
      "217313           0\n",
      "\n",
      "[63959 rows x 1 columns]\n"
     ]
    }
   ],
   "source": [
    "print(y_train)\n",
    "print(y_test)"
   ]
  },
  {
   "cell_type": "code",
   "execution_count": 85,
   "id": "02cb9a83",
   "metadata": {
    "colab": {
     "background_save": true
    },
    "id": "a93ebce2",
    "scrolled": true
   },
   "outputs": [
    {
     "data": {
      "text/html": [
       "<style>#sk-container-id-2 {color: black;background-color: white;}#sk-container-id-2 pre{padding: 0;}#sk-container-id-2 div.sk-toggleable {background-color: white;}#sk-container-id-2 label.sk-toggleable__label {cursor: pointer;display: block;width: 100%;margin-bottom: 0;padding: 0.3em;box-sizing: border-box;text-align: center;}#sk-container-id-2 label.sk-toggleable__label-arrow:before {content: \"▸\";float: left;margin-right: 0.25em;color: #696969;}#sk-container-id-2 label.sk-toggleable__label-arrow:hover:before {color: black;}#sk-container-id-2 div.sk-estimator:hover label.sk-toggleable__label-arrow:before {color: black;}#sk-container-id-2 div.sk-toggleable__content {max-height: 0;max-width: 0;overflow: hidden;text-align: left;background-color: #f0f8ff;}#sk-container-id-2 div.sk-toggleable__content pre {margin: 0.2em;color: black;border-radius: 0.25em;background-color: #f0f8ff;}#sk-container-id-2 input.sk-toggleable__control:checked~div.sk-toggleable__content {max-height: 200px;max-width: 100%;overflow: auto;}#sk-container-id-2 input.sk-toggleable__control:checked~label.sk-toggleable__label-arrow:before {content: \"▾\";}#sk-container-id-2 div.sk-estimator input.sk-toggleable__control:checked~label.sk-toggleable__label {background-color: #d4ebff;}#sk-container-id-2 div.sk-label input.sk-toggleable__control:checked~label.sk-toggleable__label {background-color: #d4ebff;}#sk-container-id-2 input.sk-hidden--visually {border: 0;clip: rect(1px 1px 1px 1px);clip: rect(1px, 1px, 1px, 1px);height: 1px;margin: -1px;overflow: hidden;padding: 0;position: absolute;width: 1px;}#sk-container-id-2 div.sk-estimator {font-family: monospace;background-color: #f0f8ff;border: 1px dotted black;border-radius: 0.25em;box-sizing: border-box;margin-bottom: 0.5em;}#sk-container-id-2 div.sk-estimator:hover {background-color: #d4ebff;}#sk-container-id-2 div.sk-parallel-item::after {content: \"\";width: 100%;border-bottom: 1px solid gray;flex-grow: 1;}#sk-container-id-2 div.sk-label:hover label.sk-toggleable__label {background-color: #d4ebff;}#sk-container-id-2 div.sk-serial::before {content: \"\";position: absolute;border-left: 1px solid gray;box-sizing: border-box;top: 0;bottom: 0;left: 50%;z-index: 0;}#sk-container-id-2 div.sk-serial {display: flex;flex-direction: column;align-items: center;background-color: white;padding-right: 0.2em;padding-left: 0.2em;position: relative;}#sk-container-id-2 div.sk-item {position: relative;z-index: 1;}#sk-container-id-2 div.sk-parallel {display: flex;align-items: stretch;justify-content: center;background-color: white;position: relative;}#sk-container-id-2 div.sk-item::before, #sk-container-id-2 div.sk-parallel-item::before {content: \"\";position: absolute;border-left: 1px solid gray;box-sizing: border-box;top: 0;bottom: 0;left: 50%;z-index: -1;}#sk-container-id-2 div.sk-parallel-item {display: flex;flex-direction: column;z-index: 1;position: relative;background-color: white;}#sk-container-id-2 div.sk-parallel-item:first-child::after {align-self: flex-end;width: 50%;}#sk-container-id-2 div.sk-parallel-item:last-child::after {align-self: flex-start;width: 50%;}#sk-container-id-2 div.sk-parallel-item:only-child::after {width: 0;}#sk-container-id-2 div.sk-dashed-wrapped {border: 1px dashed gray;margin: 0 0.4em 0.5em 0.4em;box-sizing: border-box;padding-bottom: 0.4em;background-color: white;}#sk-container-id-2 div.sk-label label {font-family: monospace;font-weight: bold;display: inline-block;line-height: 1.2em;}#sk-container-id-2 div.sk-label-container {text-align: center;}#sk-container-id-2 div.sk-container {/* jupyter's `normalize.less` sets `[hidden] { display: none; }` but bootstrap.min.css set `[hidden] { display: none !important; }` so we also need the `!important` here to be able to override the default hidden behavior on the sphinx rendered scikit-learn.org. See: https://github.com/scikit-learn/scikit-learn/issues/21755 */display: inline-block !important;position: relative;}#sk-container-id-2 div.sk-text-repr-fallback {display: none;}</style><div id=\"sk-container-id-2\" class=\"sk-top-container\"><div class=\"sk-text-repr-fallback\"><pre>RandomForestClassifier(random_state=1)</pre><b>In a Jupyter environment, please rerun this cell to show the HTML representation or trust the notebook. <br />On GitHub, the HTML representation is unable to render, please try loading this page with nbviewer.org.</b></div><div class=\"sk-container\" hidden><div class=\"sk-item\"><div class=\"sk-estimator sk-toggleable\"><input class=\"sk-toggleable__control sk-hidden--visually\" id=\"sk-estimator-id-2\" type=\"checkbox\" checked><label for=\"sk-estimator-id-2\" class=\"sk-toggleable__label sk-toggleable__label-arrow\">RandomForestClassifier</label><div class=\"sk-toggleable__content\"><pre>RandomForestClassifier(random_state=1)</pre></div></div></div></div></div>"
      ],
      "text/plain": [
       "RandomForestClassifier(random_state=1)"
      ]
     },
     "execution_count": 85,
     "metadata": {},
     "output_type": "execute_result"
    }
   ],
   "source": [
    "model = RandomForestClassifier(random_state=1) # usaremos el modelo Random Forest\n",
    "model.fit(x_train, y_train) # entrenamos el modelo"
   ]
  },
  {
   "cell_type": "code",
   "execution_count": 86,
   "id": "02a309c1",
   "metadata": {
    "colab": {
     "background_save": true
    },
    "id": "3fcd8727"
   },
   "outputs": [],
   "source": [
    "preds = model.predict(x_test)"
   ]
  },
  {
   "cell_type": "code",
   "execution_count": 87,
   "id": "97cacbf4",
   "metadata": {
    "colab": {
     "background_save": true
    },
    "id": "8295f81c"
   },
   "outputs": [
    {
     "name": "stdout",
     "output_type": "stream",
     "text": [
      "[0 0 0 ... 0 1 0]\n"
     ]
    }
   ],
   "source": [
    "print (preds)"
   ]
  },
  {
   "cell_type": "code",
   "execution_count": 88,
   "id": "3639c584",
   "metadata": {
    "id": "1dc563c6",
    "outputId": "7b4bfc18-0874-49ec-b8e1-4808967bb9bc"
   },
   "outputs": [
    {
     "data": {
      "text/plain": [
       "<sklearn.metrics._plot.confusion_matrix.ConfusionMatrixDisplay at 0x1782370cb80>"
      ]
     },
     "execution_count": 88,
     "metadata": {},
     "output_type": "execute_result"
    },
    {
     "data": {
      "text/plain": [
       "<Figure size 720x432 with 0 Axes>"
      ]
     },
     "metadata": {},
     "output_type": "display_data"
    },
    {
     "data": {
      "image/png": "[encoded data removed]",
      "text/plain": [
       "<Figure size 864x576 with 2 Axes>"
      ]
     },
     "metadata": {},
     "output_type": "display_data"
    }
   ],
   "source": [
    "plt.figure(figsize=(10,6))\n",
    "metrics.plot_confusion_matrix(model, x_test, y_test, display_labels=['Negative', 'Positive'])"
   ]
  },
  {
   "cell_type": "code",
   "execution_count": 89,
   "id": "897478a5",
   "metadata": {
    "id": "1f6e4f43",
    "outputId": "b0a7edc2-41ad-4cd7-beaa-feb90b442a8a",
    "scrolled": true
   },
   "outputs": [
    {
     "name": "stdout",
     "output_type": "stream",
     "text": [
      "              precision    recall  f1-score   support\n",
      "\n",
      "           0       0.92      0.97      0.95     58574\n",
      "           1       0.17      0.06      0.09      5385\n",
      "\n",
      "    accuracy                           0.90     63959\n",
      "   macro avg       0.55      0.52      0.52     63959\n",
      "weighted avg       0.86      0.90      0.87     63959\n",
      "\n"
     ]
    }
   ],
   "source": [
    "print(metrics.classification_report(y_test, preds))"
   ]
  },
  {
   "cell_type": "markdown",
   "id": "1b532413",
   "metadata": {},
   "source": [
    " - Podemos ver que las métricas para la clase 1 (Yes Heart Disease) son bastante malas (muy bajas), incluso peores que las obtenidas realizando el feature engineering manual, es por ello que se debe realizar una mejora importante este modelo obtenido con el feature engineering. Como vimos anteriormente, los datos de nuestro dataset están desbalanceados, lo que realmente afecta mucho a la obtención de buenas métricas."
   ]
  },
  {
   "cell_type": "markdown",
   "id": "7abdcc7f",
   "metadata": {},
   "source": [
    " Si aplicamos el balanceo de clases...."
   ]
  },
  {
   "cell_type": "code",
   "execution_count": 90,
   "id": "a98694b4",
   "metadata": {},
   "outputs": [],
   "source": [
    "# Aplicamos el balanceo de clases al conjunto de datos\n",
    "x_resampled, y_resampled = over_sampler.fit_resample(x, y)"
   ]
  },
  {
   "cell_type": "code",
   "execution_count": 91,
   "id": "3bd37613",
   "metadata": {},
   "outputs": [],
   "source": [
    "x_train, x_test, y_train, y_test = train_test_split(x_resampled,y_resampled,test_size=0.2,random_state=1) # separamos nuestros datos de entrenamiento y testeo"
   ]
  },
  {
   "cell_type": "code",
   "execution_count": 92,
   "id": "25075a3f",
   "metadata": {},
   "outputs": [
    {
     "name": "stdout",
     "output_type": "stream",
     "text": [
      "              precision    recall  f1-score   support\n",
      "\n",
      "           0       0.79      0.78      0.79     58429\n",
      "           1       0.79      0.79      0.79     58540\n",
      "\n",
      "    accuracy                           0.79    116969\n",
      "   macro avg       0.79      0.79      0.79    116969\n",
      "weighted avg       0.79      0.79      0.79    116969\n",
      "\n"
     ]
    }
   ],
   "source": [
    "# Creamos el modelo de árbol de decisión\n",
    "model = DecisionTreeClassifier()\n",
    "\n",
    "# Entrenamos el modelo con los datos de entrenamiento\n",
    "model.fit(x_train, y_train)\n",
    "\n",
    "# Realizamos predicciones con los datos de prueba\n",
    "y_pred = model.predict(x_test)\n",
    "\n",
    "print(metrics.classification_report(y_test, y_pred))"
   ]
  },
  {
   "cell_type": "code",
   "execution_count": 93,
   "id": "6606c68c",
   "metadata": {},
   "outputs": [
    {
     "name": "stdout",
     "output_type": "stream",
     "text": [
      "              precision    recall  f1-score   support\n",
      "\n",
      "           0       0.79      0.79      0.79     58429\n",
      "           1       0.79      0.80      0.79     58540\n",
      "\n",
      "    accuracy                           0.79    116969\n",
      "   macro avg       0.79      0.79      0.79    116969\n",
      "weighted avg       0.79      0.79      0.79    116969\n",
      "\n"
     ]
    }
   ],
   "source": [
    "# Creamos el modelo de Random Forest\n",
    "model = RandomForestClassifier(random_state=1)\n",
    "\n",
    "# Entrenamos el modelo con los datos de entrenamiento\n",
    "model.fit(x_train, y_train)\n",
    "\n",
    "# Realizamos predicciones con los datos de prueba\n",
    "y_pred = model.predict(x_test)\n",
    "\n",
    "\n",
    "print(metrics.classification_report(y_test, y_pred))"
   ]
  },
  {
   "cell_type": "markdown",
   "id": "ea2a2c02",
   "metadata": {},
   "source": [
    "- Se puede observar que, al igual que con el feature engineering manual, al balancear las clases, las métricas mejoran. Pero son mejores las obtenidas utilizando el feature engeneering manual."
   ]
  },
  {
   "cell_type": "code",
   "execution_count": 94,
   "id": "c792f4c8",
   "metadata": {},
   "outputs": [],
   "source": [
    "from sklearn.neighbors import KNeighborsClassifier\n",
    "\n",
    "# Creamos el clasificador KNN con 3 vecinos\n",
    "knn = KNeighborsClassifier(n_neighbors=3)\n",
    "\n",
    "# Entremaos nuestos datos\n",
    "knn.fit(x_train, y_train)\n",
    "\n",
    "# Hacemos predicciones\n",
    "y_pred = knn.predict(x_test)"
   ]
  },
  {
   "cell_type": "code",
   "execution_count": 95,
   "id": "ec564414",
   "metadata": {},
   "outputs": [
    {
     "name": "stdout",
     "output_type": "stream",
     "text": [
      "              precision    recall  f1-score   support\n",
      "\n",
      "           0       0.77      0.70      0.74     58429\n",
      "           1       0.73      0.79      0.76     58540\n",
      "\n",
      "    accuracy                           0.75    116969\n",
      "   macro avg       0.75      0.75      0.75    116969\n",
      "weighted avg       0.75      0.75      0.75    116969\n",
      "\n"
     ]
    }
   ],
   "source": [
    "print(metrics.classification_report(y_test, y_pred))"
   ]
  },
  {
   "cell_type": "markdown",
   "id": "8af7ca4e",
   "metadata": {},
   "source": [
    "- En este caso, usando el Feature Engeneering con las herramientas de Python y las clases balanceadas, los modelos de mejores métricas son Decision Tree y Random Forest."
   ]
  },
  {
   "cell_type": "markdown",
   "id": "488578d8",
   "metadata": {
    "id": "ecff171d"
   },
   "source": [
    "## Quinta Práctica Machine Learning"
   ]
  },
  {
   "cell_type": "markdown",
   "id": "2f00fa39",
   "metadata": {
    "id": "92d49d11"
   },
   "source": [
    "- En esta quinta práctica, se volverá a utlizar la columna creativa \"PatientCode\", es decir, los datos de los pacientes excepto el indice de masa corporal, almacenados en forma de números dentro de una columna y la tercera columna indica \"Yes\" o \"No\" en caso de que pueda ser propensa la persona de contraer una enfermedad cardíaca según los datos estimativos. El dataframe \"dfML\" tiene el indice de masa corporal como primera columna debido a nuestro pensamiento de que es uno de los factores de riesgo más comunes y un valor particular por persona, luego en la segunda columna está el código con los demás datos uno al lado del otro y en la tercera columna la respuesta de \"Yes\" o \"No\". Con este dataframe se probó el algoritmo Decision Tree Classifier, ahora se probará Logistic Regression con respuesta binaria y KNN ( k-nearest neighbors).\n",
    "\n",
    "\n",
    "- El orden de los números de la columna PatientCode es el siguiente:\n",
    "Edad (Categórico del 1 al 13, cada num es un conjunto de edades) + Diabetes (Binario) + Fumador (Binario) + Alcohol (Binario) + Tuvo Infarto (Binario) + Dificultad al Caminar (Binario) + Sexo (Binario) + Genética Heredada (Categórico del 1 al 4) + Asma (Binario)  + Problemas en Riñones (Binario) + Cáncer de Piel (Binario) + Realiza Actividad Física (Binario) "
   ]
  },
  {
   "cell_type": "code",
   "execution_count": 96,
   "id": "9d0419bb",
   "metadata": {
    "id": "fd68c8a2",
    "outputId": "484545c4-b62e-4cb2-b737-d83b7dc54bf6"
   },
   "outputs": [
    {
     "data": {
      "text/html": [
       "<div>\n",
       "<style scoped>\n",
       "    .dataframe tbody tr th:only-of-type {\n",
       "        vertical-align: middle;\n",
       "    }\n",
       "\n",
       "    .dataframe tbody tr th {\n",
       "        vertical-align: top;\n",
       "    }\n",
       "\n",
       "    .dataframe thead th {\n",
       "        text-align: right;\n",
       "    }\n",
       "</style>\n",
       "<table border=\"1\" class=\"dataframe\">\n",
       "  <thead>\n",
       "    <tr style=\"text-align: right;\">\n",
       "      <th></th>\n",
       "      <th>BMI</th>\n",
       "      <th>PatientCode</th>\n",
       "      <th>HeartDisease</th>\n",
       "    </tr>\n",
       "  </thead>\n",
       "  <tbody>\n",
       "    <tr>\n",
       "      <th>0</th>\n",
       "      <td>16.60</td>\n",
       "      <td>811000141011</td>\n",
       "      <td>No</td>\n",
       "    </tr>\n",
       "    <tr>\n",
       "      <th>1</th>\n",
       "      <td>20.34</td>\n",
       "      <td>1300010140001</td>\n",
       "      <td>No</td>\n",
       "    </tr>\n",
       "    <tr>\n",
       "      <th>2</th>\n",
       "      <td>26.58</td>\n",
       "      <td>1011000021001</td>\n",
       "      <td>No</td>\n",
       "    </tr>\n",
       "    <tr>\n",
       "      <th>3</th>\n",
       "      <td>24.21</td>\n",
       "      <td>1200000130010</td>\n",
       "      <td>No</td>\n",
       "    </tr>\n",
       "    <tr>\n",
       "      <th>4</th>\n",
       "      <td>23.71</td>\n",
       "      <td>500001140001</td>\n",
       "      <td>No</td>\n",
       "    </tr>\n",
       "    <tr>\n",
       "      <th>...</th>\n",
       "      <td>...</td>\n",
       "      <td>...</td>\n",
       "      <td>...</td>\n",
       "    </tr>\n",
       "    <tr>\n",
       "      <th>319790</th>\n",
       "      <td>27.41</td>\n",
       "      <td>911001021000</td>\n",
       "      <td>Yes</td>\n",
       "    </tr>\n",
       "    <tr>\n",
       "      <th>319791</th>\n",
       "      <td>29.84</td>\n",
       "      <td>401000041001</td>\n",
       "      <td>No</td>\n",
       "    </tr>\n",
       "    <tr>\n",
       "      <th>319792</th>\n",
       "      <td>24.24</td>\n",
       "      <td>600000130001</td>\n",
       "      <td>No</td>\n",
       "    </tr>\n",
       "    <tr>\n",
       "      <th>319793</th>\n",
       "      <td>32.81</td>\n",
       "      <td>200000130000</td>\n",
       "      <td>No</td>\n",
       "    </tr>\n",
       "    <tr>\n",
       "      <th>319794</th>\n",
       "      <td>46.56</td>\n",
       "      <td>1300000130001</td>\n",
       "      <td>No</td>\n",
       "    </tr>\n",
       "  </tbody>\n",
       "</table>\n",
       "<p>319795 rows × 3 columns</p>\n",
       "</div>"
      ],
      "text/plain": [
       "          BMI    PatientCode HeartDisease\n",
       "0       16.60   811000141011           No\n",
       "1       20.34  1300010140001           No\n",
       "2       26.58  1011000021001           No\n",
       "3       24.21  1200000130010           No\n",
       "4       23.71   500001140001           No\n",
       "...       ...            ...          ...\n",
       "319790  27.41   911001021000          Yes\n",
       "319791  29.84   401000041001           No\n",
       "319792  24.24   600000130001           No\n",
       "319793  32.81   200000130000           No\n",
       "319794  46.56  1300000130001           No\n",
       "\n",
       "[319795 rows x 3 columns]"
      ]
     },
     "execution_count": 96,
     "metadata": {},
     "output_type": "execute_result"
    }
   ],
   "source": [
    "dfML"
   ]
  },
  {
   "cell_type": "code",
   "execution_count": 97,
   "id": "6a06f667",
   "metadata": {
    "id": "47fb56f6"
   },
   "outputs": [
    {
     "data": {
      "text/html": [
       "<div>\n",
       "<style scoped>\n",
       "    .dataframe tbody tr th:only-of-type {\n",
       "        vertical-align: middle;\n",
       "    }\n",
       "\n",
       "    .dataframe tbody tr th {\n",
       "        vertical-align: top;\n",
       "    }\n",
       "\n",
       "    .dataframe thead th {\n",
       "        text-align: right;\n",
       "    }\n",
       "</style>\n",
       "<table border=\"1\" class=\"dataframe\">\n",
       "  <thead>\n",
       "    <tr style=\"text-align: right;\">\n",
       "      <th></th>\n",
       "      <th>BMI</th>\n",
       "      <th>PatientCode</th>\n",
       "      <th>HeartDisease</th>\n",
       "    </tr>\n",
       "  </thead>\n",
       "  <tbody>\n",
       "    <tr>\n",
       "      <th>0</th>\n",
       "      <td>16.60</td>\n",
       "      <td>811000141011</td>\n",
       "      <td>0</td>\n",
       "    </tr>\n",
       "    <tr>\n",
       "      <th>1</th>\n",
       "      <td>20.34</td>\n",
       "      <td>1300010140001</td>\n",
       "      <td>0</td>\n",
       "    </tr>\n",
       "    <tr>\n",
       "      <th>2</th>\n",
       "      <td>26.58</td>\n",
       "      <td>1011000021001</td>\n",
       "      <td>0</td>\n",
       "    </tr>\n",
       "    <tr>\n",
       "      <th>3</th>\n",
       "      <td>24.21</td>\n",
       "      <td>1200000130010</td>\n",
       "      <td>0</td>\n",
       "    </tr>\n",
       "    <tr>\n",
       "      <th>4</th>\n",
       "      <td>23.71</td>\n",
       "      <td>500001140001</td>\n",
       "      <td>0</td>\n",
       "    </tr>\n",
       "    <tr>\n",
       "      <th>...</th>\n",
       "      <td>...</td>\n",
       "      <td>...</td>\n",
       "      <td>...</td>\n",
       "    </tr>\n",
       "    <tr>\n",
       "      <th>319790</th>\n",
       "      <td>27.41</td>\n",
       "      <td>911001021000</td>\n",
       "      <td>1</td>\n",
       "    </tr>\n",
       "    <tr>\n",
       "      <th>319791</th>\n",
       "      <td>29.84</td>\n",
       "      <td>401000041001</td>\n",
       "      <td>0</td>\n",
       "    </tr>\n",
       "    <tr>\n",
       "      <th>319792</th>\n",
       "      <td>24.24</td>\n",
       "      <td>600000130001</td>\n",
       "      <td>0</td>\n",
       "    </tr>\n",
       "    <tr>\n",
       "      <th>319793</th>\n",
       "      <td>32.81</td>\n",
       "      <td>200000130000</td>\n",
       "      <td>0</td>\n",
       "    </tr>\n",
       "    <tr>\n",
       "      <th>319794</th>\n",
       "      <td>46.56</td>\n",
       "      <td>1300000130001</td>\n",
       "      <td>0</td>\n",
       "    </tr>\n",
       "  </tbody>\n",
       "</table>\n",
       "<p>319795 rows × 3 columns</p>\n",
       "</div>"
      ],
      "text/plain": [
       "          BMI    PatientCode HeartDisease\n",
       "0       16.60   811000141011            0\n",
       "1       20.34  1300010140001            0\n",
       "2       26.58  1011000021001            0\n",
       "3       24.21  1200000130010            0\n",
       "4       23.71   500001140001            0\n",
       "...       ...            ...          ...\n",
       "319790  27.41   911001021000            1\n",
       "319791  29.84   401000041001            0\n",
       "319792  24.24   600000130001            0\n",
       "319793  32.81   200000130000            0\n",
       "319794  46.56  1300000130001            0\n",
       "\n",
       "[319795 rows x 3 columns]"
      ]
     },
     "execution_count": 97,
     "metadata": {},
     "output_type": "execute_result"
    }
   ],
   "source": [
    "heart = {'Yes' : '1', 'No' : '0'} \n",
    "\n",
    "dfML['HeartDisease'] = dfML['HeartDisease'].apply(lambda x: heart[x]) # reemplazamos los Yes por 1 y los No por 0\n",
    "dfML"
   ]
  },
  {
   "cell_type": "code",
   "execution_count": 98,
   "id": "f730f0bb",
   "metadata": {
    "id": "7e3c4bda",
    "outputId": "12ff4d02-ec0a-4296-ba43-d544016c2633"
   },
   "outputs": [
    {
     "data": {
      "text/plain": [
       "BMI             float64\n",
       "PatientCode      object\n",
       "HeartDisease     object\n",
       "dtype: object"
      ]
     },
     "execution_count": 98,
     "metadata": {},
     "output_type": "execute_result"
    }
   ],
   "source": [
    "dfML.dtypes"
   ]
  },
  {
   "cell_type": "code",
   "execution_count": 99,
   "id": "1ef82c86",
   "metadata": {},
   "outputs": [],
   "source": [
    "x = dfML.drop(columns=['HeartDisease'])\n",
    "y = dfML['HeartDisease']\n",
    "\n",
    "# Separamos nuestros datos de entrenamiento y testeo\n",
    "\n",
    "x_train, x_test, y_train, y_test = train_test_split(x, y, test_size = 0.2)"
   ]
  },
  {
   "cell_type": "markdown",
   "id": "7cd258f7",
   "metadata": {},
   "source": [
    "#### Utilizando el modelo de Logistic Regression"
   ]
  },
  {
   "cell_type": "code",
   "execution_count": 100,
   "id": "41645b49",
   "metadata": {
    "id": "785b3ffe",
    "outputId": "5406582d-f46b-42f2-aa47-5541414b6654"
   },
   "outputs": [
    {
     "data": {
      "text/html": [
       "<style>#sk-container-id-3 {color: black;background-color: white;}#sk-container-id-3 pre{padding: 0;}#sk-container-id-3 div.sk-toggleable {background-color: white;}#sk-container-id-3 label.sk-toggleable__label {cursor: pointer;display: block;width: 100%;margin-bottom: 0;padding: 0.3em;box-sizing: border-box;text-align: center;}#sk-container-id-3 label.sk-toggleable__label-arrow:before {content: \"▸\";float: left;margin-right: 0.25em;color: #696969;}#sk-container-id-3 label.sk-toggleable__label-arrow:hover:before {color: black;}#sk-container-id-3 div.sk-estimator:hover label.sk-toggleable__label-arrow:before {color: black;}#sk-container-id-3 div.sk-toggleable__content {max-height: 0;max-width: 0;overflow: hidden;text-align: left;background-color: #f0f8ff;}#sk-container-id-3 div.sk-toggleable__content pre {margin: 0.2em;color: black;border-radius: 0.25em;background-color: #f0f8ff;}#sk-container-id-3 input.sk-toggleable__control:checked~div.sk-toggleable__content {max-height: 200px;max-width: 100%;overflow: auto;}#sk-container-id-3 input.sk-toggleable__control:checked~label.sk-toggleable__label-arrow:before {content: \"▾\";}#sk-container-id-3 div.sk-estimator input.sk-toggleable__control:checked~label.sk-toggleable__label {background-color: #d4ebff;}#sk-container-id-3 div.sk-label input.sk-toggleable__control:checked~label.sk-toggleable__label {background-color: #d4ebff;}#sk-container-id-3 input.sk-hidden--visually {border: 0;clip: rect(1px 1px 1px 1px);clip: rect(1px, 1px, 1px, 1px);height: 1px;margin: -1px;overflow: hidden;padding: 0;position: absolute;width: 1px;}#sk-container-id-3 div.sk-estimator {font-family: monospace;background-color: #f0f8ff;border: 1px dotted black;border-radius: 0.25em;box-sizing: border-box;margin-bottom: 0.5em;}#sk-container-id-3 div.sk-estimator:hover {background-color: #d4ebff;}#sk-container-id-3 div.sk-parallel-item::after {content: \"\";width: 100%;border-bottom: 1px solid gray;flex-grow: 1;}#sk-container-id-3 div.sk-label:hover label.sk-toggleable__label {background-color: #d4ebff;}#sk-container-id-3 div.sk-serial::before {content: \"\";position: absolute;border-left: 1px solid gray;box-sizing: border-box;top: 0;bottom: 0;left: 50%;z-index: 0;}#sk-container-id-3 div.sk-serial {display: flex;flex-direction: column;align-items: center;background-color: white;padding-right: 0.2em;padding-left: 0.2em;position: relative;}#sk-container-id-3 div.sk-item {position: relative;z-index: 1;}#sk-container-id-3 div.sk-parallel {display: flex;align-items: stretch;justify-content: center;background-color: white;position: relative;}#sk-container-id-3 div.sk-item::before, #sk-container-id-3 div.sk-parallel-item::before {content: \"\";position: absolute;border-left: 1px solid gray;box-sizing: border-box;top: 0;bottom: 0;left: 50%;z-index: -1;}#sk-container-id-3 div.sk-parallel-item {display: flex;flex-direction: column;z-index: 1;position: relative;background-color: white;}#sk-container-id-3 div.sk-parallel-item:first-child::after {align-self: flex-end;width: 50%;}#sk-container-id-3 div.sk-parallel-item:last-child::after {align-self: flex-start;width: 50%;}#sk-container-id-3 div.sk-parallel-item:only-child::after {width: 0;}#sk-container-id-3 div.sk-dashed-wrapped {border: 1px dashed gray;margin: 0 0.4em 0.5em 0.4em;box-sizing: border-box;padding-bottom: 0.4em;background-color: white;}#sk-container-id-3 div.sk-label label {font-family: monospace;font-weight: bold;display: inline-block;line-height: 1.2em;}#sk-container-id-3 div.sk-label-container {text-align: center;}#sk-container-id-3 div.sk-container {/* jupyter's `normalize.less` sets `[hidden] { display: none; }` but bootstrap.min.css set `[hidden] { display: none !important; }` so we also need the `!important` here to be able to override the default hidden behavior on the sphinx rendered scikit-learn.org. See: https://github.com/scikit-learn/scikit-learn/issues/21755 */display: inline-block !important;position: relative;}#sk-container-id-3 div.sk-text-repr-fallback {display: none;}</style><div id=\"sk-container-id-3\" class=\"sk-top-container\"><div class=\"sk-text-repr-fallback\"><pre>LogisticRegression()</pre><b>In a Jupyter environment, please rerun this cell to show the HTML representation or trust the notebook. <br />On GitHub, the HTML representation is unable to render, please try loading this page with nbviewer.org.</b></div><div class=\"sk-container\" hidden><div class=\"sk-item\"><div class=\"sk-estimator sk-toggleable\"><input class=\"sk-toggleable__control sk-hidden--visually\" id=\"sk-estimator-id-3\" type=\"checkbox\" checked><label for=\"sk-estimator-id-3\" class=\"sk-toggleable__label sk-toggleable__label-arrow\">LogisticRegression</label><div class=\"sk-toggleable__content\"><pre>LogisticRegression()</pre></div></div></div></div></div>"
      ],
      "text/plain": [
       "LogisticRegression()"
      ]
     },
     "execution_count": 100,
     "metadata": {},
     "output_type": "execute_result"
    }
   ],
   "source": [
    "from sklearn.linear_model import LogisticRegression\n",
    "model = LogisticRegression()\n",
    "model.fit(x_train, y_train) # entrenamos nuestros datos de entrenamiento"
   ]
  },
  {
   "cell_type": "code",
   "execution_count": 101,
   "id": "37727a6e",
   "metadata": {
    "id": "5d4901fc",
    "outputId": "67ccb6de-e312-4fd3-c406-467a4287b3fd"
   },
   "outputs": [],
   "source": [
    "y_pred=model.predict(x_test) # predicciones"
   ]
  },
  {
   "cell_type": "code",
   "execution_count": 102,
   "id": "0203e6a5",
   "metadata": {},
   "outputs": [
    {
     "name": "stdout",
     "output_type": "stream",
     "text": [
      "              precision    recall  f1-score   support\n",
      "\n",
      "           0       0.91      1.00      0.95     58415\n",
      "           1       0.00      0.00      0.00      5544\n",
      "\n",
      "    accuracy                           0.91     63959\n",
      "   macro avg       0.46      0.50      0.48     63959\n",
      "weighted avg       0.83      0.91      0.87     63959\n",
      "\n"
     ]
    }
   ],
   "source": [
    "print(metrics.classification_report(y_test, y_pred))"
   ]
  },
  {
   "cell_type": "markdown",
   "id": "4183334a",
   "metadata": {},
   "source": [
    "#### Ahora con el algoritmo KNN"
   ]
  },
  {
   "cell_type": "code",
   "execution_count": 103,
   "id": "8cb206ed",
   "metadata": {},
   "outputs": [],
   "source": [
    "from sklearn.neighbors import KNeighborsClassifier\n",
    "\n",
    "# Creamos un clasificador KNN con 3 vecinos\n",
    "knn = KNeighborsClassifier(n_neighbors=3)\n",
    "\n",
    "# Entremaos nuestos datos\n",
    "knn.fit(x_train, y_train)\n",
    "\n",
    "# Hacemos predicciones\n",
    "y_pred = knn.predict(x_test)"
   ]
  },
  {
   "cell_type": "code",
   "execution_count": 104,
   "id": "94aa3ad4",
   "metadata": {},
   "outputs": [
    {
     "name": "stdout",
     "output_type": "stream",
     "text": [
      "              precision    recall  f1-score   support\n",
      "\n",
      "           0       0.92      0.97      0.95     58415\n",
      "           1       0.33      0.17      0.23      5544\n",
      "\n",
      "    accuracy                           0.90     63959\n",
      "   macro avg       0.63      0.57      0.59     63959\n",
      "weighted avg       0.87      0.90      0.88     63959\n",
      "\n"
     ]
    }
   ],
   "source": [
    "print(metrics.classification_report(y_test, y_pred))"
   ]
  },
  {
   "cell_type": "markdown",
   "id": "8e132967",
   "metadata": {},
   "source": [
    "- Se puede ver que para el modelo de KNN las métricas mejoran con respecto a todos los modelos probados anteriormente. Recordemos que en este caso estamos trabajando con las clases desbalanceadas."
   ]
  },
  {
   "cell_type": "markdown",
   "id": "32bf8caa",
   "metadata": {},
   "source": [
    "# Sexta práctica de Machine Learning"
   ]
  },
  {
   "cell_type": "markdown",
   "id": "95847174",
   "metadata": {},
   "source": [
    "#### En esta práctica usaremos PCA para mejorar la dimensionalidad de nuestro dataset, intentando de este modo mejorar las métricas de nuestro modelo.PCA (Principal Component Analysis) es una técnica de análisis de datos que se utiliza para reducir la dimensionalidad de un conjunto de datos y extraer las características más importantes que capturen la mayor parte de la varianza en los datos. \n"
   ]
  },
  {
   "cell_type": "code",
   "execution_count": 105,
   "id": "1396ca5a",
   "metadata": {},
   "outputs": [
    {
     "data": {
      "text/plain": [
       "array([7.54103509e-01, 7.09864868e-02, 3.14763371e-02, 2.54313445e-02,\n",
       "       1.86580938e-02, 1.34140216e-02, 1.31599300e-02, 1.17226736e-02,\n",
       "       1.01814611e-02, 8.95163035e-03, 7.94403643e-03, 7.22004525e-03,\n",
       "       4.57293768e-03, 3.99430781e-03, 3.80668875e-03, 3.76649749e-03,\n",
       "       2.55400427e-03, 2.48464108e-03, 1.85120034e-03, 1.64613000e-03,\n",
       "       1.05500400e-03, 5.81203095e-04, 2.35287680e-04, 2.02528076e-04,\n",
       "       1.14955238e-32, 4.31065159e-33, 4.31065159e-33, 4.31065159e-33,\n",
       "       4.31065159e-33, 4.31065159e-33, 4.31065159e-33, 4.31065159e-33,\n",
       "       4.31065159e-33, 4.31065159e-33, 4.31065159e-33, 1.61643067e-33])"
      ]
     },
     "execution_count": 105,
     "metadata": {},
     "output_type": "execute_result"
    }
   ],
   "source": [
    "from sklearn.decomposition import PCA\n",
    "pca = PCA()\n",
    "pcaData = pd.DataFrame(pca.fit_transform (df5))\n",
    "pca.explained_variance_ratio_"
   ]
  },
  {
   "cell_type": "code",
   "execution_count": 106,
   "id": "146ee565",
   "metadata": {},
   "outputs": [],
   "source": [
    "# Seleccionamos solo las columnas numéricas del dataframe para aplicar PCA\n",
    "X = df5.select_dtypes(include=['float64', 'int64']).values"
   ]
  },
  {
   "cell_type": "code",
   "execution_count": 107,
   "id": "e1fcf52f",
   "metadata": {},
   "outputs": [
    {
     "data": {
      "image/png": "[encoded data removed]",
      "text/plain": [
       "<Figure size 504x504 with 1 Axes>"
      ]
     },
     "metadata": {},
     "output_type": "display_data"
    }
   ],
   "source": [
    "plt.rcParams['figure.figsize'] = 7, 7\n",
    "plt.plot(np.cumsum(pca.explained_variance_ratio_))\n",
    "plt.xlabel('Variables')\n",
    "plt.ylabel('Ratio of Variance Explained')\n",
    "plt.title('Covertura de variabilidad de las variables')\n",
    "plt.show()"
   ]
  },
  {
   "cell_type": "markdown",
   "id": "7e4b35c3",
   "metadata": {},
   "source": [
    "En base al grafico anterior podemos concluir que con las primeras 4 variables llego al 90 % de explicación de variabilidad"
   ]
  },
  {
   "cell_type": "code",
   "execution_count": 108,
   "id": "82c333bc",
   "metadata": {},
   "outputs": [],
   "source": [
    "# Creamos un objeto PCA con n_components=2 para reducir a dos dimensiones\n",
    "pca = PCA(n_components=6)\n",
    "\n",
    "# Ajustamos el objeto PCA al conjunto de datos X\n",
    "pca.fit(X)\n",
    "\n",
    "# Transformamos el conjunto de datos X utilizando el objeto PCA ajustado\n",
    "X_pca = pca.transform(X)"
   ]
  },
  {
   "cell_type": "code",
   "execution_count": 109,
   "id": "838eead1",
   "metadata": {},
   "outputs": [],
   "source": [
    "x = df5.drop(['HeartD_Yes','HeartD_No'], axis=1)\n",
    "y = df5['HeartD_Yes']"
   ]
  },
  {
   "cell_type": "code",
   "execution_count": 110,
   "id": "9058d0b0",
   "metadata": {},
   "outputs": [],
   "source": [
    "x_train, x_test, y_train, y_test = train_test_split(X_pca,y,test_size = 0.2, random_state = 1)"
   ]
  },
  {
   "cell_type": "code",
   "execution_count": 111,
   "id": "8f9e60f5",
   "metadata": {},
   "outputs": [
    {
     "data": {
      "text/html": [
       "<style>#sk-container-id-4 {color: black;background-color: white;}#sk-container-id-4 pre{padding: 0;}#sk-container-id-4 div.sk-toggleable {background-color: white;}#sk-container-id-4 label.sk-toggleable__label {cursor: pointer;display: block;width: 100%;margin-bottom: 0;padding: 0.3em;box-sizing: border-box;text-align: center;}#sk-container-id-4 label.sk-toggleable__label-arrow:before {content: \"▸\";float: left;margin-right: 0.25em;color: #696969;}#sk-container-id-4 label.sk-toggleable__label-arrow:hover:before {color: black;}#sk-container-id-4 div.sk-estimator:hover label.sk-toggleable__label-arrow:before {color: black;}#sk-container-id-4 div.sk-toggleable__content {max-height: 0;max-width: 0;overflow: hidden;text-align: left;background-color: #f0f8ff;}#sk-container-id-4 div.sk-toggleable__content pre {margin: 0.2em;color: black;border-radius: 0.25em;background-color: #f0f8ff;}#sk-container-id-4 input.sk-toggleable__control:checked~div.sk-toggleable__content {max-height: 200px;max-width: 100%;overflow: auto;}#sk-container-id-4 input.sk-toggleable__control:checked~label.sk-toggleable__label-arrow:before {content: \"▾\";}#sk-container-id-4 div.sk-estimator input.sk-toggleable__control:checked~label.sk-toggleable__label {background-color: #d4ebff;}#sk-container-id-4 div.sk-label input.sk-toggleable__control:checked~label.sk-toggleable__label {background-color: #d4ebff;}#sk-container-id-4 input.sk-hidden--visually {border: 0;clip: rect(1px 1px 1px 1px);clip: rect(1px, 1px, 1px, 1px);height: 1px;margin: -1px;overflow: hidden;padding: 0;position: absolute;width: 1px;}#sk-container-id-4 div.sk-estimator {font-family: monospace;background-color: #f0f8ff;border: 1px dotted black;border-radius: 0.25em;box-sizing: border-box;margin-bottom: 0.5em;}#sk-container-id-4 div.sk-estimator:hover {background-color: #d4ebff;}#sk-container-id-4 div.sk-parallel-item::after {content: \"\";width: 100%;border-bottom: 1px solid gray;flex-grow: 1;}#sk-container-id-4 div.sk-label:hover label.sk-toggleable__label {background-color: #d4ebff;}#sk-container-id-4 div.sk-serial::before {content: \"\";position: absolute;border-left: 1px solid gray;box-sizing: border-box;top: 0;bottom: 0;left: 50%;z-index: 0;}#sk-container-id-4 div.sk-serial {display: flex;flex-direction: column;align-items: center;background-color: white;padding-right: 0.2em;padding-left: 0.2em;position: relative;}#sk-container-id-4 div.sk-item {position: relative;z-index: 1;}#sk-container-id-4 div.sk-parallel {display: flex;align-items: stretch;justify-content: center;background-color: white;position: relative;}#sk-container-id-4 div.sk-item::before, #sk-container-id-4 div.sk-parallel-item::before {content: \"\";position: absolute;border-left: 1px solid gray;box-sizing: border-box;top: 0;bottom: 0;left: 50%;z-index: -1;}#sk-container-id-4 div.sk-parallel-item {display: flex;flex-direction: column;z-index: 1;position: relative;background-color: white;}#sk-container-id-4 div.sk-parallel-item:first-child::after {align-self: flex-end;width: 50%;}#sk-container-id-4 div.sk-parallel-item:last-child::after {align-self: flex-start;width: 50%;}#sk-container-id-4 div.sk-parallel-item:only-child::after {width: 0;}#sk-container-id-4 div.sk-dashed-wrapped {border: 1px dashed gray;margin: 0 0.4em 0.5em 0.4em;box-sizing: border-box;padding-bottom: 0.4em;background-color: white;}#sk-container-id-4 div.sk-label label {font-family: monospace;font-weight: bold;display: inline-block;line-height: 1.2em;}#sk-container-id-4 div.sk-label-container {text-align: center;}#sk-container-id-4 div.sk-container {/* jupyter's `normalize.less` sets `[hidden] { display: none; }` but bootstrap.min.css set `[hidden] { display: none !important; }` so we also need the `!important` here to be able to override the default hidden behavior on the sphinx rendered scikit-learn.org. See: https://github.com/scikit-learn/scikit-learn/issues/21755 */display: inline-block !important;position: relative;}#sk-container-id-4 div.sk-text-repr-fallback {display: none;}</style><div id=\"sk-container-id-4\" class=\"sk-top-container\"><div class=\"sk-text-repr-fallback\"><pre>LogisticRegression()</pre><b>In a Jupyter environment, please rerun this cell to show the HTML representation or trust the notebook. <br />On GitHub, the HTML representation is unable to render, please try loading this page with nbviewer.org.</b></div><div class=\"sk-container\" hidden><div class=\"sk-item\"><div class=\"sk-estimator sk-toggleable\"><input class=\"sk-toggleable__control sk-hidden--visually\" id=\"sk-estimator-id-4\" type=\"checkbox\" checked><label for=\"sk-estimator-id-4\" class=\"sk-toggleable__label sk-toggleable__label-arrow\">LogisticRegression</label><div class=\"sk-toggleable__content\"><pre>LogisticRegression()</pre></div></div></div></div></div>"
      ],
      "text/plain": [
       "LogisticRegression()"
      ]
     },
     "execution_count": 111,
     "metadata": {},
     "output_type": "execute_result"
    }
   ],
   "source": [
    "#Logistic Regression\n",
    "model = LogisticRegression()\n",
    "model.fit(x_train, y_train) "
   ]
  },
  {
   "cell_type": "code",
   "execution_count": 112,
   "id": "881b1462",
   "metadata": {},
   "outputs": [],
   "source": [
    "y_pred=model.predict(x_test) # predicciones"
   ]
  },
  {
   "cell_type": "code",
   "execution_count": 113,
   "id": "cf04d36e",
   "metadata": {},
   "outputs": [
    {
     "name": "stdout",
     "output_type": "stream",
     "text": [
      "              precision    recall  f1-score   support\n",
      "\n",
      "           0       0.92      1.00      0.96     58574\n",
      "           1       0.47      0.04      0.08      5385\n",
      "\n",
      "    accuracy                           0.92     63959\n",
      "   macro avg       0.70      0.52      0.52     63959\n",
      "weighted avg       0.88      0.92      0.88     63959\n",
      "\n"
     ]
    }
   ],
   "source": [
    "print(metrics.classification_report(y_test, y_pred))"
   ]
  },
  {
   "cell_type": "code",
   "execution_count": 114,
   "id": "cf4bbd00",
   "metadata": {},
   "outputs": [],
   "source": [
    "# KNN\n",
    "knn = KNeighborsClassifier(n_neighbors=3)\n",
    "\n",
    "# Entremaos nuestos datos\n",
    "knn.fit(x_train, y_train)\n",
    "\n",
    "# Hacemos predicciones\n",
    "y_pred = knn.predict(x_test)"
   ]
  },
  {
   "cell_type": "code",
   "execution_count": 115,
   "id": "6a7ed950",
   "metadata": {},
   "outputs": [
    {
     "name": "stdout",
     "output_type": "stream",
     "text": [
      "              precision    recall  f1-score   support\n",
      "\n",
      "           0       0.92      0.97      0.94     58574\n",
      "           1       0.26      0.13      0.18      5385\n",
      "\n",
      "    accuracy                           0.90     63959\n",
      "   macro avg       0.59      0.55      0.56     63959\n",
      "weighted avg       0.87      0.90      0.88     63959\n",
      "\n"
     ]
    }
   ],
   "source": [
    "print(metrics.classification_report(y_test, y_pred))"
   ]
  },
  {
   "cell_type": "markdown",
   "id": "d3d88d7c",
   "metadata": {},
   "source": [
    "- Se puede observar que no hay una mejoría importante en las métricas para la clase Yes al usar PCA"
   ]
  },
  {
   "cell_type": "markdown",
   "id": "d36d57a5",
   "metadata": {},
   "source": [
    "## Prueba de Cross Validation"
   ]
  },
  {
   "cell_type": "code",
   "execution_count": 116,
   "id": "c86c95cf",
   "metadata": {},
   "outputs": [
    {
     "name": "stdout",
     "output_type": "stream",
     "text": [
      "Collecting pysparkNote: you may need to restart the kernel to use updated packages.\n",
      "\n",
      "  Downloading pyspark-3.3.1.tar.gz (281.4 MB)\n",
      "Collecting py4j==0.10.9.5\n",
      "  Downloading py4j-0.10.9.5-py2.py3-none-any.whl (199 kB)\n",
      "Building wheels for collected packages: pyspark\n",
      "  Building wheel for pyspark (setup.py): started\n",
      "  Building wheel for pyspark (setup.py): finished with status 'done'\n",
      "  Created wheel for pyspark: filename=pyspark-3.3.1-py2.py3-none-any.whl size=281845525 sha256=fd59880bc632741e1dee58d91ecc0383471263b214df6cabb905031807f989cc\n",
      "  Stored in directory: c:\\users\\pedro\\appdata\\local\\pip\\cache\\wheels\\51\\c8\\18\\298a4ced8ebb3ab8a7d26a7198c0cc7035abb906bde94a4c4b\n",
      "Successfully built pyspark\n",
      "Installing collected packages: py4j, pyspark\n",
      "Successfully installed py4j-0.10.9.5 pyspark-3.3.1\n"
     ]
    }
   ],
   "source": [
    "pip install pyspark"
   ]
  },
  {
   "cell_type": "code",
   "execution_count": 117,
   "id": "9064fa7b",
   "metadata": {},
   "outputs": [
    {
     "name": "stdout",
     "output_type": "stream",
     "text": [
      "Collecting package metadata (current_repodata.json): ...working... done\n",
      "Solving environment: ...working... failed with initial frozen solve. Retrying with flexible solve.\n",
      "Solving environment: ...working... done\n",
      "Collecting package metadata (repodata.json): ...working... done\n",
      "Solving environment: ...working... done\n",
      "\n",
      "## Package Plan ##\n",
      "\n",
      "  environment location: C:\\Users\\Pedro\\anaconda3\n",
      "\n",
      "  added / updated specs:\n",
      "    - pyspark\n",
      "\n",
      "\n",
      "The following packages will be downloaded:\n",
      "\n",
      "    package                    |            build\n",
      "    ---------------------------|-----------------\n",
      "    _anaconda_depends-2022.05  |           py39_0           7 KB\n",
      "    anaconda-custom            |           py39_1           4 KB\n",
      "    arrow-cpp-3.0.0            |   py39h3dd2304_4         4.1 MB\n",
      "    aws-c-common-0.4.57        |       ha925a31_1         147 KB\n",
      "    aws-c-event-stream-0.1.6   |       hd77b12b_5          26 KB\n",
      "    aws-checksums-0.1.9        |       ha925a31_0          50 KB\n",
      "    aws-sdk-cpp-1.8.185        |       hd77b12b_0         2.5 MB\n",
      "    boost-cpp-1.73.0           |      h2bbff1b_11          25 KB\n",
      "    c-ares-1.18.1              |       h2bbff1b_0         110 KB\n",
      "    ca-certificates-2022.10.11 |       haa95532_0         125 KB\n",
      "    certifi-2022.12.7          |   py39haa95532_0         149 KB\n",
      "    double-conversion-3.1.5    |       ha925a31_1         254 KB\n",
      "    gflags-2.2.2               |       ha925a31_0         233 KB\n",
      "    glog-0.5.0                 |       hd77b12b_0          85 KB\n",
      "    grpc-cpp-1.39.0            |       hcec0b6e_5         7.6 MB\n",
      "    joblib-1.1.1               |   py39haa95532_0         383 KB\n",
      "    libboost-1.73.0            |      h6c2663c_11        20.3 MB\n",
      "    libprotobuf-3.17.2         |       h23ce68f_1         1.9 MB\n",
      "    libthrift-0.14.2           |       he1d8c1a_0         674 KB\n",
      "    openssl-1.1.1s             |       h2bbff1b_0         5.5 MB\n",
      "    protobuf-3.17.2            |   py39hd77b12b_0         254 KB\n",
      "    py4j-0.10.9.3              |   py39haa95532_0         252 KB\n",
      "    pyarrow-3.0.0              |   py39h953b917_3         1.6 MB\n",
      "    pyspark-3.2.1              |   py39haa95532_0       263.9 MB\n",
      "    re2-2022.04.01             |       hd77b12b_0         374 KB\n",
      "    scikit-learn-1.1.3         |   py39hd77b12b_0         6.3 MB\n",
      "    uriparser-0.9.3            |       h33f27b4_1          45 KB\n",
      "    utf8proc-2.6.1             |       h2bbff1b_0         312 KB\n",
      "    ------------------------------------------------------------\n",
      "                                           Total:       317.1 MB\n",
      "\n",
      "The following NEW packages will be INSTALLED:\n",
      "\n",
      "  _anaconda_depends  pkgs/main/win-64::_anaconda_depends-2022.05-py39_0\n",
      "  arrow-cpp          pkgs/main/win-64::arrow-cpp-3.0.0-py39h3dd2304_4\n",
      "  aws-c-common       pkgs/main/win-64::aws-c-common-0.4.57-ha925a31_1\n",
      "  aws-c-event-stream pkgs/main/win-64::aws-c-event-stream-0.1.6-hd77b12b_5\n",
      "  aws-checksums      pkgs/main/win-64::aws-checksums-0.1.9-ha925a31_0\n",
      "  aws-sdk-cpp        pkgs/main/win-64::aws-sdk-cpp-1.8.185-hd77b12b_0\n",
      "  boost-cpp          pkgs/main/win-64::boost-cpp-1.73.0-h2bbff1b_11\n",
      "  c-ares             pkgs/main/win-64::c-ares-1.18.1-h2bbff1b_0\n",
      "  double-conversion  pkgs/main/win-64::double-conversion-3.1.5-ha925a31_1\n",
      "  gflags             pkgs/main/win-64::gflags-2.2.2-ha925a31_0\n",
      "  glog               pkgs/main/win-64::glog-0.5.0-hd77b12b_0\n",
      "  grpc-cpp           pkgs/main/win-64::grpc-cpp-1.39.0-hcec0b6e_5\n",
      "  joblib             pkgs/main/win-64::joblib-1.1.1-py39haa95532_0\n",
      "  libboost           pkgs/main/win-64::libboost-1.73.0-h6c2663c_11\n",
      "  libthrift          pkgs/main/win-64::libthrift-0.14.2-he1d8c1a_0\n",
      "  py4j               pkgs/main/win-64::py4j-0.10.9.3-py39haa95532_0\n",
      "  pyarrow            pkgs/main/win-64::pyarrow-3.0.0-py39h953b917_3\n",
      "  pyspark            pkgs/main/win-64::pyspark-3.2.1-py39haa95532_0\n",
      "  re2                pkgs/main/win-64::re2-2022.04.01-hd77b12b_0\n",
      "  scikit-learn       pkgs/main/win-64::scikit-learn-1.1.3-py39hd77b12b_0\n",
      "  uriparser          pkgs/main/win-64::uriparser-0.9.3-h33f27b4_1\n",
      "  utf8proc           pkgs/main/win-64::utf8proc-2.6.1-h2bbff1b_0\n",
      "\n",
      "The following packages will be UPDATED:\n",
      "\n",
      "  ca-certificates                      2022.3.29-haa95532_1 --> 2022.10.11-haa95532_0\n",
      "  certifi                          2021.10.8-py39haa95532_2 --> 2022.12.7-py39haa95532_0\n",
      "  openssl                                 1.1.1n-h2bbff1b_0 --> 1.1.1s-h2bbff1b_0\n",
      "\n",
      "The following packages will be DOWNGRADED:\n",
      "\n",
      "  anaconda                                   2022.05-py39_0 --> custom-py39_1\n",
      "  libprotobuf                             3.19.1-h23ce68f_0 --> 3.17.2-h23ce68f_1\n",
      "  protobuf                            3.19.1-py39hd77b12b_0 --> 3.17.2-py39hd77b12b_0\n",
      "\n",
      "\n",
      "\n",
      "Downloading and Extracting Packages\n",
      "\n",
      "libboost-1.73.0      | 20.3 MB   |            |   0% \n",
      "libboost-1.73.0      | 20.3 MB   |            |   0% \n",
      "libboost-1.73.0      | 20.3 MB   | 3          |   3% \n",
      "libboost-1.73.0      | 20.3 MB   | 9          |  10% \n",
      "libboost-1.73.0      | 20.3 MB   | #5         |  16% \n",
      "libboost-1.73.0      | 20.3 MB   | ##2        |  22% \n",
      "libboost-1.73.0      | 20.3 MB   | ##8        |  29% \n",
      "libboost-1.73.0      | 20.3 MB   | ###5       |  36% \n",
      "libboost-1.73.0      | 20.3 MB   | ####1      |  41% \n",
      "libboost-1.73.0      | 20.3 MB   | ####7      |  48% \n",
      "libboost-1.73.0      | 20.3 MB   | #####3     |  54% \n",
      "libboost-1.73.0      | 20.3 MB   | #####9     |  60% \n",
      "libboost-1.73.0      | 20.3 MB   | ######5    |  66% \n",
      "libboost-1.73.0      | 20.3 MB   | #######1   |  72% \n",
      "libboost-1.73.0      | 20.3 MB   | #######7   |  78% \n",
      "libboost-1.73.0      | 20.3 MB   | ########3  |  84% \n",
      "libboost-1.73.0      | 20.3 MB   | ########9  |  89% \n",
      "libboost-1.73.0      | 20.3 MB   | #########7 |  98% \n",
      "libboost-1.73.0      | 20.3 MB   | ########## | 100% \n",
      "\n",
      "_anaconda_depends-20 | 7 KB      |            |   0% \n",
      "_anaconda_depends-20 | 7 KB      | ########## | 100% \n",
      "\n",
      "pyarrow-3.0.0        | 1.6 MB    |            |   0% \n",
      "pyarrow-3.0.0        | 1.6 MB    | ####3      |  44% \n",
      "pyarrow-3.0.0        | 1.6 MB    | ########## | 100% \n",
      "pyarrow-3.0.0        | 1.6 MB    | ########## | 100% \n",
      "\n",
      "aws-checksums-0.1.9  | 50 KB     |            |   0% \n",
      "aws-checksums-0.1.9  | 50 KB     | ########## | 100% \n",
      "\n",
      "py4j-0.10.9.3        | 252 KB    |            |   0% \n",
      "py4j-0.10.9.3        | 252 KB    | ########## | 100% \n",
      "py4j-0.10.9.3        | 252 KB    | ########## | 100% \n",
      "\n",
      "ca-certificates-2022 | 125 KB    |            |   0% \n",
      "ca-certificates-2022 | 125 KB    | ########## | 100% \n",
      "\n",
      "anaconda-custom      | 4 KB      |            |   0% \n",
      "anaconda-custom      | 4 KB      | ########## | 100% \n",
      "\n",
      "utf8proc-2.6.1       | 312 KB    |            |   0% \n",
      "utf8proc-2.6.1       | 312 KB    | ########## | 100% \n",
      "\n",
      "pyspark-3.2.1        | 263.9 MB  |            |   0% \n",
      "pyspark-3.2.1        | 263.9 MB  |            |   0% \n",
      "pyspark-3.2.1        | 263.9 MB  |            |   1% \n",
      "pyspark-3.2.1        | 263.9 MB  | 1          |   1% \n",
      "pyspark-3.2.1        | 263.9 MB  | 1          |   2% \n",
      "pyspark-3.2.1        | 263.9 MB  | 2          |   2% \n",
      "pyspark-3.2.1        | 263.9 MB  | 2          |   3% \n",
      "pyspark-3.2.1        | 263.9 MB  | 2          |   3% \n",
      "pyspark-3.2.1        | 263.9 MB  | 3          |   3% \n",
      "pyspark-3.2.1        | 263.9 MB  | 3          |   4% \n",
      "pyspark-3.2.1        | 263.9 MB  | 4          |   4% \n",
      "pyspark-3.2.1        | 263.9 MB  | 4          |   5% \n",
      "pyspark-3.2.1        | 263.9 MB  | 5          |   5% \n",
      "pyspark-3.2.1        | 263.9 MB  | 5          |   6% \n",
      "pyspark-3.2.1        | 263.9 MB  | 6          |   6% \n",
      "pyspark-3.2.1        | 263.9 MB  | 6          |   7% \n",
      "pyspark-3.2.1        | 263.9 MB  | 7          |   7% \n",
      "pyspark-3.2.1        | 263.9 MB  | 7          |   8% \n",
      "pyspark-3.2.1        | 263.9 MB  | 8          |   8% \n",
      "pyspark-3.2.1        | 263.9 MB  | 8          |   9% \n",
      "pyspark-3.2.1        | 263.9 MB  | 9          |   9% \n",
      "pyspark-3.2.1        | 263.9 MB  | 9          |  10% \n",
      "pyspark-3.2.1        | 263.9 MB  | #          |  10% \n",
      "pyspark-3.2.1        | 263.9 MB  | #          |  11% \n",
      "pyspark-3.2.1        | 263.9 MB  | #1         |  11% \n",
      "pyspark-3.2.1        | 263.9 MB  | #1         |  12% \n",
      "pyspark-3.2.1        | 263.9 MB  | #2         |  12% \n",
      "pyspark-3.2.1        | 263.9 MB  | #2         |  13% \n",
      "pyspark-3.2.1        | 263.9 MB  | #3         |  13% \n",
      "pyspark-3.2.1        | 263.9 MB  | #3         |  14% \n",
      "pyspark-3.2.1        | 263.9 MB  | #4         |  14% \n",
      "pyspark-3.2.1        | 263.9 MB  | #4         |  15% \n",
      "pyspark-3.2.1        | 263.9 MB  | #5         |  15% \n",
      "pyspark-3.2.1        | 263.9 MB  | #5         |  16% \n",
      "pyspark-3.2.1        | 263.9 MB  | #6         |  16% \n",
      "pyspark-3.2.1        | 263.9 MB  | #6         |  17% \n",
      "Note: you may need to restart the kernel to use updated packages.\n",
      "pyspark-3.2.1        | 263.9 MB  | #7         |  17% \n"
     ]
    },
    {
     "name": "stderr",
     "output_type": "stream",
     "text": [
      "\n",
      "The environment is inconsistent, please check the package plan carefully\n",
      "The following packages are causing the inconsistency:\n",
      "\n",
      "  - defaults/win-64::anaconda==2022.05=py39_0\n",
      "  - defaults/noarch::nltk==3.7=pyhd3eb1b0_0\n",
      "  - defaults/win-64::scikit-learn-intelex==2021.5.0=py39haa95532_0\n",
      "\n",
      "The environment is inconsistent, please check the package plan carefully\n",
      "The following packages are causing the inconsistency:\n",
      "\n",
      "  - defaults/win-64::anaconda==2022.05=py39_0\n",
      "  - defaults/noarch::nltk==3.7=pyhd3eb1b0_0\n",
      "  - defaults/win-64::scikit-learn-intelex==2021.5.0=py39haa95532_0\n",
      "\n",
      "\n",
      "==> WARNING: A newer version of conda exists. <==\n",
      "  current version: 4.12.0\n",
      "  latest version: 22.11.1\n",
      "\n",
      "Please update conda by running\n",
      "\n",
      "    $ conda update -n base -c defaults conda\n",
      "\n",
      "\n"
     ]
    },
    {
     "name": "stdout",
     "output_type": "stream",
     "text": [
      "\n",
      "pyspark-3.2.1        | 263.9 MB  | #7         |  18% \n",
      "pyspark-3.2.1        | 263.9 MB  | #8         |  18% \n",
      "pyspark-3.2.1        | 263.9 MB  | #8         |  18% \n",
      "pyspark-3.2.1        | 263.9 MB  | #9         |  19% \n",
      "pyspark-3.2.1        | 263.9 MB  | #9         |  20% \n",
      "pyspark-3.2.1        | 263.9 MB  | ##         |  20% \n",
      "pyspark-3.2.1        | 263.9 MB  | ##         |  21% \n",
      "pyspark-3.2.1        | 263.9 MB  | ##1        |  21% \n",
      "pyspark-3.2.1        | 263.9 MB  | ##1        |  22% \n",
      "pyspark-3.2.1        | 263.9 MB  | ##2        |  22% \n",
      "pyspark-3.2.1        | 263.9 MB  | ##2        |  23% \n",
      "pyspark-3.2.1        | 263.9 MB  | ##3        |  23% \n",
      "pyspark-3.2.1        | 263.9 MB  | ##3        |  24% \n",
      "pyspark-3.2.1        | 263.9 MB  | ##4        |  24% \n",
      "pyspark-3.2.1        | 263.9 MB  | ##4        |  25% \n",
      "pyspark-3.2.1        | 263.9 MB  | ##5        |  25% \n",
      "pyspark-3.2.1        | 263.9 MB  | ##5        |  26% \n",
      "pyspark-3.2.1        | 263.9 MB  | ##6        |  26% \n",
      "pyspark-3.2.1        | 263.9 MB  | ##6        |  27% \n",
      "pyspark-3.2.1        | 263.9 MB  | ##7        |  27% \n",
      "pyspark-3.2.1        | 263.9 MB  | ##7        |  28% \n",
      "pyspark-3.2.1        | 263.9 MB  | ##8        |  28% \n",
      "pyspark-3.2.1        | 263.9 MB  | ##8        |  29% \n",
      "pyspark-3.2.1        | 263.9 MB  | ##9        |  29% \n",
      "pyspark-3.2.1        | 263.9 MB  | ##9        |  30% \n",
      "pyspark-3.2.1        | 263.9 MB  | ###        |  30% \n",
      "pyspark-3.2.1        | 263.9 MB  | ###        |  31% \n",
      "pyspark-3.2.1        | 263.9 MB  | ###1       |  31% \n",
      "pyspark-3.2.1        | 263.9 MB  | ###1       |  32% \n",
      "pyspark-3.2.1        | 263.9 MB  | ###2       |  32% \n",
      "pyspark-3.2.1        | 263.9 MB  | ###2       |  33% \n",
      "pyspark-3.2.1        | 263.9 MB  | ###3       |  33% \n",
      "pyspark-3.2.1        | 263.9 MB  | ###3       |  34% \n",
      "pyspark-3.2.1        | 263.9 MB  | ###4       |  34% \n",
      "pyspark-3.2.1        | 263.9 MB  | ###4       |  35% \n",
      "pyspark-3.2.1        | 263.9 MB  | ###5       |  35% \n",
      "pyspark-3.2.1        | 263.9 MB  | ###5       |  36% \n",
      "pyspark-3.2.1        | 263.9 MB  | ###6       |  36% \n",
      "pyspark-3.2.1        | 263.9 MB  | ###6       |  37% \n",
      "pyspark-3.2.1        | 263.9 MB  | ###7       |  37% \n",
      "pyspark-3.2.1        | 263.9 MB  | ###7       |  38% \n",
      "pyspark-3.2.1        | 263.9 MB  | ###8       |  38% \n",
      "pyspark-3.2.1        | 263.9 MB  | ###8       |  39% \n",
      "pyspark-3.2.1        | 263.9 MB  | ###9       |  39% \n",
      "pyspark-3.2.1        | 263.9 MB  | ###9       |  40% \n",
      "pyspark-3.2.1        | 263.9 MB  | ####       |  40% \n",
      "pyspark-3.2.1        | 263.9 MB  | ####       |  41% \n",
      "pyspark-3.2.1        | 263.9 MB  | ####1      |  41% \n",
      "pyspark-3.2.1        | 263.9 MB  | ####1      |  42% \n",
      "pyspark-3.2.1        | 263.9 MB  | ####2      |  42% \n",
      "pyspark-3.2.1        | 263.9 MB  | ####2      |  43% \n",
      "pyspark-3.2.1        | 263.9 MB  | ####3      |  43% \n",
      "pyspark-3.2.1        | 263.9 MB  | ####3      |  44% \n",
      "pyspark-3.2.1        | 263.9 MB  | ####4      |  44% \n",
      "pyspark-3.2.1        | 263.9 MB  | ####4      |  45% \n",
      "pyspark-3.2.1        | 263.9 MB  | ####5      |  46% \n",
      "pyspark-3.2.1        | 263.9 MB  | ####6      |  46% \n",
      "pyspark-3.2.1        | 263.9 MB  | ####6      |  47% \n",
      "pyspark-3.2.1        | 263.9 MB  | ####7      |  47% \n",
      "pyspark-3.2.1        | 263.9 MB  | ####7      |  48% \n",
      "pyspark-3.2.1        | 263.9 MB  | ####8      |  48% \n",
      "pyspark-3.2.1        | 263.9 MB  | ####8      |  49% \n",
      "pyspark-3.2.1        | 263.9 MB  | ####9      |  49% \n",
      "pyspark-3.2.1        | 263.9 MB  | ####9      |  50% \n",
      "pyspark-3.2.1        | 263.9 MB  | #####      |  50% \n",
      "pyspark-3.2.1        | 263.9 MB  | #####      |  51% \n",
      "pyspark-3.2.1        | 263.9 MB  | #####1     |  51% \n",
      "pyspark-3.2.1        | 263.9 MB  | #####1     |  52% \n",
      "pyspark-3.2.1        | 263.9 MB  | #####2     |  52% \n",
      "pyspark-3.2.1        | 263.9 MB  | #####2     |  53% \n",
      "pyspark-3.2.1        | 263.9 MB  | #####3     |  53% \n",
      "pyspark-3.2.1        | 263.9 MB  | #####3     |  54% \n",
      "pyspark-3.2.1        | 263.9 MB  | #####4     |  54% \n",
      "pyspark-3.2.1        | 263.9 MB  | #####4     |  55% \n",
      "pyspark-3.2.1        | 263.9 MB  | #####4     |  55% \n",
      "pyspark-3.2.1        | 263.9 MB  | #####5     |  55% \n",
      "pyspark-3.2.1        | 263.9 MB  | #####6     |  56% \n",
      "pyspark-3.2.1        | 263.9 MB  | #####6     |  56% \n",
      "pyspark-3.2.1        | 263.9 MB  | #####6     |  57% \n",
      "pyspark-3.2.1        | 263.9 MB  | #####7     |  57% \n",
      "pyspark-3.2.1        | 263.9 MB  | #####7     |  58% \n",
      "pyspark-3.2.1        | 263.9 MB  | #####8     |  58% \n",
      "pyspark-3.2.1        | 263.9 MB  | #####8     |  59% \n",
      "pyspark-3.2.1        | 263.9 MB  | #####9     |  59% \n",
      "pyspark-3.2.1        | 263.9 MB  | #####9     |  60% \n",
      "pyspark-3.2.1        | 263.9 MB  | ######     |  60% \n",
      "pyspark-3.2.1        | 263.9 MB  | ######     |  61% \n",
      "pyspark-3.2.1        | 263.9 MB  | ######1    |  61% \n",
      "pyspark-3.2.1        | 263.9 MB  | ######1    |  62% \n",
      "pyspark-3.2.1        | 263.9 MB  | ######2    |  62% \n",
      "pyspark-3.2.1        | 263.9 MB  | ######2    |  63% \n",
      "pyspark-3.2.1        | 263.9 MB  | ######3    |  63% \n",
      "pyspark-3.2.1        | 263.9 MB  | ######3    |  64% \n",
      "pyspark-3.2.1        | 263.9 MB  | ######4    |  64% \n",
      "pyspark-3.2.1        | 263.9 MB  | ######4    |  65% \n",
      "pyspark-3.2.1        | 263.9 MB  | ######5    |  65% \n",
      "pyspark-3.2.1        | 263.9 MB  | ######5    |  66% \n",
      "pyspark-3.2.1        | 263.9 MB  | ######6    |  66% \n",
      "pyspark-3.2.1        | 263.9 MB  | ######6    |  67% \n",
      "pyspark-3.2.1        | 263.9 MB  | ######7    |  67% \n",
      "pyspark-3.2.1        | 263.9 MB  | ######7    |  68% \n",
      "pyspark-3.2.1        | 263.9 MB  | ######8    |  68% \n",
      "pyspark-3.2.1        | 263.9 MB  | ######8    |  69% \n",
      "pyspark-3.2.1        | 263.9 MB  | ######9    |  69% \n",
      "pyspark-3.2.1        | 263.9 MB  | #######    |  70% \n",
      "pyspark-3.2.1        | 263.9 MB  | #######    |  71% \n",
      "pyspark-3.2.1        | 263.9 MB  | #######1   |  71% \n",
      "pyspark-3.2.1        | 263.9 MB  | #######1   |  72% \n",
      "pyspark-3.2.1        | 263.9 MB  | #######2   |  72% \n",
      "pyspark-3.2.1        | 263.9 MB  | #######2   |  73% \n",
      "pyspark-3.2.1        | 263.9 MB  | #######3   |  73% \n",
      "pyspark-3.2.1        | 263.9 MB  | #######3   |  74% \n",
      "pyspark-3.2.1        | 263.9 MB  | #######4   |  74% \n",
      "pyspark-3.2.1        | 263.9 MB  | #######4   |  75% \n",
      "pyspark-3.2.1        | 263.9 MB  | #######5   |  75% \n",
      "pyspark-3.2.1        | 263.9 MB  | #######5   |  76% \n",
      "pyspark-3.2.1        | 263.9 MB  | #######6   |  76% \n",
      "pyspark-3.2.1        | 263.9 MB  | #######6   |  77% \n",
      "pyspark-3.2.1        | 263.9 MB  | #######7   |  77% \n",
      "pyspark-3.2.1        | 263.9 MB  | #######7   |  78% \n",
      "pyspark-3.2.1        | 263.9 MB  | #######7   |  78% \n",
      "pyspark-3.2.1        | 263.9 MB  | #######8   |  78% \n",
      "pyspark-3.2.1        | 263.9 MB  | #######8   |  79% \n",
      "pyspark-3.2.1        | 263.9 MB  | #######9   |  79% \n",
      "pyspark-3.2.1        | 263.9 MB  | #######9   |  80% \n",
      "pyspark-3.2.1        | 263.9 MB  | #######9   |  80% \n",
      "pyspark-3.2.1        | 263.9 MB  | ########   |  80% \n",
      "pyspark-3.2.1        | 263.9 MB  | ########   |  81% \n",
      "pyspark-3.2.1        | 263.9 MB  | ########1  |  81% \n",
      "pyspark-3.2.1        | 263.9 MB  | ########1  |  82% \n",
      "pyspark-3.2.1        | 263.9 MB  | ########2  |  82% \n",
      "pyspark-3.2.1        | 263.9 MB  | ########2  |  83% \n",
      "pyspark-3.2.1        | 263.9 MB  | ########3  |  83% \n",
      "pyspark-3.2.1        | 263.9 MB  | ########3  |  84% \n",
      "pyspark-3.2.1        | 263.9 MB  | ########4  |  84% \n",
      "pyspark-3.2.1        | 263.9 MB  | ########5  |  85% \n",
      "pyspark-3.2.1        | 263.9 MB  | ########5  |  86% \n",
      "pyspark-3.2.1        | 263.9 MB  | ########6  |  86% \n",
      "pyspark-3.2.1        | 263.9 MB  | ########6  |  87% \n",
      "pyspark-3.2.1        | 263.9 MB  | ########7  |  87% \n",
      "pyspark-3.2.1        | 263.9 MB  | ########7  |  88% \n",
      "pyspark-3.2.1        | 263.9 MB  | ########8  |  88% \n",
      "pyspark-3.2.1        | 263.9 MB  | ########8  |  89% \n",
      "pyspark-3.2.1        | 263.9 MB  | ########9  |  89% \n",
      "pyspark-3.2.1        | 263.9 MB  | ########9  |  90% \n",
      "pyspark-3.2.1        | 263.9 MB  | #########  |  90% \n",
      "pyspark-3.2.1        | 263.9 MB  | #########  |  91% \n",
      "pyspark-3.2.1        | 263.9 MB  | #########1 |  91% \n",
      "pyspark-3.2.1        | 263.9 MB  | #########1 |  92% \n",
      "pyspark-3.2.1        | 263.9 MB  | #########2 |  92% \n",
      "pyspark-3.2.1        | 263.9 MB  | #########2 |  93% \n",
      "pyspark-3.2.1        | 263.9 MB  | #########3 |  93% \n",
      "pyspark-3.2.1        | 263.9 MB  | #########3 |  94% \n",
      "pyspark-3.2.1        | 263.9 MB  | #########4 |  94% \n",
      "pyspark-3.2.1        | 263.9 MB  | #########4 |  95% \n",
      "pyspark-3.2.1        | 263.9 MB  | #########5 |  95% \n",
      "pyspark-3.2.1        | 263.9 MB  | #########5 |  96% \n",
      "pyspark-3.2.1        | 263.9 MB  | #########6 |  96% \n",
      "pyspark-3.2.1        | 263.9 MB  | #########6 |  97% \n",
      "pyspark-3.2.1        | 263.9 MB  | #########7 |  97% \n",
      "pyspark-3.2.1        | 263.9 MB  | #########7 |  98% \n",
      "pyspark-3.2.1        | 263.9 MB  | #########8 |  98% \n",
      "pyspark-3.2.1        | 263.9 MB  | #########8 |  99% \n",
      "pyspark-3.2.1        | 263.9 MB  | #########9 | 100% \n",
      "pyspark-3.2.1        | 263.9 MB  | ########## | 100% \n",
      "\n",
      "aws-c-common-0.4.57  | 147 KB    |            |   0% \n",
      "aws-c-common-0.4.57  | 147 KB    | ########## | 100% \n",
      "aws-c-common-0.4.57  | 147 KB    | ########## | 100% \n",
      "\n",
      "uriparser-0.9.3      | 45 KB     |            |   0% \n",
      "uriparser-0.9.3      | 45 KB     | ########## | 100% \n",
      "uriparser-0.9.3      | 45 KB     | ########## | 100% \n",
      "\n",
      "openssl-1.1.1s       | 5.5 MB    |            |   0% \n",
      "openssl-1.1.1s       | 5.5 MB    | #7         |  17% \n",
      "openssl-1.1.1s       | 5.5 MB    | ####1      |  41% \n",
      "openssl-1.1.1s       | 5.5 MB    | ######5    |  66% \n",
      "openssl-1.1.1s       | 5.5 MB    | ########9  |  90% \n",
      "openssl-1.1.1s       | 5.5 MB    | ########## | 100% \n",
      "\n",
      "libthrift-0.14.2     | 674 KB    |            |   0% \n",
      "libthrift-0.14.2     | 674 KB    | ########7  |  88% \n",
      "libthrift-0.14.2     | 674 KB    | ########## | 100% \n",
      "\n",
      "aws-sdk-cpp-1.8.185  | 2.5 MB    |            |   0% \n",
      "aws-sdk-cpp-1.8.185  | 2.5 MB    | ###3       |  33% \n",
      "aws-sdk-cpp-1.8.185  | 2.5 MB    | ########5  |  86% \n",
      "aws-sdk-cpp-1.8.185  | 2.5 MB    | ########## | 100% \n",
      "\n",
      "protobuf-3.17.2      | 254 KB    |            |   0% \n",
      "protobuf-3.17.2      | 254 KB    | ########## | 100% \n",
      "protobuf-3.17.2      | 254 KB    | ########## | 100% \n",
      "\n",
      "re2-2022.04.01       | 374 KB    |            |   0% \n",
      "re2-2022.04.01       | 374 KB    | ########## | 100% \n",
      "re2-2022.04.01       | 374 KB    | ########## | 100% \n",
      "\n",
      "glog-0.5.0           | 85 KB     |            |   0% \n",
      "glog-0.5.0           | 85 KB     | ########## | 100% \n",
      "glog-0.5.0           | 85 KB     | ########## | 100% \n",
      "\n",
      "grpc-cpp-1.39.0      | 7.6 MB    |            |   0% \n",
      "grpc-cpp-1.39.0      | 7.6 MB    | #          |  10% \n",
      "grpc-cpp-1.39.0      | 7.6 MB    | ##7        |  28% \n",
      "grpc-cpp-1.39.0      | 7.6 MB    | ####5      |  46% \n",
      "grpc-cpp-1.39.0      | 7.6 MB    | ######1    |  62% \n",
      "grpc-cpp-1.39.0      | 7.6 MB    | #######6   |  77% \n",
      "grpc-cpp-1.39.0      | 7.6 MB    | #########2 |  92% \n",
      "grpc-cpp-1.39.0      | 7.6 MB    | ########## | 100% \n",
      "\n",
      "aws-c-event-stream-0 | 26 KB     |            |   0% \n",
      "aws-c-event-stream-0 | 26 KB     | ########## | 100% \n",
      "\n",
      "gflags-2.2.2         | 233 KB    |            |   0% \n",
      "gflags-2.2.2         | 233 KB    | ########## | 100% \n",
      "\n",
      "certifi-2022.12.7    | 149 KB    |            |   0% \n",
      "certifi-2022.12.7    | 149 KB    | ########## | 100% \n",
      "\n",
      "libprotobuf-3.17.2   | 1.9 MB    |            |   0% \n",
      "libprotobuf-3.17.2   | 1.9 MB    | ####6      |  46% \n",
      "libprotobuf-3.17.2   | 1.9 MB    | ########## | 100% \n",
      "libprotobuf-3.17.2   | 1.9 MB    | ########## | 100% \n",
      "\n",
      "arrow-cpp-3.0.0      | 4.1 MB    |            |   0% \n",
      "arrow-cpp-3.0.0      | 4.1 MB    | #9         |  20% \n",
      "arrow-cpp-3.0.0      | 4.1 MB    | #####2     |  53% \n",
      "arrow-cpp-3.0.0      | 4.1 MB    | ########4  |  84% \n",
      "arrow-cpp-3.0.0      | 4.1 MB    | ########## | 100% \n",
      "\n",
      "double-conversion-3. | 254 KB    |            |   0% \n",
      "double-conversion-3. | 254 KB    | ########## | 100% \n",
      "\n",
      "scikit-learn-1.1.3   | 6.3 MB    |            |   0% \n",
      "scikit-learn-1.1.3   | 6.3 MB    |            |   0% \n",
      "scikit-learn-1.1.3   | 6.3 MB    | 2          |   3% \n",
      "scikit-learn-1.1.3   | 6.3 MB    | 6          |   6% \n",
      "scikit-learn-1.1.3   | 6.3 MB    | #3         |  13% \n",
      "scikit-learn-1.1.3   | 6.3 MB    | ##5        |  25% \n",
      "scikit-learn-1.1.3   | 6.3 MB    | ####2      |  42% \n",
      "scikit-learn-1.1.3   | 6.3 MB    | ######2    |  63% \n",
      "scikit-learn-1.1.3   | 6.3 MB    | ########1  |  82% \n",
      "scikit-learn-1.1.3   | 6.3 MB    | ########## | 100% \n",
      "scikit-learn-1.1.3   | 6.3 MB    | ########## | 100% \n",
      "\n",
      "boost-cpp-1.73.0     | 25 KB     |            |   0% \n",
      "boost-cpp-1.73.0     | 25 KB     | ########## | 100% \n",
      "\n",
      "joblib-1.1.1         | 383 KB    |            |   0% \n",
      "joblib-1.1.1         | 383 KB    | ########## | 100% \n",
      "joblib-1.1.1         | 383 KB    | ########## | 100% \n",
      "\n",
      "c-ares-1.18.1        | 110 KB    |            |   0% \n",
      "c-ares-1.18.1        | 110 KB    | ########## | 100% \n",
      "c-ares-1.18.1        | 110 KB    | ########## | 100% \n",
      "Preparing transaction: ...working... done\n",
      "Verifying transaction: ...working... done\n",
      "Executing transaction: ...working... \n",
      "\n",
      "    Windows 64-bit packages of scikit-learn can be accelerated using scikit-learn-intelex.\n",
      "    More details are available here: https://intel.github.io/scikit-learn-intelex\n",
      "\n",
      "    For example:\n",
      "\n",
      "        $ conda install scikit-learn-intelex\n",
      "        $ python -m sklearnex my_application.py\n",
      "\n",
      "\n",
      "done\n"
     ]
    }
   ],
   "source": [
    "conda install pyspark"
   ]
  },
  {
   "cell_type": "code",
   "execution_count": 118,
   "id": "a6039e24",
   "metadata": {
    "scrolled": true
   },
   "outputs": [
    {
     "name": "stdout",
     "output_type": "stream",
     "text": [
      "Collecting BinaryClassificationMetrics\n",
      "  Downloading BinaryClassificationMetrics-0.0.5.tar.gz (1.9 kB)\n",
      "Building wheels for collected packages: BinaryClassificationMetrics\n",
      "  Building wheel for BinaryClassificationMetrics (setup.py): started\n",
      "  Building wheel for BinaryClassificationMetrics (setup.py): finished with status 'done'\n",
      "  Created wheel for BinaryClassificationMetrics: filename=BinaryClassificationMetrics-0.0.5-py3-none-any.whl size=2641 sha256=65de20d5fbf6e41c041e3c400432663e7f5882495305e6b4ca2069d312295bd1\n",
      "  Stored in directory: c:\\users\\pedro\\appdata\\local\\pip\\cache\\wheels\\8f\\fd\\29\\168a4f3d6627f0b0b09bb8e01a8ca56f8b7707d0981665de54\n",
      "Successfully built BinaryClassificationMetrics\n",
      "Installing collected packages: BinaryClassificationMetrics\n",
      "Successfully installed BinaryClassificationMetrics-0.0.5\n",
      "Note: you may need to restart the kernel to use updated packages.\n"
     ]
    }
   ],
   "source": [
    "pip install BinaryClassificationMetrics"
   ]
  },
  {
   "cell_type": "code",
   "execution_count": 119,
   "id": "57ff9205",
   "metadata": {
    "scrolled": true
   },
   "outputs": [
    {
     "name": "stdout",
     "output_type": "stream",
     "text": [
      "Collecting ml.evaluation\n",
      "  Downloading ml_evaluation-0.0.1-py3-none-any.whl (1.2 kB)\n",
      "Installing collected packages: ml.evaluation\n",
      "Successfully installed ml.evaluation-0.0.1\n",
      "Note: you may need to restart the kernel to use updated packages.\n"
     ]
    }
   ],
   "source": [
    "pip install ml.evaluation "
   ]
  },
  {
   "cell_type": "code",
   "execution_count": 121,
   "id": "ac1c1cf9",
   "metadata": {},
   "outputs": [
    {
     "name": "stdout",
     "output_type": "stream",
     "text": [
      "Mean score: 0.916\n",
      "Standard deviation: 0.000\n"
     ]
    }
   ],
   "source": [
    "from sklearn.model_selection import cross_val_score\n",
    "\n",
    "# Crear el modelo\n",
    "model = LogisticRegression()\n",
    "\n",
    "# Dividir en X (features) e y (target)\n",
    "X = df5.drop(['HeartD_Yes','HeartD_No'], axis=1)\n",
    "y = df5['HeartD_Yes']\n",
    "\n",
    "# Se usa el cross_val_score para evaluar el modelo usando 5 divisiones\n",
    "scores = cross_val_score(model, X, y, cv=5)\n",
    "\n",
    "# Se imprime el mean and standard deviation de las métricas\n",
    "print(f'Mean score: {scores.mean():.3f}')\n",
    "print(f'Standard deviation: {scores.std():.3f}')\n",
    "\n",
    "    \n",
    "\n"
   ]
  },
  {
   "cell_type": "markdown",
   "id": "710d5234",
   "metadata": {},
   "source": [
    "## Saber si el Conjunto de Datos es Overfitting o Underfitting"
   ]
  },
  {
   "cell_type": "code",
   "execution_count": 125,
   "id": "5c3ed297",
   "metadata": {},
   "outputs": [
    {
     "name": "stdout",
     "output_type": "stream",
     "text": [
      "Test accuracy: 0.92\n",
      "Train accuracy: 0.91\n",
      "Model is overfitting\n"
     ]
    }
   ],
   "source": [
    "# Importar las librerías necesarias\n",
    "from sklearn.linear_model import LogisticRegression\n",
    "from sklearn.metrics import accuracy_score\n",
    "\n",
    "# Entrenar el modelo con los datos de entrenamiento\n",
    "model = LogisticRegression()\n",
    "model.fit(x_train, y_train)\n",
    "\n",
    "# Hacer predicciones con el modelo en el conjunto de prueba\n",
    "y_pred = model.predict(x_test)\n",
    "\n",
    "# Calcular la precisión del modelo en el conjunto de prueba\n",
    "test_accuracy = accuracy_score(y_test, y_pred)\n",
    "print(\"Test accuracy: {:.2f}\".format(test_accuracy))\n",
    "\n",
    "# Hacer predicciones con el modelo en el conjunto de entrenamiento\n",
    "y_pred_train = model.predict(x_train)\n",
    "\n",
    "# Calcular la precisión del modelo en el conjunto de entrenamiento\n",
    "train_accuracy = accuracy_score(y_train, y_pred_train)\n",
    "print(\"Train accuracy: {:.2f}\".format(train_accuracy))\n",
    "\n",
    "# Comparar la precisión en el conjunto de entrenamiento y de prueba\n",
    "if test_accuracy > train_accuracy:\n",
    "  print(\"Model is overfitting\")\n",
    "elif test_accuracy < train_accuracy:\n",
    "  print(\"Model is underfitting\")\n",
    "else:\n",
    "  print(\"Model is neither underfitting nor overfitting\")"
   ]
  },
  {
   "cell_type": "markdown",
   "id": "88a26698",
   "metadata": {},
   "source": [
    "# CONCLUSIONES FINALES"
   ]
  },
  {
   "cell_type": "markdown",
   "id": "460644a5",
   "metadata": {},
   "source": [
    "- A lo largo de este proyecto se trabajó con la lectura del data set elegido, se realizaron las hipótesis y mediante exploración de datos con gráficos y tablas se empezaron a comprender con mayor profundidad, de modo de ir respondiendo las hipótesis y sacando valiosos insights. transformamos nuestros datos para darle una mejor performance a nuestro modelo. Trabajamos con distintos modelos, algunos más simples y otros más complejos, adecuados para nuestro problema de clasificación. Utilizamos distintas métricas, adecuadas a nuestro modelo de clasificación, para evaluar la performance de los modelos que fuimos probando, para poder elegir el mejor.\n",
    "\n",
    "\n",
    "- En la primera práctica de Machine Learning se convirtieron las columnas para el modelado de forma manual, realizando un concepto creativo de \"Patient Code\" en una columna que guarda los datos de cada paciente categorizándolos de manera númerica, luego a partir de una nueva tabla organizada se ejecutaron el modelo Decision Tree Classifier.\n",
    "\n",
    "\n",
    "- En la segunda práctica de Machine Learning se buscaron algoritmos para poder balancear este dataset de salud empleando Undersampling y Oversampling , aplicados a los modelos de Decision Tree y Random Forest, y utilizando métricas de recall, precisión y f1 score para evaluar la performance de cada modelo empleado.\n",
    "\n",
    "\n",
    "- Nuestro set de datos tiene un desbalanceo de clases. El desbalanceo de clases es un factor muy importante, notamos la gran influencia en las métricas. Cuando trabajamos con el set de datos desbalanceado, las métricas dan muy bajas para la clase 1 (Yes Heart Disease).  Al balancear los datos, tanto con el modelo de arbol de decisión como con el Random Forest obtuvimos una gran mejoría en las métricas.\n",
    "\n",
    "\n",
    "- En la tercera práctica de Machine Learning, se realizó en encoding de una forma más automática de Python, con Get Dummies y la transformación numérica ordinal, y la normalización de ciertas columnas, luego se volvieron a utilizar los algortimos Decision Tree y Random Forest para probar esta nueva variación, obteniéndose métricas muy bajas. A continuación se aplicó el balanceo de clases y usando los mismos modelos mejoraron notablemente las métricas.\n",
    "\n",
    "\n",
    "- Se puede ver que para el modelo de KNN las métricas mejoran visiblemente con respecto a todos los modelos probados anteriormente. Y aún mejoran más usando el balanceo de clases y el modelo KNN.\n",
    "\n",
    "\n",
    "- Al aplicar el feature engineering de manera manual se obtuvieron mejores métricas que al hacerlo con las herramientas más automáticas que brinda Python.\n",
    "\n",
    "\n",
    "- En este caso, usando el Feature Engeneering con las herramientas de Python y las clases balanceadas, los modelos de mejores métricas son Decision Tree y Random Forest.\n",
    "\n",
    "\n",
    "- El PCA no mejora nuestras métricas más de lo que lográbamos con feature engennering manual.\n",
    "\n",
    "\n"
   ]
  }
 ],
 "metadata": {
  "colab": {
   "name": "",
   "version": ""
  },
  "kernelspec": {
   "display_name": "Python 3 (ipykernel)",
   "language": "python",
   "name": "python3"
  },
  "language_info": {
   "codemirror_mode": {
    "name": "ipython",
    "version": 3
   },
   "file_extension": ".py",
   "mimetype": "text/x-python",
   "name": "python",
   "nbconvert_exporter": "python",
   "pygments_lexer": "ipython3",
   "version": "3.9.12"
  }
 },
 "nbformat": 4,
 "nbformat_minor": 5
}
